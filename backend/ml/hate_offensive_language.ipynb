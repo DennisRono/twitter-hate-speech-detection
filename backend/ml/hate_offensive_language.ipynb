{
  "cells": [
    {
      "cell_type": "code",
      "execution_count": 52,
      "metadata": {
        "_cell_guid": "b1076dfc-b9ad-4769-8c92-a6c4dae69d19",
        "_uuid": "8f2839f25d086af736a60e9eeb907d3b93b6e0e5",
        "execution": {
          "iopub.execute_input": "2021-05-26T06:22:53.019301Z",
          "iopub.status.busy": "2021-05-26T06:22:53.01871Z",
          "iopub.status.idle": "2021-05-26T06:22:53.064108Z",
          "shell.execute_reply": "2021-05-26T06:22:53.063082Z",
          "shell.execute_reply.started": "2021-05-26T06:22:53.019137Z"
        },
        "id": "GubzbNfuuMZ-",
        "trusted": true
      },
      "outputs": [],
      "source": [
        "import numpy as np \n",
        "import pandas as pd"
      ]
    },
    {
      "cell_type": "code",
      "execution_count": 53,
      "metadata": {
        "execution": {
          "iopub.execute_input": "2021-05-26T06:22:53.068301Z",
          "iopub.status.busy": "2021-05-26T06:22:53.06799Z",
          "iopub.status.idle": "2021-05-26T06:22:53.183671Z",
          "shell.execute_reply": "2021-05-26T06:22:53.182634Z",
          "shell.execute_reply.started": "2021-05-26T06:22:53.068255Z"
        },
        "id": "mo-zP8FZuMaA",
        "trusted": true
      },
      "outputs": [],
      "source": [
        "df_twitter=pd.read_csv(\"hate_dataset/train.csv\")"
      ]
    },
    {
      "cell_type": "code",
      "execution_count": 54,
      "metadata": {
        "colab": {
          "base_uri": "https://localhost:8080/",
          "height": 206
        },
        "execution": {
          "iopub.execute_input": "2021-05-26T06:22:53.185804Z",
          "iopub.status.busy": "2021-05-26T06:22:53.185296Z",
          "iopub.status.idle": "2021-05-26T06:22:53.212576Z",
          "shell.execute_reply": "2021-05-26T06:22:53.211018Z",
          "shell.execute_reply.started": "2021-05-26T06:22:53.185757Z"
        },
        "id": "cFqZ4mhduMaA",
        "outputId": "e2237663-1ebd-452c-93fc-874ae1150eb9",
        "trusted": true
      },
      "outputs": [
        {
          "data": {
            "text/html": [
              "<div>\n",
              "<style scoped>\n",
              "    .dataframe tbody tr th:only-of-type {\n",
              "        vertical-align: middle;\n",
              "    }\n",
              "\n",
              "    .dataframe tbody tr th {\n",
              "        vertical-align: top;\n",
              "    }\n",
              "\n",
              "    .dataframe thead th {\n",
              "        text-align: right;\n",
              "    }\n",
              "</style>\n",
              "<table border=\"1\" class=\"dataframe\">\n",
              "  <thead>\n",
              "    <tr style=\"text-align: right;\">\n",
              "      <th></th>\n",
              "      <th>id</th>\n",
              "      <th>label</th>\n",
              "      <th>tweet</th>\n",
              "    </tr>\n",
              "  </thead>\n",
              "  <tbody>\n",
              "    <tr>\n",
              "      <th>0</th>\n",
              "      <td>1</td>\n",
              "      <td>0</td>\n",
              "      <td>@user when a father is dysfunctional and is s...</td>\n",
              "    </tr>\n",
              "    <tr>\n",
              "      <th>1</th>\n",
              "      <td>2</td>\n",
              "      <td>0</td>\n",
              "      <td>@user @user thanks for #lyft credit i can't us...</td>\n",
              "    </tr>\n",
              "    <tr>\n",
              "      <th>2</th>\n",
              "      <td>3</td>\n",
              "      <td>0</td>\n",
              "      <td>bihday your majesty</td>\n",
              "    </tr>\n",
              "    <tr>\n",
              "      <th>3</th>\n",
              "      <td>4</td>\n",
              "      <td>0</td>\n",
              "      <td>#model   i love u take with u all the time in ...</td>\n",
              "    </tr>\n",
              "    <tr>\n",
              "      <th>4</th>\n",
              "      <td>5</td>\n",
              "      <td>0</td>\n",
              "      <td>factsguide: society now    #motivation</td>\n",
              "    </tr>\n",
              "  </tbody>\n",
              "</table>\n",
              "</div>"
            ],
            "text/plain": [
              "   id  label                                              tweet\n",
              "0   1      0   @user when a father is dysfunctional and is s...\n",
              "1   2      0  @user @user thanks for #lyft credit i can't us...\n",
              "2   3      0                                bihday your majesty\n",
              "3   4      0  #model   i love u take with u all the time in ...\n",
              "4   5      0             factsguide: society now    #motivation"
            ]
          },
          "execution_count": 54,
          "metadata": {},
          "output_type": "execute_result"
        }
      ],
      "source": [
        "df_twitter.head()"
      ]
    },
    {
      "cell_type": "code",
      "execution_count": 55,
      "metadata": {
        "colab": {
          "base_uri": "https://localhost:8080/",
          "height": 351
        },
        "execution": {
          "iopub.execute_input": "2021-05-26T06:22:53.216123Z",
          "iopub.status.busy": "2021-05-26T06:22:53.215664Z",
          "iopub.status.idle": "2021-05-26T06:22:54.322764Z",
          "shell.execute_reply": "2021-05-26T06:22:54.321327Z",
          "shell.execute_reply.started": "2021-05-26T06:22:53.216079Z"
        },
        "id": "PgMlqQRwuMaB",
        "outputId": "b00f9a9b-ff42-4726-c923-92aa0ccdebca",
        "trusted": true
      },
      "outputs": [],
      "source": [
        "import seaborn as sns\n",
        "# sns.countplot('label',data=df_twitter)"
      ]
    },
    {
      "cell_type": "code",
      "execution_count": 56,
      "metadata": {
        "colab": {
          "base_uri": "https://localhost:8080/"
        },
        "execution": {
          "iopub.execute_input": "2021-05-26T06:22:54.326475Z",
          "iopub.status.busy": "2021-05-26T06:22:54.325942Z",
          "iopub.status.idle": "2021-05-26T06:22:54.335906Z",
          "shell.execute_reply": "2021-05-26T06:22:54.334481Z",
          "shell.execute_reply.started": "2021-05-26T06:22:54.326411Z"
        },
        "id": "UneMpXFPuMaB",
        "outputId": "d8ee389b-099b-40d3-83e2-8a59230b8c4a",
        "trusted": true
      },
      "outputs": [
        {
          "data": {
            "text/plain": [
              "(31962, 3)"
            ]
          },
          "execution_count": 56,
          "metadata": {},
          "output_type": "execute_result"
        }
      ],
      "source": [
        "df_twitter.shape"
      ]
    },
    {
      "cell_type": "code",
      "execution_count": 57,
      "metadata": {
        "colab": {
          "base_uri": "https://localhost:8080/"
        },
        "execution": {
          "iopub.execute_input": "2021-05-26T06:22:54.338716Z",
          "iopub.status.busy": "2021-05-26T06:22:54.337836Z",
          "iopub.status.idle": "2021-05-26T06:22:54.356748Z",
          "shell.execute_reply": "2021-05-26T06:22:54.355544Z",
          "shell.execute_reply.started": "2021-05-26T06:22:54.338668Z"
        },
        "id": "_0rbRg6tuMaC",
        "outputId": "2b031c2a-a600-4bb4-b9a8-49ad9b069e57",
        "trusted": true
      },
      "outputs": [
        {
          "data": {
            "text/plain": [
              "id       0\n",
              "label    0\n",
              "tweet    0\n",
              "dtype: int64"
            ]
          },
          "execution_count": 57,
          "metadata": {},
          "output_type": "execute_result"
        }
      ],
      "source": [
        "df_twitter.isnull().sum()"
      ]
    },
    {
      "cell_type": "code",
      "execution_count": 58,
      "metadata": {
        "execution": {
          "iopub.execute_input": "2021-05-26T06:22:54.359577Z",
          "iopub.status.busy": "2021-05-26T06:22:54.359007Z",
          "iopub.status.idle": "2021-05-26T06:22:54.368563Z",
          "shell.execute_reply": "2021-05-26T06:22:54.367125Z",
          "shell.execute_reply.started": "2021-05-26T06:22:54.359533Z"
        },
        "id": "DErP8zo1uMaC",
        "trusted": true
      },
      "outputs": [],
      "source": [
        "df_twitter.drop('id',axis=1,inplace=True)"
      ]
    },
    {
      "cell_type": "code",
      "execution_count": 59,
      "metadata": {
        "execution": {
          "iopub.execute_input": "2021-05-26T06:22:54.372025Z",
          "iopub.status.busy": "2021-05-26T06:22:54.371025Z",
          "iopub.status.idle": "2021-05-26T06:22:54.458831Z",
          "shell.execute_reply": "2021-05-26T06:22:54.457632Z",
          "shell.execute_reply.started": "2021-05-26T06:22:54.371981Z"
        },
        "id": "k_xsUpPfuMaC",
        "trusted": true
      },
      "outputs": [],
      "source": [
        "df_offensive=pd.read_csv(\"hate_dataset/labeled_data.csv\")"
      ]
    },
    {
      "cell_type": "code",
      "execution_count": 60,
      "metadata": {
        "colab": {
          "base_uri": "https://localhost:8080/",
          "height": 206
        },
        "execution": {
          "iopub.execute_input": "2021-05-26T06:22:54.462404Z",
          "iopub.status.busy": "2021-05-26T06:22:54.461599Z",
          "iopub.status.idle": "2021-05-26T06:22:54.479071Z",
          "shell.execute_reply": "2021-05-26T06:22:54.477814Z",
          "shell.execute_reply.started": "2021-05-26T06:22:54.462343Z"
        },
        "id": "kuZmJ_VguMaC",
        "outputId": "e591239d-fd4f-43f1-f325-54ed42e3a998",
        "trusted": true
      },
      "outputs": [
        {
          "data": {
            "text/html": [
              "<div>\n",
              "<style scoped>\n",
              "    .dataframe tbody tr th:only-of-type {\n",
              "        vertical-align: middle;\n",
              "    }\n",
              "\n",
              "    .dataframe tbody tr th {\n",
              "        vertical-align: top;\n",
              "    }\n",
              "\n",
              "    .dataframe thead th {\n",
              "        text-align: right;\n",
              "    }\n",
              "</style>\n",
              "<table border=\"1\" class=\"dataframe\">\n",
              "  <thead>\n",
              "    <tr style=\"text-align: right;\">\n",
              "      <th></th>\n",
              "      <th>Unnamed: 0</th>\n",
              "      <th>count</th>\n",
              "      <th>hate_speech</th>\n",
              "      <th>offensive_language</th>\n",
              "      <th>neither</th>\n",
              "      <th>class</th>\n",
              "      <th>tweet</th>\n",
              "    </tr>\n",
              "  </thead>\n",
              "  <tbody>\n",
              "    <tr>\n",
              "      <th>0</th>\n",
              "      <td>0</td>\n",
              "      <td>3</td>\n",
              "      <td>0</td>\n",
              "      <td>0</td>\n",
              "      <td>3</td>\n",
              "      <td>2</td>\n",
              "      <td>!!! RT @mayasolovely: As a woman you shouldn't...</td>\n",
              "    </tr>\n",
              "    <tr>\n",
              "      <th>1</th>\n",
              "      <td>1</td>\n",
              "      <td>3</td>\n",
              "      <td>0</td>\n",
              "      <td>3</td>\n",
              "      <td>0</td>\n",
              "      <td>1</td>\n",
              "      <td>!!!!! RT @mleew17: boy dats cold...tyga dwn ba...</td>\n",
              "    </tr>\n",
              "    <tr>\n",
              "      <th>2</th>\n",
              "      <td>2</td>\n",
              "      <td>3</td>\n",
              "      <td>0</td>\n",
              "      <td>3</td>\n",
              "      <td>0</td>\n",
              "      <td>1</td>\n",
              "      <td>!!!!!!! RT @UrKindOfBrand Dawg!!!! RT @80sbaby...</td>\n",
              "    </tr>\n",
              "    <tr>\n",
              "      <th>3</th>\n",
              "      <td>3</td>\n",
              "      <td>3</td>\n",
              "      <td>0</td>\n",
              "      <td>2</td>\n",
              "      <td>1</td>\n",
              "      <td>1</td>\n",
              "      <td>!!!!!!!!! RT @C_G_Anderson: @viva_based she lo...</td>\n",
              "    </tr>\n",
              "    <tr>\n",
              "      <th>4</th>\n",
              "      <td>4</td>\n",
              "      <td>6</td>\n",
              "      <td>0</td>\n",
              "      <td>6</td>\n",
              "      <td>0</td>\n",
              "      <td>1</td>\n",
              "      <td>!!!!!!!!!!!!! RT @ShenikaRoberts: The shit you...</td>\n",
              "    </tr>\n",
              "  </tbody>\n",
              "</table>\n",
              "</div>"
            ],
            "text/plain": [
              "   Unnamed: 0  count  hate_speech  offensive_language  neither  class  \\\n",
              "0           0      3            0                   0        3      2   \n",
              "1           1      3            0                   3        0      1   \n",
              "2           2      3            0                   3        0      1   \n",
              "3           3      3            0                   2        1      1   \n",
              "4           4      6            0                   6        0      1   \n",
              "\n",
              "                                               tweet  \n",
              "0  !!! RT @mayasolovely: As a woman you shouldn't...  \n",
              "1  !!!!! RT @mleew17: boy dats cold...tyga dwn ba...  \n",
              "2  !!!!!!! RT @UrKindOfBrand Dawg!!!! RT @80sbaby...  \n",
              "3  !!!!!!!!! RT @C_G_Anderson: @viva_based she lo...  \n",
              "4  !!!!!!!!!!!!! RT @ShenikaRoberts: The shit you...  "
            ]
          },
          "execution_count": 60,
          "metadata": {},
          "output_type": "execute_result"
        }
      ],
      "source": [
        "df_offensive.head()"
      ]
    },
    {
      "cell_type": "code",
      "execution_count": 61,
      "metadata": {
        "colab": {
          "base_uri": "https://localhost:8080/"
        },
        "execution": {
          "iopub.execute_input": "2021-05-26T06:22:54.481429Z",
          "iopub.status.busy": "2021-05-26T06:22:54.480828Z",
          "iopub.status.idle": "2021-05-26T06:22:54.489147Z",
          "shell.execute_reply": "2021-05-26T06:22:54.487697Z",
          "shell.execute_reply.started": "2021-05-26T06:22:54.481384Z"
        },
        "id": "Z5Z0KlTYuMaD",
        "outputId": "01132459-3426-4c62-dcac-4637965a2c18",
        "trusted": true
      },
      "outputs": [
        {
          "data": {
            "text/plain": [
              "(24783, 7)"
            ]
          },
          "execution_count": 61,
          "metadata": {},
          "output_type": "execute_result"
        }
      ],
      "source": [
        "df_offensive.shape"
      ]
    },
    {
      "cell_type": "code",
      "execution_count": 62,
      "metadata": {
        "colab": {
          "base_uri": "https://localhost:8080/"
        },
        "execution": {
          "iopub.execute_input": "2021-05-26T06:22:54.492451Z",
          "iopub.status.busy": "2021-05-26T06:22:54.491524Z",
          "iopub.status.idle": "2021-05-26T06:22:54.507738Z",
          "shell.execute_reply": "2021-05-26T06:22:54.505418Z",
          "shell.execute_reply.started": "2021-05-26T06:22:54.492403Z"
        },
        "id": "sONsjUGcuMaD",
        "outputId": "e2b1b444-8cd4-4a1a-b5b6-d6e47129af30",
        "trusted": true
      },
      "outputs": [
        {
          "data": {
            "text/plain": [
              "Unnamed: 0            0\n",
              "count                 0\n",
              "hate_speech           0\n",
              "offensive_language    0\n",
              "neither               0\n",
              "class                 0\n",
              "tweet                 0\n",
              "dtype: int64"
            ]
          },
          "execution_count": 62,
          "metadata": {},
          "output_type": "execute_result"
        }
      ],
      "source": [
        "df_offensive.isnull().sum()"
      ]
    },
    {
      "cell_type": "code",
      "execution_count": 63,
      "metadata": {
        "execution": {
          "iopub.execute_input": "2021-05-26T06:22:54.514677Z",
          "iopub.status.busy": "2021-05-26T06:22:54.51435Z",
          "iopub.status.idle": "2021-05-26T06:22:54.521553Z",
          "shell.execute_reply": "2021-05-26T06:22:54.520196Z",
          "shell.execute_reply.started": "2021-05-26T06:22:54.514646Z"
        },
        "id": "mmNkm6dSuMaD",
        "trusted": true
      },
      "outputs": [],
      "source": [
        "df_offensive.drop(['Unnamed: 0','count','hate_speech','offensive_language','neither'],axis=1,inplace=True)"
      ]
    },
    {
      "cell_type": "code",
      "execution_count": 64,
      "metadata": {
        "colab": {
          "base_uri": "https://localhost:8080/",
          "height": 363
        },
        "execution": {
          "iopub.execute_input": "2021-05-26T06:22:54.528482Z",
          "iopub.status.busy": "2021-05-26T06:22:54.527694Z",
          "iopub.status.idle": "2021-05-26T06:22:54.542633Z",
          "shell.execute_reply": "2021-05-26T06:22:54.541265Z",
          "shell.execute_reply.started": "2021-05-26T06:22:54.528436Z"
        },
        "id": "ZhftX6ffuMaE",
        "outputId": "fc37f53a-0e99-459c-a3d9-8d7f2e8e51d0",
        "trusted": true
      },
      "outputs": [
        {
          "data": {
            "text/html": [
              "<div>\n",
              "<style scoped>\n",
              "    .dataframe tbody tr th:only-of-type {\n",
              "        vertical-align: middle;\n",
              "    }\n",
              "\n",
              "    .dataframe tbody tr th {\n",
              "        vertical-align: top;\n",
              "    }\n",
              "\n",
              "    .dataframe thead th {\n",
              "        text-align: right;\n",
              "    }\n",
              "</style>\n",
              "<table border=\"1\" class=\"dataframe\">\n",
              "  <thead>\n",
              "    <tr style=\"text-align: right;\">\n",
              "      <th></th>\n",
              "      <th>class</th>\n",
              "      <th>tweet</th>\n",
              "    </tr>\n",
              "  </thead>\n",
              "  <tbody>\n",
              "    <tr>\n",
              "      <th>0</th>\n",
              "      <td>2</td>\n",
              "      <td>!!! RT @mayasolovely: As a woman you shouldn't...</td>\n",
              "    </tr>\n",
              "    <tr>\n",
              "      <th>1</th>\n",
              "      <td>1</td>\n",
              "      <td>!!!!! RT @mleew17: boy dats cold...tyga dwn ba...</td>\n",
              "    </tr>\n",
              "    <tr>\n",
              "      <th>2</th>\n",
              "      <td>1</td>\n",
              "      <td>!!!!!!! RT @UrKindOfBrand Dawg!!!! RT @80sbaby...</td>\n",
              "    </tr>\n",
              "    <tr>\n",
              "      <th>3</th>\n",
              "      <td>1</td>\n",
              "      <td>!!!!!!!!! RT @C_G_Anderson: @viva_based she lo...</td>\n",
              "    </tr>\n",
              "    <tr>\n",
              "      <th>4</th>\n",
              "      <td>1</td>\n",
              "      <td>!!!!!!!!!!!!! RT @ShenikaRoberts: The shit you...</td>\n",
              "    </tr>\n",
              "    <tr>\n",
              "      <th>5</th>\n",
              "      <td>1</td>\n",
              "      <td>!!!!!!!!!!!!!!!!!!\"@T_Madison_x: The shit just...</td>\n",
              "    </tr>\n",
              "    <tr>\n",
              "      <th>6</th>\n",
              "      <td>1</td>\n",
              "      <td>!!!!!!\"@__BrighterDays: I can not just sit up ...</td>\n",
              "    </tr>\n",
              "    <tr>\n",
              "      <th>7</th>\n",
              "      <td>1</td>\n",
              "      <td>!!!!&amp;#8220;@selfiequeenbri: cause I'm tired of...</td>\n",
              "    </tr>\n",
              "    <tr>\n",
              "      <th>8</th>\n",
              "      <td>1</td>\n",
              "      <td>\" &amp;amp; you might not get ya bitch back &amp;amp; ...</td>\n",
              "    </tr>\n",
              "    <tr>\n",
              "      <th>9</th>\n",
              "      <td>1</td>\n",
              "      <td>\" @rhythmixx_ :hobbies include: fighting Maria...</td>\n",
              "    </tr>\n",
              "  </tbody>\n",
              "</table>\n",
              "</div>"
            ],
            "text/plain": [
              "   class                                              tweet\n",
              "0      2  !!! RT @mayasolovely: As a woman you shouldn't...\n",
              "1      1  !!!!! RT @mleew17: boy dats cold...tyga dwn ba...\n",
              "2      1  !!!!!!! RT @UrKindOfBrand Dawg!!!! RT @80sbaby...\n",
              "3      1  !!!!!!!!! RT @C_G_Anderson: @viva_based she lo...\n",
              "4      1  !!!!!!!!!!!!! RT @ShenikaRoberts: The shit you...\n",
              "5      1  !!!!!!!!!!!!!!!!!!\"@T_Madison_x: The shit just...\n",
              "6      1  !!!!!!\"@__BrighterDays: I can not just sit up ...\n",
              "7      1  !!!!&#8220;@selfiequeenbri: cause I'm tired of...\n",
              "8      1  \" &amp; you might not get ya bitch back &amp; ...\n",
              "9      1  \" @rhythmixx_ :hobbies include: fighting Maria..."
            ]
          },
          "execution_count": 64,
          "metadata": {},
          "output_type": "execute_result"
        }
      ],
      "source": [
        "df_offensive.head(10)"
      ]
    },
    {
      "cell_type": "code",
      "execution_count": 65,
      "metadata": {
        "colab": {
          "base_uri": "https://localhost:8080/"
        },
        "execution": {
          "iopub.execute_input": "2021-05-26T06:22:54.54519Z",
          "iopub.status.busy": "2021-05-26T06:22:54.544849Z",
          "iopub.status.idle": "2021-05-26T06:22:54.556026Z",
          "shell.execute_reply": "2021-05-26T06:22:54.554443Z",
          "shell.execute_reply.started": "2021-05-26T06:22:54.545159Z"
        },
        "id": "Y_9bXtKWuMaE",
        "outputId": "385dfd3a-55a5-494c-b069-0099e4a325f1",
        "trusted": true
      },
      "outputs": [
        {
          "data": {
            "text/plain": [
              "array([2, 1, 0], dtype=int64)"
            ]
          },
          "execution_count": 65,
          "metadata": {},
          "output_type": "execute_result"
        }
      ],
      "source": [
        "df_offensive['class'].unique()"
      ]
    },
    {
      "cell_type": "code",
      "execution_count": 66,
      "metadata": {
        "colab": {
          "base_uri": "https://localhost:8080/",
          "height": 354
        },
        "execution": {
          "iopub.execute_input": "2021-05-26T06:22:54.558248Z",
          "iopub.status.busy": "2021-05-26T06:22:54.557724Z",
          "iopub.status.idle": "2021-05-26T06:22:54.723602Z",
          "shell.execute_reply": "2021-05-26T06:22:54.722153Z",
          "shell.execute_reply.started": "2021-05-26T06:22:54.558201Z"
        },
        "id": "Jjbu9TLhuMaF",
        "outputId": "017a923a-8a7a-4156-9bb9-5b1d304749db",
        "trusted": true
      },
      "outputs": [],
      "source": [
        "# sns.countplot('class',data=df_offensive)"
      ]
    },
    {
      "cell_type": "code",
      "execution_count": 67,
      "metadata": {
        "colab": {
          "base_uri": "https://localhost:8080/"
        },
        "execution": {
          "iopub.execute_input": "2021-05-26T06:22:54.726125Z",
          "iopub.status.busy": "2021-05-26T06:22:54.725644Z",
          "iopub.status.idle": "2021-05-26T06:22:54.75087Z",
          "shell.execute_reply": "2021-05-26T06:22:54.749576Z",
          "shell.execute_reply.started": "2021-05-26T06:22:54.726076Z"
        },
        "id": "YJX3Kj9puMaF",
        "outputId": "dbde4df5-f282-4bf0-f29a-afeaab23420f",
        "trusted": true
      },
      "outputs": [
        {
          "name": "stderr",
          "output_type": "stream",
          "text": [
            "C:\\Users\\denok\\AppData\\Local\\Temp\\ipykernel_10372\\2275510384.py:1: SettingWithCopyWarning: \n",
            "A value is trying to be set on a copy of a slice from a DataFrame.\n",
            "Try using .loc[row_indexer,col_indexer] = value instead\n",
            "\n",
            "See the caveats in the documentation: https://pandas.pydata.org/pandas-docs/stable/user_guide/indexing.html#returning-a-view-versus-a-copy\n",
            "  df_offensive[df_offensive['class']==0]['class']=1\n"
          ]
        }
      ],
      "source": [
        "df_offensive[df_offensive['class']==0]['class']=1"
      ]
    },
    {
      "cell_type": "code",
      "execution_count": 68,
      "metadata": {
        "colab": {
          "base_uri": "https://localhost:8080/",
          "height": 206
        },
        "execution": {
          "iopub.execute_input": "2021-05-26T06:22:54.75349Z",
          "iopub.status.busy": "2021-05-26T06:22:54.752692Z",
          "iopub.status.idle": "2021-05-26T06:22:54.768165Z",
          "shell.execute_reply": "2021-05-26T06:22:54.766778Z",
          "shell.execute_reply.started": "2021-05-26T06:22:54.753443Z"
        },
        "id": "hqhT0nE4uMaF",
        "outputId": "d304f055-786e-4827-e87d-4b62820537f6",
        "trusted": true
      },
      "outputs": [
        {
          "data": {
            "text/html": [
              "<div>\n",
              "<style scoped>\n",
              "    .dataframe tbody tr th:only-of-type {\n",
              "        vertical-align: middle;\n",
              "    }\n",
              "\n",
              "    .dataframe tbody tr th {\n",
              "        vertical-align: top;\n",
              "    }\n",
              "\n",
              "    .dataframe thead th {\n",
              "        text-align: right;\n",
              "    }\n",
              "</style>\n",
              "<table border=\"1\" class=\"dataframe\">\n",
              "  <thead>\n",
              "    <tr style=\"text-align: right;\">\n",
              "      <th></th>\n",
              "      <th>class</th>\n",
              "      <th>tweet</th>\n",
              "    </tr>\n",
              "  </thead>\n",
              "  <tbody>\n",
              "    <tr>\n",
              "      <th>0</th>\n",
              "      <td>2</td>\n",
              "      <td>!!! RT @mayasolovely: As a woman you shouldn't...</td>\n",
              "    </tr>\n",
              "    <tr>\n",
              "      <th>1</th>\n",
              "      <td>1</td>\n",
              "      <td>!!!!! RT @mleew17: boy dats cold...tyga dwn ba...</td>\n",
              "    </tr>\n",
              "    <tr>\n",
              "      <th>2</th>\n",
              "      <td>1</td>\n",
              "      <td>!!!!!!! RT @UrKindOfBrand Dawg!!!! RT @80sbaby...</td>\n",
              "    </tr>\n",
              "    <tr>\n",
              "      <th>3</th>\n",
              "      <td>1</td>\n",
              "      <td>!!!!!!!!! RT @C_G_Anderson: @viva_based she lo...</td>\n",
              "    </tr>\n",
              "    <tr>\n",
              "      <th>4</th>\n",
              "      <td>1</td>\n",
              "      <td>!!!!!!!!!!!!! RT @ShenikaRoberts: The shit you...</td>\n",
              "    </tr>\n",
              "  </tbody>\n",
              "</table>\n",
              "</div>"
            ],
            "text/plain": [
              "   class                                              tweet\n",
              "0      2  !!! RT @mayasolovely: As a woman you shouldn't...\n",
              "1      1  !!!!! RT @mleew17: boy dats cold...tyga dwn ba...\n",
              "2      1  !!!!!!! RT @UrKindOfBrand Dawg!!!! RT @80sbaby...\n",
              "3      1  !!!!!!!!! RT @C_G_Anderson: @viva_based she lo...\n",
              "4      1  !!!!!!!!!!!!! RT @ShenikaRoberts: The shit you..."
            ]
          },
          "execution_count": 68,
          "metadata": {},
          "output_type": "execute_result"
        }
      ],
      "source": [
        "df_offensive.head(5)"
      ]
    },
    {
      "cell_type": "code",
      "execution_count": 69,
      "metadata": {
        "colab": {
          "base_uri": "https://localhost:8080/"
        },
        "execution": {
          "iopub.execute_input": "2021-05-26T06:22:54.771335Z",
          "iopub.status.busy": "2021-05-26T06:22:54.770466Z",
          "iopub.status.idle": "2021-05-26T06:22:54.781974Z",
          "shell.execute_reply": "2021-05-26T06:22:54.780546Z",
          "shell.execute_reply.started": "2021-05-26T06:22:54.771251Z"
        },
        "id": "xqOW4UYhuMaF",
        "outputId": "44e3e376-3bfe-4bec-cb0f-336c61a7b3a3",
        "trusted": true
      },
      "outputs": [
        {
          "data": {
            "text/plain": [
              "array([2, 1, 0], dtype=int64)"
            ]
          },
          "execution_count": 69,
          "metadata": {},
          "output_type": "execute_result"
        }
      ],
      "source": [
        "df_offensive['class'].unique()"
      ]
    },
    {
      "cell_type": "code",
      "execution_count": 70,
      "metadata": {
        "colab": {
          "base_uri": "https://localhost:8080/",
          "height": 424
        },
        "execution": {
          "iopub.execute_input": "2021-05-26T06:22:54.785028Z",
          "iopub.status.busy": "2021-05-26T06:22:54.784085Z",
          "iopub.status.idle": "2021-05-26T06:22:54.805395Z",
          "shell.execute_reply": "2021-05-26T06:22:54.804466Z",
          "shell.execute_reply.started": "2021-05-26T06:22:54.784943Z"
        },
        "id": "2nLrbbj4uMaF",
        "outputId": "3228094c-aec2-4db1-aa2d-160369ceaee9",
        "trusted": true
      },
      "outputs": [
        {
          "data": {
            "text/html": [
              "<div>\n",
              "<style scoped>\n",
              "    .dataframe tbody tr th:only-of-type {\n",
              "        vertical-align: middle;\n",
              "    }\n",
              "\n",
              "    .dataframe tbody tr th {\n",
              "        vertical-align: top;\n",
              "    }\n",
              "\n",
              "    .dataframe thead th {\n",
              "        text-align: right;\n",
              "    }\n",
              "</style>\n",
              "<table border=\"1\" class=\"dataframe\">\n",
              "  <thead>\n",
              "    <tr style=\"text-align: right;\">\n",
              "      <th></th>\n",
              "      <th>class</th>\n",
              "      <th>tweet</th>\n",
              "    </tr>\n",
              "  </thead>\n",
              "  <tbody>\n",
              "    <tr>\n",
              "      <th>85</th>\n",
              "      <td>0</td>\n",
              "      <td>\"@Blackman38Tide: @WhaleLookyHere @HowdyDowdy1...</td>\n",
              "    </tr>\n",
              "    <tr>\n",
              "      <th>89</th>\n",
              "      <td>0</td>\n",
              "      <td>\"@CB_Baby24: @white_thunduh alsarabsss\" hes a ...</td>\n",
              "    </tr>\n",
              "    <tr>\n",
              "      <th>110</th>\n",
              "      <td>0</td>\n",
              "      <td>\"@DevilGrimz: @VigxRArts you're fucking gay, b...</td>\n",
              "    </tr>\n",
              "    <tr>\n",
              "      <th>184</th>\n",
              "      <td>0</td>\n",
              "      <td>\"@MarkRoundtreeJr: LMFAOOOO I HATE BLACK PEOPL...</td>\n",
              "    </tr>\n",
              "    <tr>\n",
              "      <th>202</th>\n",
              "      <td>0</td>\n",
              "      <td>\"@NoChillPaz: \"At least I'm not a nigger\" http...</td>\n",
              "    </tr>\n",
              "    <tr>\n",
              "      <th>...</th>\n",
              "      <td>...</td>\n",
              "      <td>...</td>\n",
              "    </tr>\n",
              "    <tr>\n",
              "      <th>24576</th>\n",
              "      <td>0</td>\n",
              "      <td>this guy is the biggest faggot omfg</td>\n",
              "    </tr>\n",
              "    <tr>\n",
              "      <th>24685</th>\n",
              "      <td>0</td>\n",
              "      <td>which one of these names is more offensive kik...</td>\n",
              "    </tr>\n",
              "    <tr>\n",
              "      <th>24751</th>\n",
              "      <td>0</td>\n",
              "      <td>you a pussy ass nigga and I know it nigga.</td>\n",
              "    </tr>\n",
              "    <tr>\n",
              "      <th>24776</th>\n",
              "      <td>0</td>\n",
              "      <td>you're all niggers</td>\n",
              "    </tr>\n",
              "    <tr>\n",
              "      <th>24777</th>\n",
              "      <td>0</td>\n",
              "      <td>you're such a retard i hope you get type 2 dia...</td>\n",
              "    </tr>\n",
              "  </tbody>\n",
              "</table>\n",
              "<p>1430 rows × 2 columns</p>\n",
              "</div>"
            ],
            "text/plain": [
              "       class                                              tweet\n",
              "85         0  \"@Blackman38Tide: @WhaleLookyHere @HowdyDowdy1...\n",
              "89         0  \"@CB_Baby24: @white_thunduh alsarabsss\" hes a ...\n",
              "110        0  \"@DevilGrimz: @VigxRArts you're fucking gay, b...\n",
              "184        0  \"@MarkRoundtreeJr: LMFAOOOO I HATE BLACK PEOPL...\n",
              "202        0  \"@NoChillPaz: \"At least I'm not a nigger\" http...\n",
              "...      ...                                                ...\n",
              "24576      0                this guy is the biggest faggot omfg\n",
              "24685      0  which one of these names is more offensive kik...\n",
              "24751      0         you a pussy ass nigga and I know it nigga.\n",
              "24776      0                                 you're all niggers\n",
              "24777      0  you're such a retard i hope you get type 2 dia...\n",
              "\n",
              "[1430 rows x 2 columns]"
            ]
          },
          "execution_count": 70,
          "metadata": {},
          "output_type": "execute_result"
        }
      ],
      "source": [
        "df_offensive[df_offensive['class']==0]"
      ]
    },
    {
      "cell_type": "code",
      "execution_count": 71,
      "metadata": {
        "execution": {
          "iopub.execute_input": "2021-05-26T06:22:54.808959Z",
          "iopub.status.busy": "2021-05-26T06:22:54.808214Z",
          "iopub.status.idle": "2021-05-26T06:22:54.815686Z",
          "shell.execute_reply": "2021-05-26T06:22:54.8143Z",
          "shell.execute_reply.started": "2021-05-26T06:22:54.808913Z"
        },
        "id": "luK7ts_CuMaG",
        "trusted": true
      },
      "outputs": [],
      "source": [
        "df_offensive[\"class\"].replace({0: 1}, inplace=True)"
      ]
    },
    {
      "cell_type": "code",
      "execution_count": 72,
      "metadata": {
        "colab": {
          "base_uri": "https://localhost:8080/"
        },
        "execution": {
          "iopub.execute_input": "2021-05-26T06:22:54.818554Z",
          "iopub.status.busy": "2021-05-26T06:22:54.817727Z",
          "iopub.status.idle": "2021-05-26T06:22:54.829993Z",
          "shell.execute_reply": "2021-05-26T06:22:54.828509Z",
          "shell.execute_reply.started": "2021-05-26T06:22:54.818508Z"
        },
        "id": "xnWjQHl7uMaG",
        "outputId": "ce208d44-00bd-4516-d172-32b6e01400ca",
        "trusted": true
      },
      "outputs": [
        {
          "data": {
            "text/plain": [
              "array([2, 1], dtype=int64)"
            ]
          },
          "execution_count": 72,
          "metadata": {},
          "output_type": "execute_result"
        }
      ],
      "source": [
        "df_offensive['class'].unique()"
      ]
    },
    {
      "cell_type": "code",
      "execution_count": 73,
      "metadata": {
        "colab": {
          "base_uri": "https://localhost:8080/",
          "height": 351
        },
        "execution": {
          "iopub.execute_input": "2021-05-26T06:22:54.832131Z",
          "iopub.status.busy": "2021-05-26T06:22:54.831247Z",
          "iopub.status.idle": "2021-05-26T06:22:54.989538Z",
          "shell.execute_reply": "2021-05-26T06:22:54.988414Z",
          "shell.execute_reply.started": "2021-05-26T06:22:54.832083Z"
        },
        "id": "5kk75gi_uMaG",
        "outputId": "8adc3b76-9d72-4f43-abc6-628a72413bb9",
        "trusted": true
      },
      "outputs": [],
      "source": [
        "# sns.countplot('class',data=df_offensive)"
      ]
    },
    {
      "cell_type": "code",
      "execution_count": 74,
      "metadata": {
        "colab": {
          "base_uri": "https://localhost:8080/",
          "height": 49
        },
        "execution": {
          "iopub.execute_input": "2021-05-26T06:22:54.992023Z",
          "iopub.status.busy": "2021-05-26T06:22:54.991538Z",
          "iopub.status.idle": "2021-05-26T06:22:55.007778Z",
          "shell.execute_reply": "2021-05-26T06:22:55.006611Z",
          "shell.execute_reply.started": "2021-05-26T06:22:54.991979Z"
        },
        "id": "2WkVvfB6uMaH",
        "outputId": "8112f091-4f62-40c8-9384-2241338a3291",
        "trusted": true
      },
      "outputs": [
        {
          "data": {
            "text/html": [
              "<div>\n",
              "<style scoped>\n",
              "    .dataframe tbody tr th:only-of-type {\n",
              "        vertical-align: middle;\n",
              "    }\n",
              "\n",
              "    .dataframe tbody tr th {\n",
              "        vertical-align: top;\n",
              "    }\n",
              "\n",
              "    .dataframe thead th {\n",
              "        text-align: right;\n",
              "    }\n",
              "</style>\n",
              "<table border=\"1\" class=\"dataframe\">\n",
              "  <thead>\n",
              "    <tr style=\"text-align: right;\">\n",
              "      <th></th>\n",
              "      <th>class</th>\n",
              "      <th>tweet</th>\n",
              "    </tr>\n",
              "  </thead>\n",
              "  <tbody>\n",
              "  </tbody>\n",
              "</table>\n",
              "</div>"
            ],
            "text/plain": [
              "Empty DataFrame\n",
              "Columns: [class, tweet]\n",
              "Index: []"
            ]
          },
          "execution_count": 74,
          "metadata": {},
          "output_type": "execute_result"
        }
      ],
      "source": [
        "df_offensive[df_offensive['class']==0]"
      ]
    },
    {
      "cell_type": "code",
      "execution_count": 75,
      "metadata": {
        "execution": {
          "iopub.execute_input": "2021-05-26T06:22:55.010995Z",
          "iopub.status.busy": "2021-05-26T06:22:55.010286Z",
          "iopub.status.idle": "2021-05-26T06:22:55.017926Z",
          "shell.execute_reply": "2021-05-26T06:22:55.016624Z",
          "shell.execute_reply.started": "2021-05-26T06:22:55.01095Z"
        },
        "id": "JR2y1i-iuMaH",
        "trusted": true
      },
      "outputs": [],
      "source": [
        "df_offensive[\"class\"].replace({2: 0}, inplace=True)"
      ]
    },
    {
      "cell_type": "code",
      "execution_count": 76,
      "metadata": {
        "colab": {
          "base_uri": "https://localhost:8080/",
          "height": 351
        },
        "execution": {
          "iopub.execute_input": "2021-05-26T06:22:55.021194Z",
          "iopub.status.busy": "2021-05-26T06:22:55.019865Z",
          "iopub.status.idle": "2021-05-26T06:22:55.177174Z",
          "shell.execute_reply": "2021-05-26T06:22:55.176146Z",
          "shell.execute_reply.started": "2021-05-26T06:22:55.021146Z"
        },
        "id": "FHhSvahUuMaH",
        "outputId": "0e3c5626-cf5e-45ac-e182-8d92b1a3e5ad",
        "trusted": true
      },
      "outputs": [
        {
          "ename": "TypeError",
          "evalue": "countplot() got multiple values for argument 'data'",
          "output_type": "error",
          "traceback": [
            "\u001b[1;31m---------------------------------------------------------------------------\u001b[0m",
            "\u001b[1;31mTypeError\u001b[0m                                 Traceback (most recent call last)",
            "Cell \u001b[1;32mIn [76], line 1\u001b[0m\n\u001b[1;32m----> 1\u001b[0m \u001b[43msns\u001b[49m\u001b[38;5;241;43m.\u001b[39;49m\u001b[43mcountplot\u001b[49m\u001b[43m(\u001b[49m\u001b[38;5;124;43m'\u001b[39;49m\u001b[38;5;124;43mclass\u001b[39;49m\u001b[38;5;124;43m'\u001b[39;49m\u001b[43m,\u001b[49m\u001b[43mdata\u001b[49m\u001b[38;5;241;43m=\u001b[39;49m\u001b[43mdf_offensive\u001b[49m\u001b[43m)\u001b[49m\n",
            "\u001b[1;31mTypeError\u001b[0m: countplot() got multiple values for argument 'data'"
          ]
        }
      ],
      "source": [
        "# sns.countplot('class',data=df_offensive)"
      ]
    },
    {
      "cell_type": "code",
      "execution_count": null,
      "metadata": {
        "execution": {
          "iopub.execute_input": "2021-05-26T06:22:55.179802Z",
          "iopub.status.busy": "2021-05-26T06:22:55.179192Z",
          "iopub.status.idle": "2021-05-26T06:22:55.186641Z",
          "shell.execute_reply": "2021-05-26T06:22:55.185142Z",
          "shell.execute_reply.started": "2021-05-26T06:22:55.179755Z"
        },
        "id": "kxYOLuSeuMaI",
        "trusted": true
      },
      "outputs": [],
      "source": [
        "df_offensive.rename(columns ={'class':'label'}, inplace = True)\n",
        "   "
      ]
    },
    {
      "cell_type": "code",
      "execution_count": null,
      "metadata": {
        "colab": {
          "base_uri": "https://localhost:8080/",
          "height": 206
        },
        "execution": {
          "iopub.execute_input": "2021-05-26T06:22:55.18974Z",
          "iopub.status.busy": "2021-05-26T06:22:55.189309Z",
          "iopub.status.idle": "2021-05-26T06:22:55.207597Z",
          "shell.execute_reply": "2021-05-26T06:22:55.206039Z",
          "shell.execute_reply.started": "2021-05-26T06:22:55.189699Z"
        },
        "id": "GIhxq9kVuMaI",
        "outputId": "d1680185-a5b6-41a6-a700-4ce56ddfc873",
        "trusted": true
      },
      "outputs": [
        {
          "data": {
            "text/html": [
              "\n",
              "  <div id=\"df-46443980-c79e-4378-8d1e-172cb3f33a42\">\n",
              "    <div class=\"colab-df-container\">\n",
              "      <div>\n",
              "<style scoped>\n",
              "    .dataframe tbody tr th:only-of-type {\n",
              "        vertical-align: middle;\n",
              "    }\n",
              "\n",
              "    .dataframe tbody tr th {\n",
              "        vertical-align: top;\n",
              "    }\n",
              "\n",
              "    .dataframe thead th {\n",
              "        text-align: right;\n",
              "    }\n",
              "</style>\n",
              "<table border=\"1\" class=\"dataframe\">\n",
              "  <thead>\n",
              "    <tr style=\"text-align: right;\">\n",
              "      <th></th>\n",
              "      <th>label</th>\n",
              "      <th>tweet</th>\n",
              "    </tr>\n",
              "  </thead>\n",
              "  <tbody>\n",
              "    <tr>\n",
              "      <th>0</th>\n",
              "      <td>0</td>\n",
              "      <td>!!! RT @mayasolovely: As a woman you shouldn't...</td>\n",
              "    </tr>\n",
              "    <tr>\n",
              "      <th>1</th>\n",
              "      <td>1</td>\n",
              "      <td>!!!!! RT @mleew17: boy dats cold...tyga dwn ba...</td>\n",
              "    </tr>\n",
              "    <tr>\n",
              "      <th>2</th>\n",
              "      <td>1</td>\n",
              "      <td>!!!!!!! RT @UrKindOfBrand Dawg!!!! RT @80sbaby...</td>\n",
              "    </tr>\n",
              "    <tr>\n",
              "      <th>3</th>\n",
              "      <td>1</td>\n",
              "      <td>!!!!!!!!! RT @C_G_Anderson: @viva_based she lo...</td>\n",
              "    </tr>\n",
              "    <tr>\n",
              "      <th>4</th>\n",
              "      <td>1</td>\n",
              "      <td>!!!!!!!!!!!!! RT @ShenikaRoberts: The shit you...</td>\n",
              "    </tr>\n",
              "  </tbody>\n",
              "</table>\n",
              "</div>\n",
              "      <button class=\"colab-df-convert\" onclick=\"convertToInteractive('df-46443980-c79e-4378-8d1e-172cb3f33a42')\"\n",
              "              title=\"Convert this dataframe to an interactive table.\"\n",
              "              style=\"display:none;\">\n",
              "        \n",
              "  <svg xmlns=\"http://www.w3.org/2000/svg\" height=\"24px\"viewBox=\"0 0 24 24\"\n",
              "       width=\"24px\">\n",
              "    <path d=\"M0 0h24v24H0V0z\" fill=\"none\"/>\n",
              "    <path d=\"M18.56 5.44l.94 2.06.94-2.06 2.06-.94-2.06-.94-.94-2.06-.94 2.06-2.06.94zm-11 1L8.5 8.5l.94-2.06 2.06-.94-2.06-.94L8.5 2.5l-.94 2.06-2.06.94zm10 10l.94 2.06.94-2.06 2.06-.94-2.06-.94-.94-2.06-.94 2.06-2.06.94z\"/><path d=\"M17.41 7.96l-1.37-1.37c-.4-.4-.92-.59-1.43-.59-.52 0-1.04.2-1.43.59L10.3 9.45l-7.72 7.72c-.78.78-.78 2.05 0 2.83L4 21.41c.39.39.9.59 1.41.59.51 0 1.02-.2 1.41-.59l7.78-7.78 2.81-2.81c.8-.78.8-2.07 0-2.86zM5.41 20L4 18.59l7.72-7.72 1.47 1.35L5.41 20z\"/>\n",
              "  </svg>\n",
              "      </button>\n",
              "      \n",
              "  <style>\n",
              "    .colab-df-container {\n",
              "      display:flex;\n",
              "      flex-wrap:wrap;\n",
              "      gap: 12px;\n",
              "    }\n",
              "\n",
              "    .colab-df-convert {\n",
              "      background-color: #E8F0FE;\n",
              "      border: none;\n",
              "      border-radius: 50%;\n",
              "      cursor: pointer;\n",
              "      display: none;\n",
              "      fill: #1967D2;\n",
              "      height: 32px;\n",
              "      padding: 0 0 0 0;\n",
              "      width: 32px;\n",
              "    }\n",
              "\n",
              "    .colab-df-convert:hover {\n",
              "      background-color: #E2EBFA;\n",
              "      box-shadow: 0px 1px 2px rgba(60, 64, 67, 0.3), 0px 1px 3px 1px rgba(60, 64, 67, 0.15);\n",
              "      fill: #174EA6;\n",
              "    }\n",
              "\n",
              "    [theme=dark] .colab-df-convert {\n",
              "      background-color: #3B4455;\n",
              "      fill: #D2E3FC;\n",
              "    }\n",
              "\n",
              "    [theme=dark] .colab-df-convert:hover {\n",
              "      background-color: #434B5C;\n",
              "      box-shadow: 0px 1px 3px 1px rgba(0, 0, 0, 0.15);\n",
              "      filter: drop-shadow(0px 1px 2px rgba(0, 0, 0, 0.3));\n",
              "      fill: #FFFFFF;\n",
              "    }\n",
              "  </style>\n",
              "\n",
              "      <script>\n",
              "        const buttonEl =\n",
              "          document.querySelector('#df-46443980-c79e-4378-8d1e-172cb3f33a42 button.colab-df-convert');\n",
              "        buttonEl.style.display =\n",
              "          google.colab.kernel.accessAllowed ? 'block' : 'none';\n",
              "\n",
              "        async function convertToInteractive(key) {\n",
              "          const element = document.querySelector('#df-46443980-c79e-4378-8d1e-172cb3f33a42');\n",
              "          const dataTable =\n",
              "            await google.colab.kernel.invokeFunction('convertToInteractive',\n",
              "                                                     [key], {});\n",
              "          if (!dataTable) return;\n",
              "\n",
              "          const docLinkHtml = 'Like what you see? Visit the ' +\n",
              "            '<a target=\"_blank\" href=https://colab.research.google.com/notebooks/data_table.ipynb>data table notebook</a>'\n",
              "            + ' to learn more about interactive tables.';\n",
              "          element.innerHTML = '';\n",
              "          dataTable['output_type'] = 'display_data';\n",
              "          await google.colab.output.renderOutput(dataTable, element);\n",
              "          const docLink = document.createElement('div');\n",
              "          docLink.innerHTML = docLinkHtml;\n",
              "          element.appendChild(docLink);\n",
              "        }\n",
              "      </script>\n",
              "    </div>\n",
              "  </div>\n",
              "  "
            ],
            "text/plain": [
              "   label                                              tweet\n",
              "0      0  !!! RT @mayasolovely: As a woman you shouldn't...\n",
              "1      1  !!!!! RT @mleew17: boy dats cold...tyga dwn ba...\n",
              "2      1  !!!!!!! RT @UrKindOfBrand Dawg!!!! RT @80sbaby...\n",
              "3      1  !!!!!!!!! RT @C_G_Anderson: @viva_based she lo...\n",
              "4      1  !!!!!!!!!!!!! RT @ShenikaRoberts: The shit you..."
            ]
          },
          "execution_count": 27,
          "metadata": {},
          "output_type": "execute_result"
        }
      ],
      "source": [
        "df_offensive.head()"
      ]
    },
    {
      "cell_type": "code",
      "execution_count": null,
      "metadata": {
        "colab": {
          "base_uri": "https://localhost:8080/",
          "height": 35
        },
        "execution": {
          "iopub.execute_input": "2021-05-26T06:22:55.210705Z",
          "iopub.status.busy": "2021-05-26T06:22:55.210123Z",
          "iopub.status.idle": "2021-05-26T06:22:55.221474Z",
          "shell.execute_reply": "2021-05-26T06:22:55.21984Z",
          "shell.execute_reply.started": "2021-05-26T06:22:55.210592Z"
        },
        "id": "SD0d9G_guMaI",
        "outputId": "40d6b18f-9b62-49ce-88cf-83ba358069dd",
        "trusted": true
      },
      "outputs": [
        {
          "data": {
            "application/vnd.google.colaboratory.intrinsic+json": {
              "type": "string"
            },
            "text/plain": [
              "\"!!! RT @mayasolovely: As a woman you shouldn't complain about cleaning up your house. &amp; as a man you should always take the trash out...\""
            ]
          },
          "execution_count": 28,
          "metadata": {},
          "output_type": "execute_result"
        }
      ],
      "source": [
        "df_offensive.iloc[0]['tweet']"
      ]
    },
    {
      "cell_type": "code",
      "execution_count": null,
      "metadata": {
        "colab": {
          "base_uri": "https://localhost:8080/",
          "height": 35
        },
        "execution": {
          "iopub.execute_input": "2021-05-26T06:22:55.224335Z",
          "iopub.status.busy": "2021-05-26T06:22:55.22375Z",
          "iopub.status.idle": "2021-05-26T06:22:55.234816Z",
          "shell.execute_reply": "2021-05-26T06:22:55.233333Z",
          "shell.execute_reply.started": "2021-05-26T06:22:55.224269Z"
        },
        "id": "2p-F_hvZuMaI",
        "outputId": "1b6ddf8a-b964-47a2-c288-e23a13b9bd3c",
        "trusted": true
      },
      "outputs": [
        {
          "data": {
            "application/vnd.google.colaboratory.intrinsic+json": {
              "type": "string"
            },
            "text/plain": [
              "'!!!!!!!!!!!!!!!!!!\"@T_Madison_x: The shit just blows me..claim you so faithful and down for somebody but still fucking with hoes! &#128514;&#128514;&#128514;\"'"
            ]
          },
          "execution_count": 29,
          "metadata": {},
          "output_type": "execute_result"
        }
      ],
      "source": [
        "df_offensive.iloc[5]['tweet']"
      ]
    },
    {
      "cell_type": "code",
      "execution_count": null,
      "metadata": {
        "execution": {
          "iopub.execute_input": "2021-05-26T06:22:55.238102Z",
          "iopub.status.busy": "2021-05-26T06:22:55.237181Z",
          "iopub.status.idle": "2021-05-26T06:22:55.249262Z",
          "shell.execute_reply": "2021-05-26T06:22:55.247788Z",
          "shell.execute_reply.started": "2021-05-26T06:22:55.238006Z"
        },
        "id": "vr5Rvo3zuMaI",
        "trusted": true
      },
      "outputs": [],
      "source": [
        "frame=[df_twitter,df_offensive]\n",
        "df = pd.concat(frame)"
      ]
    },
    {
      "cell_type": "code",
      "execution_count": null,
      "metadata": {
        "colab": {
          "base_uri": "https://localhost:8080/",
          "height": 206
        },
        "execution": {
          "iopub.execute_input": "2021-05-26T06:22:55.252157Z",
          "iopub.status.busy": "2021-05-26T06:22:55.25156Z",
          "iopub.status.idle": "2021-05-26T06:22:55.264802Z",
          "shell.execute_reply": "2021-05-26T06:22:55.26327Z",
          "shell.execute_reply.started": "2021-05-26T06:22:55.252113Z"
        },
        "id": "0dqx58PKuMaJ",
        "outputId": "cfef54c1-487d-42d1-ae1a-7cc270463ed6",
        "trusted": true
      },
      "outputs": [
        {
          "data": {
            "text/html": [
              "\n",
              "  <div id=\"df-fa47128e-cebe-4e3b-b5f5-57f8d8b6b623\">\n",
              "    <div class=\"colab-df-container\">\n",
              "      <div>\n",
              "<style scoped>\n",
              "    .dataframe tbody tr th:only-of-type {\n",
              "        vertical-align: middle;\n",
              "    }\n",
              "\n",
              "    .dataframe tbody tr th {\n",
              "        vertical-align: top;\n",
              "    }\n",
              "\n",
              "    .dataframe thead th {\n",
              "        text-align: right;\n",
              "    }\n",
              "</style>\n",
              "<table border=\"1\" class=\"dataframe\">\n",
              "  <thead>\n",
              "    <tr style=\"text-align: right;\">\n",
              "      <th></th>\n",
              "      <th>label</th>\n",
              "      <th>tweet</th>\n",
              "    </tr>\n",
              "  </thead>\n",
              "  <tbody>\n",
              "    <tr>\n",
              "      <th>0</th>\n",
              "      <td>0</td>\n",
              "      <td>@user when a father is dysfunctional and is s...</td>\n",
              "    </tr>\n",
              "    <tr>\n",
              "      <th>1</th>\n",
              "      <td>0</td>\n",
              "      <td>@user @user thanks for #lyft credit i can't us...</td>\n",
              "    </tr>\n",
              "    <tr>\n",
              "      <th>2</th>\n",
              "      <td>0</td>\n",
              "      <td>bihday your majesty</td>\n",
              "    </tr>\n",
              "    <tr>\n",
              "      <th>3</th>\n",
              "      <td>0</td>\n",
              "      <td>#model   i love u take with u all the time in ...</td>\n",
              "    </tr>\n",
              "    <tr>\n",
              "      <th>4</th>\n",
              "      <td>0</td>\n",
              "      <td>factsguide: society now    #motivation</td>\n",
              "    </tr>\n",
              "  </tbody>\n",
              "</table>\n",
              "</div>\n",
              "      <button class=\"colab-df-convert\" onclick=\"convertToInteractive('df-fa47128e-cebe-4e3b-b5f5-57f8d8b6b623')\"\n",
              "              title=\"Convert this dataframe to an interactive table.\"\n",
              "              style=\"display:none;\">\n",
              "        \n",
              "  <svg xmlns=\"http://www.w3.org/2000/svg\" height=\"24px\"viewBox=\"0 0 24 24\"\n",
              "       width=\"24px\">\n",
              "    <path d=\"M0 0h24v24H0V0z\" fill=\"none\"/>\n",
              "    <path d=\"M18.56 5.44l.94 2.06.94-2.06 2.06-.94-2.06-.94-.94-2.06-.94 2.06-2.06.94zm-11 1L8.5 8.5l.94-2.06 2.06-.94-2.06-.94L8.5 2.5l-.94 2.06-2.06.94zm10 10l.94 2.06.94-2.06 2.06-.94-2.06-.94-.94-2.06-.94 2.06-2.06.94z\"/><path d=\"M17.41 7.96l-1.37-1.37c-.4-.4-.92-.59-1.43-.59-.52 0-1.04.2-1.43.59L10.3 9.45l-7.72 7.72c-.78.78-.78 2.05 0 2.83L4 21.41c.39.39.9.59 1.41.59.51 0 1.02-.2 1.41-.59l7.78-7.78 2.81-2.81c.8-.78.8-2.07 0-2.86zM5.41 20L4 18.59l7.72-7.72 1.47 1.35L5.41 20z\"/>\n",
              "  </svg>\n",
              "      </button>\n",
              "      \n",
              "  <style>\n",
              "    .colab-df-container {\n",
              "      display:flex;\n",
              "      flex-wrap:wrap;\n",
              "      gap: 12px;\n",
              "    }\n",
              "\n",
              "    .colab-df-convert {\n",
              "      background-color: #E8F0FE;\n",
              "      border: none;\n",
              "      border-radius: 50%;\n",
              "      cursor: pointer;\n",
              "      display: none;\n",
              "      fill: #1967D2;\n",
              "      height: 32px;\n",
              "      padding: 0 0 0 0;\n",
              "      width: 32px;\n",
              "    }\n",
              "\n",
              "    .colab-df-convert:hover {\n",
              "      background-color: #E2EBFA;\n",
              "      box-shadow: 0px 1px 2px rgba(60, 64, 67, 0.3), 0px 1px 3px 1px rgba(60, 64, 67, 0.15);\n",
              "      fill: #174EA6;\n",
              "    }\n",
              "\n",
              "    [theme=dark] .colab-df-convert {\n",
              "      background-color: #3B4455;\n",
              "      fill: #D2E3FC;\n",
              "    }\n",
              "\n",
              "    [theme=dark] .colab-df-convert:hover {\n",
              "      background-color: #434B5C;\n",
              "      box-shadow: 0px 1px 3px 1px rgba(0, 0, 0, 0.15);\n",
              "      filter: drop-shadow(0px 1px 2px rgba(0, 0, 0, 0.3));\n",
              "      fill: #FFFFFF;\n",
              "    }\n",
              "  </style>\n",
              "\n",
              "      <script>\n",
              "        const buttonEl =\n",
              "          document.querySelector('#df-fa47128e-cebe-4e3b-b5f5-57f8d8b6b623 button.colab-df-convert');\n",
              "        buttonEl.style.display =\n",
              "          google.colab.kernel.accessAllowed ? 'block' : 'none';\n",
              "\n",
              "        async function convertToInteractive(key) {\n",
              "          const element = document.querySelector('#df-fa47128e-cebe-4e3b-b5f5-57f8d8b6b623');\n",
              "          const dataTable =\n",
              "            await google.colab.kernel.invokeFunction('convertToInteractive',\n",
              "                                                     [key], {});\n",
              "          if (!dataTable) return;\n",
              "\n",
              "          const docLinkHtml = 'Like what you see? Visit the ' +\n",
              "            '<a target=\"_blank\" href=https://colab.research.google.com/notebooks/data_table.ipynb>data table notebook</a>'\n",
              "            + ' to learn more about interactive tables.';\n",
              "          element.innerHTML = '';\n",
              "          dataTable['output_type'] = 'display_data';\n",
              "          await google.colab.output.renderOutput(dataTable, element);\n",
              "          const docLink = document.createElement('div');\n",
              "          docLink.innerHTML = docLinkHtml;\n",
              "          element.appendChild(docLink);\n",
              "        }\n",
              "      </script>\n",
              "    </div>\n",
              "  </div>\n",
              "  "
            ],
            "text/plain": [
              "   label                                              tweet\n",
              "0      0   @user when a father is dysfunctional and is s...\n",
              "1      0  @user @user thanks for #lyft credit i can't us...\n",
              "2      0                                bihday your majesty\n",
              "3      0  #model   i love u take with u all the time in ...\n",
              "4      0             factsguide: society now    #motivation"
            ]
          },
          "execution_count": 31,
          "metadata": {},
          "output_type": "execute_result"
        }
      ],
      "source": [
        "df.head()"
      ]
    },
    {
      "cell_type": "code",
      "execution_count": null,
      "metadata": {
        "colab": {
          "base_uri": "https://localhost:8080/",
          "height": 352
        },
        "execution": {
          "iopub.execute_input": "2021-05-26T06:22:55.267862Z",
          "iopub.status.busy": "2021-05-26T06:22:55.267039Z",
          "iopub.status.idle": "2021-05-26T06:22:55.420242Z",
          "shell.execute_reply": "2021-05-26T06:22:55.418844Z",
          "shell.execute_reply.started": "2021-05-26T06:22:55.267814Z"
        },
        "id": "kcHq_gHMuMaJ",
        "outputId": "8ca1db51-1667-4f8b-ca2a-fa999032f14e",
        "trusted": true
      },
      "outputs": [
        {
          "name": "stderr",
          "output_type": "stream",
          "text": [
            "/usr/local/lib/python3.7/dist-packages/seaborn/_decorators.py:43: FutureWarning: Pass the following variable as a keyword arg: x. From version 0.12, the only valid positional argument will be `data`, and passing other arguments without an explicit keyword will result in an error or misinterpretation.\n",
            "  FutureWarning\n"
          ]
        },
        {
          "data": {
            "text/plain": [
              "<matplotlib.axes._subplots.AxesSubplot at 0x7f8e61243bd0>"
            ]
          },
          "execution_count": 32,
          "metadata": {},
          "output_type": "execute_result"
        },
        {
          "data": {
            "image/png": "[encoded data removed]",
            "text/plain": [
              "<Figure size 432x288 with 1 Axes>"
            ]
          },
          "metadata": {
            "needs_background": "light"
          },
          "output_type": "display_data"
        }
      ],
      "source": [
        "# sns.countplot('label',data=df)"
      ]
    },
    {
      "cell_type": "code",
      "execution_count": null,
      "metadata": {
        "colab": {
          "base_uri": "https://localhost:8080/"
        },
        "execution": {
          "iopub.execute_input": "2021-05-26T06:22:55.422824Z",
          "iopub.status.busy": "2021-05-26T06:22:55.422312Z",
          "iopub.status.idle": "2021-05-26T06:22:55.430701Z",
          "shell.execute_reply": "2021-05-26T06:22:55.428928Z",
          "shell.execute_reply.started": "2021-05-26T06:22:55.422781Z"
        },
        "id": "ZzYvwASfuMaJ",
        "outputId": "fb427cc3-9a31-4857-885b-040e4e1dd297",
        "trusted": true
      },
      "outputs": [
        {
          "data": {
            "text/plain": [
              "(56745, 2)"
            ]
          },
          "execution_count": 33,
          "metadata": {},
          "output_type": "execute_result"
        }
      ],
      "source": [
        "df.shape"
      ]
    },
    {
      "cell_type": "code",
      "execution_count": null,
      "metadata": {
        "colab": {
          "base_uri": "https://localhost:8080/"
        },
        "id": "n628RfDkv3CO",
        "outputId": "f61e6051-d03c-475d-d3a0-f59ee9ed4e81"
      },
      "outputs": [
        {
          "name": "stderr",
          "output_type": "stream",
          "text": [
            "[nltk_data] Downloading package stopwords to /root/nltk_data...\n",
            "[nltk_data]   Package stopwords is already up-to-date!\n"
          ]
        },
        {
          "data": {
            "text/plain": [
              "True"
            ]
          },
          "execution_count": 34,
          "metadata": {},
          "output_type": "execute_result"
        }
      ],
      "source": [
        "import nltk\n",
        "nltk.download('stopwords')"
      ]
    },
    {
      "cell_type": "code",
      "execution_count": null,
      "metadata": {
        "execution": {
          "iopub.execute_input": "2021-05-26T06:22:55.433577Z",
          "iopub.status.busy": "2021-05-26T06:22:55.432768Z",
          "iopub.status.idle": "2021-05-26T06:22:56.263329Z",
          "shell.execute_reply": "2021-05-26T06:22:56.262247Z",
          "shell.execute_reply.started": "2021-05-26T06:22:55.43353Z"
        },
        "id": "e7B_Mmd6uMaJ",
        "trusted": true
      },
      "outputs": [],
      "source": [
        "import re\n",
        "stemmer = nltk.SnowballStemmer(\"english\")\n",
        "from nltk.corpus import stopwords\n",
        "import string\n",
        "stopword=set(stopwords.words('english'))\n"
      ]
    },
    {
      "cell_type": "code",
      "execution_count": null,
      "metadata": {
        "execution": {
          "iopub.execute_input": "2021-05-26T06:22:56.266557Z",
          "iopub.status.busy": "2021-05-26T06:22:56.266192Z",
          "iopub.status.idle": "2021-05-26T06:22:56.280476Z",
          "shell.execute_reply": "2021-05-26T06:22:56.279073Z",
          "shell.execute_reply.started": "2021-05-26T06:22:56.266523Z"
        },
        "id": "7WAZnTJRuMaJ",
        "trusted": true
      },
      "outputs": [],
      "source": [
        "def clean_text(text):\n",
        "    text = str(text).lower()\n",
        "    text = re.sub('\\[.*?\\]', '', text)\n",
        "    text = re.sub('https?://\\S+|www\\.\\S+', '', text)\n",
        "    text = re.sub('<.*?>+', '', text)\n",
        "    text = re.sub('[%s]' % re.escape(string.punctuation), '', text)\n",
        "    text = re.sub('\\n', '', text)\n",
        "    text = re.sub('\\w*\\d\\w*', '', text)\n",
        "    text = [word for word in text.split(' ') if word not in stopword]\n",
        "    text=\" \".join(text)\n",
        "    text = [stemmer.stem(word) for word in text.split(' ')]\n",
        "    text=\" \".join(text)\n",
        "    return text"
      ]
    },
    {
      "cell_type": "code",
      "execution_count": null,
      "metadata": {
        "execution": {
          "iopub.execute_input": "2021-05-26T06:22:56.283463Z",
          "iopub.status.busy": "2021-05-26T06:22:56.282553Z",
          "iopub.status.idle": "2021-05-26T06:23:08.184761Z",
          "shell.execute_reply": "2021-05-26T06:23:08.183727Z",
          "shell.execute_reply.started": "2021-05-26T06:22:56.283389Z"
        },
        "id": "ZxMKRCo9uMaK",
        "trusted": true
      },
      "outputs": [],
      "source": [
        "df['tweet']=df['tweet'].apply(clean_text)"
      ]
    },
    {
      "cell_type": "code",
      "execution_count": null,
      "metadata": {
        "colab": {
          "base_uri": "https://localhost:8080/",
          "height": 206
        },
        "execution": {
          "iopub.execute_input": "2021-05-26T06:23:08.189045Z",
          "iopub.status.busy": "2021-05-26T06:23:08.188409Z",
          "iopub.status.idle": "2021-05-26T06:23:08.201124Z",
          "shell.execute_reply": "2021-05-26T06:23:08.199831Z",
          "shell.execute_reply.started": "2021-05-26T06:23:08.188997Z"
        },
        "id": "c47ozhZOuMaK",
        "outputId": "6e6e1e93-6101-4b22-82ef-1e43ede48251",
        "trusted": true
      },
      "outputs": [
        {
          "data": {
            "text/html": [
              "\n",
              "  <div id=\"df-3e7c9af3-078f-4fa5-9c97-ca9c038952da\">\n",
              "    <div class=\"colab-df-container\">\n",
              "      <div>\n",
              "<style scoped>\n",
              "    .dataframe tbody tr th:only-of-type {\n",
              "        vertical-align: middle;\n",
              "    }\n",
              "\n",
              "    .dataframe tbody tr th {\n",
              "        vertical-align: top;\n",
              "    }\n",
              "\n",
              "    .dataframe thead th {\n",
              "        text-align: right;\n",
              "    }\n",
              "</style>\n",
              "<table border=\"1\" class=\"dataframe\">\n",
              "  <thead>\n",
              "    <tr style=\"text-align: right;\">\n",
              "      <th></th>\n",
              "      <th>label</th>\n",
              "      <th>tweet</th>\n",
              "    </tr>\n",
              "  </thead>\n",
              "  <tbody>\n",
              "    <tr>\n",
              "      <th>0</th>\n",
              "      <td>0</td>\n",
              "      <td>user father dysfunct selfish drag kid dysfunc...</td>\n",
              "    </tr>\n",
              "    <tr>\n",
              "      <th>1</th>\n",
              "      <td>0</td>\n",
              "      <td>user user thank lyft credit cant use caus dont...</td>\n",
              "    </tr>\n",
              "    <tr>\n",
              "      <th>2</th>\n",
              "      <td>0</td>\n",
              "      <td>bihday majesti</td>\n",
              "    </tr>\n",
              "    <tr>\n",
              "      <th>3</th>\n",
              "      <td>0</td>\n",
              "      <td>model   love u take u time urð± ððð...</td>\n",
              "    </tr>\n",
              "    <tr>\n",
              "      <th>4</th>\n",
              "      <td>0</td>\n",
              "      <td>factsguid societi    motiv</td>\n",
              "    </tr>\n",
              "  </tbody>\n",
              "</table>\n",
              "</div>\n",
              "      <button class=\"colab-df-convert\" onclick=\"convertToInteractive('df-3e7c9af3-078f-4fa5-9c97-ca9c038952da')\"\n",
              "              title=\"Convert this dataframe to an interactive table.\"\n",
              "              style=\"display:none;\">\n",
              "        \n",
              "  <svg xmlns=\"http://www.w3.org/2000/svg\" height=\"24px\"viewBox=\"0 0 24 24\"\n",
              "       width=\"24px\">\n",
              "    <path d=\"M0 0h24v24H0V0z\" fill=\"none\"/>\n",
              "    <path d=\"M18.56 5.44l.94 2.06.94-2.06 2.06-.94-2.06-.94-.94-2.06-.94 2.06-2.06.94zm-11 1L8.5 8.5l.94-2.06 2.06-.94-2.06-.94L8.5 2.5l-.94 2.06-2.06.94zm10 10l.94 2.06.94-2.06 2.06-.94-2.06-.94-.94-2.06-.94 2.06-2.06.94z\"/><path d=\"M17.41 7.96l-1.37-1.37c-.4-.4-.92-.59-1.43-.59-.52 0-1.04.2-1.43.59L10.3 9.45l-7.72 7.72c-.78.78-.78 2.05 0 2.83L4 21.41c.39.39.9.59 1.41.59.51 0 1.02-.2 1.41-.59l7.78-7.78 2.81-2.81c.8-.78.8-2.07 0-2.86zM5.41 20L4 18.59l7.72-7.72 1.47 1.35L5.41 20z\"/>\n",
              "  </svg>\n",
              "      </button>\n",
              "      \n",
              "  <style>\n",
              "    .colab-df-container {\n",
              "      display:flex;\n",
              "      flex-wrap:wrap;\n",
              "      gap: 12px;\n",
              "    }\n",
              "\n",
              "    .colab-df-convert {\n",
              "      background-color: #E8F0FE;\n",
              "      border: none;\n",
              "      border-radius: 50%;\n",
              "      cursor: pointer;\n",
              "      display: none;\n",
              "      fill: #1967D2;\n",
              "      height: 32px;\n",
              "      padding: 0 0 0 0;\n",
              "      width: 32px;\n",
              "    }\n",
              "\n",
              "    .colab-df-convert:hover {\n",
              "      background-color: #E2EBFA;\n",
              "      box-shadow: 0px 1px 2px rgba(60, 64, 67, 0.3), 0px 1px 3px 1px rgba(60, 64, 67, 0.15);\n",
              "      fill: #174EA6;\n",
              "    }\n",
              "\n",
              "    [theme=dark] .colab-df-convert {\n",
              "      background-color: #3B4455;\n",
              "      fill: #D2E3FC;\n",
              "    }\n",
              "\n",
              "    [theme=dark] .colab-df-convert:hover {\n",
              "      background-color: #434B5C;\n",
              "      box-shadow: 0px 1px 3px 1px rgba(0, 0, 0, 0.15);\n",
              "      filter: drop-shadow(0px 1px 2px rgba(0, 0, 0, 0.3));\n",
              "      fill: #FFFFFF;\n",
              "    }\n",
              "  </style>\n",
              "\n",
              "      <script>\n",
              "        const buttonEl =\n",
              "          document.querySelector('#df-3e7c9af3-078f-4fa5-9c97-ca9c038952da button.colab-df-convert');\n",
              "        buttonEl.style.display =\n",
              "          google.colab.kernel.accessAllowed ? 'block' : 'none';\n",
              "\n",
              "        async function convertToInteractive(key) {\n",
              "          const element = document.querySelector('#df-3e7c9af3-078f-4fa5-9c97-ca9c038952da');\n",
              "          const dataTable =\n",
              "            await google.colab.kernel.invokeFunction('convertToInteractive',\n",
              "                                                     [key], {});\n",
              "          if (!dataTable) return;\n",
              "\n",
              "          const docLinkHtml = 'Like what you see? Visit the ' +\n",
              "            '<a target=\"_blank\" href=https://colab.research.google.com/notebooks/data_table.ipynb>data table notebook</a>'\n",
              "            + ' to learn more about interactive tables.';\n",
              "          element.innerHTML = '';\n",
              "          dataTable['output_type'] = 'display_data';\n",
              "          await google.colab.output.renderOutput(dataTable, element);\n",
              "          const docLink = document.createElement('div');\n",
              "          docLink.innerHTML = docLinkHtml;\n",
              "          element.appendChild(docLink);\n",
              "        }\n",
              "      </script>\n",
              "    </div>\n",
              "  </div>\n",
              "  "
            ],
            "text/plain": [
              "   label                                              tweet\n",
              "0      0   user father dysfunct selfish drag kid dysfunc...\n",
              "1      0  user user thank lyft credit cant use caus dont...\n",
              "2      0                                     bihday majesti\n",
              "3      0  model   love u take u time urð± ððð...\n",
              "4      0                         factsguid societi    motiv"
            ]
          },
          "execution_count": 38,
          "metadata": {},
          "output_type": "execute_result"
        }
      ],
      "source": [
        "df.head()"
      ]
    },
    {
      "cell_type": "code",
      "execution_count": null,
      "metadata": {
        "execution": {
          "iopub.execute_input": "2021-05-26T06:23:08.20442Z",
          "iopub.status.busy": "2021-05-26T06:23:08.203933Z",
          "iopub.status.idle": "2021-05-26T06:23:08.248716Z",
          "shell.execute_reply": "2021-05-26T06:23:08.247653Z",
          "shell.execute_reply.started": "2021-05-26T06:23:08.204373Z"
        },
        "id": "ztn8nDRAuMaK",
        "trusted": true
      },
      "outputs": [],
      "source": [
        "from wordcloud import WordCloud, STOPWORDS\n",
        "import matplotlib.pyplot as plt\n",
        "import pandas as pd\n",
        "  "
      ]
    },
    {
      "cell_type": "code",
      "execution_count": null,
      "metadata": {
        "execution": {
          "iopub.execute_input": "2021-05-26T06:23:08.250989Z",
          "iopub.status.busy": "2021-05-26T06:23:08.250511Z",
          "iopub.status.idle": "2021-05-26T06:23:08.259857Z",
          "shell.execute_reply": "2021-05-26T06:23:08.258521Z",
          "shell.execute_reply.started": "2021-05-26T06:23:08.250934Z"
        },
        "id": "A0nJ-pq4uMaK",
        "trusted": true
      },
      "outputs": [],
      "source": [
        "def make_wordcloud(df):\n",
        "    comment_words=\"\"\n",
        "    for val in df.tweet: \n",
        "        val = str(val).lower()\n",
        "\n",
        "      \n",
        "        comment_words += \" \".join(val)+\" \"\n",
        "    print(comment_words[0:100])\n",
        "    wordcloud = WordCloud(width = 800, height = 800,\n",
        "                background_color ='white',\n",
        "                stopwords = stopwords,min_font_size = 10).generate(comment_words)\n",
        "  \n",
        "    plt.figure(figsize = (8, 8), facecolor = None)\n",
        "    plt.imshow(wordcloud)\n",
        "    plt.axis(\"off\")\n",
        "    plt.tight_layout(pad = 0)\n",
        "\n",
        "    plt.show()"
      ]
    },
    {
      "cell_type": "code",
      "execution_count": null,
      "metadata": {
        "execution": {
          "iopub.execute_input": "2021-05-26T06:23:08.263058Z",
          "iopub.status.busy": "2021-05-26T06:23:08.261962Z",
          "iopub.status.idle": "2021-05-26T06:23:08.271236Z",
          "shell.execute_reply": "2021-05-26T06:23:08.269534Z",
          "shell.execute_reply.started": "2021-05-26T06:23:08.262829Z"
        },
        "id": "EU_99cPJuMaL",
        "trusted": true
      },
      "outputs": [],
      "source": [
        "# make_wordcloud(df[df['label']==0])"
      ]
    },
    {
      "cell_type": "code",
      "execution_count": null,
      "metadata": {
        "execution": {
          "iopub.execute_input": "2021-05-26T06:23:08.274829Z",
          "iopub.status.busy": "2021-05-26T06:23:08.27314Z",
          "iopub.status.idle": "2021-05-26T06:23:08.283096Z",
          "shell.execute_reply": "2021-05-26T06:23:08.281872Z",
          "shell.execute_reply.started": "2021-05-26T06:23:08.274789Z"
        },
        "id": "Qfon6QoguMaL",
        "trusted": true
      },
      "outputs": [],
      "source": [
        "x=df['tweet']\n",
        "y=df['label']"
      ]
    },
    {
      "cell_type": "code",
      "execution_count": null,
      "metadata": {
        "colab": {
          "base_uri": "https://localhost:8080/"
        },
        "execution": {
          "iopub.execute_input": "2021-05-26T06:23:08.285406Z",
          "iopub.status.busy": "2021-05-26T06:23:08.284705Z",
          "iopub.status.idle": "2021-05-26T06:23:08.306214Z",
          "shell.execute_reply": "2021-05-26T06:23:08.305193Z",
          "shell.execute_reply.started": "2021-05-26T06:23:08.285361Z"
        },
        "id": "UXDYMJvkuMaL",
        "outputId": "8bf1f276-6ad6-47f2-aa6d-247bcf72eea7",
        "trusted": true
      },
      "outputs": [
        {
          "name": "stdout",
          "output_type": "stream",
          "text": [
            "42558 42558\n",
            "14187 14187\n"
          ]
        }
      ],
      "source": [
        "from sklearn.model_selection import train_test_split\n",
        "\n",
        "x_train, x_test, y_train, y_test = train_test_split(x, y, random_state=42)\n",
        "print(len(x_train), len(y_train))\n",
        "print(len(x_test), len(y_test))"
      ]
    },
    {
      "cell_type": "code",
      "execution_count": null,
      "metadata": {
        "execution": {
          "iopub.execute_input": "2021-05-26T06:23:08.308425Z",
          "iopub.status.busy": "2021-05-26T06:23:08.307933Z",
          "iopub.status.idle": "2021-05-26T06:23:13.936274Z",
          "shell.execute_reply": "2021-05-26T06:23:13.935178Z",
          "shell.execute_reply.started": "2021-05-26T06:23:08.308383Z"
        },
        "id": "EelHnDkJuMaL",
        "trusted": true
      },
      "outputs": [],
      "source": [
        "from sklearn.feature_extraction.text import CountVectorizer\n",
        "\n",
        "count = CountVectorizer(stop_words='english', ngram_range=(1,5))\n",
        "x_train_vectorizer=count.fit_transform(x_train)"
      ]
    },
    {
      "cell_type": "code",
      "execution_count": null,
      "metadata": {
        "execution": {
          "iopub.execute_input": "2021-05-26T06:23:13.938649Z",
          "iopub.status.busy": "2021-05-26T06:23:13.938159Z",
          "iopub.status.idle": "2021-05-26T06:23:15.669623Z",
          "shell.execute_reply": "2021-05-26T06:23:15.668617Z",
          "shell.execute_reply.started": "2021-05-26T06:23:13.938605Z"
        },
        "id": "JPy2yrtuuMaL",
        "trusted": true
      },
      "outputs": [],
      "source": [
        "x_test_vectorizer=count.transform(x_test)\n",
        "x_train_vectorizer.toarray()\n"
      ]
    },
    {
      "cell_type": "code",
      "execution_count": null,
      "metadata": {
        "collapsed": true,
        "execution": {
          "iopub.execute_input": "2021-05-26T06:23:15.671696Z",
          "iopub.status.busy": "2021-05-26T06:23:15.671259Z",
          "iopub.status.idle": "2021-05-26T06:23:15.720542Z",
          "shell.execute_reply": "2021-05-26T06:23:15.719034Z",
          "shell.execute_reply.started": "2021-05-26T06:23:15.671662Z"
        },
        "id": "N7LMlJMZuMaL",
        "jupyter": {
          "outputs_hidden": true
        },
        "trusted": true
      },
      "outputs": [],
      "source": [
        "count.vocabulary_\n"
      ]
    },
    {
      "cell_type": "code",
      "execution_count": null,
      "metadata": {
        "id": "nZVgqDxIxC0Q"
      },
      "outputs": [],
      "source": []
    },
    {
      "cell_type": "code",
      "execution_count": null,
      "metadata": {
        "execution": {
          "iopub.execute_input": "2021-05-26T06:23:15.722964Z",
          "iopub.status.busy": "2021-05-26T06:23:15.722524Z",
          "iopub.status.idle": "2021-05-26T06:23:18.171547Z",
          "shell.execute_reply": "2021-05-26T06:23:18.17039Z",
          "shell.execute_reply.started": "2021-05-26T06:23:15.722909Z"
        },
        "id": "rQkVTYuyuMaM",
        "trusted": true
      },
      "outputs": [],
      "source": [
        "from sklearn.feature_extraction.text import TfidfTransformer\n",
        "tfidf = TfidfTransformer()\n",
        "\n",
        "x_train_tfidf = tfidf.fit_transform(x_train_vectorizer)\n",
        "\n",
        "x_train_tfidf.toarray()\n",
        "x_test_tfidf = tfidf.transform(x_test_vectorizer)\n"
      ]
    },
    {
      "cell_type": "code",
      "execution_count": null,
      "metadata": {
        "execution": {
          "iopub.execute_input": "2021-05-26T06:23:18.17385Z",
          "iopub.status.busy": "2021-05-26T06:23:18.173285Z",
          "iopub.status.idle": "2021-05-26T06:23:18.183739Z",
          "shell.execute_reply": "2021-05-26T06:23:18.182383Z",
          "shell.execute_reply.started": "2021-05-26T06:23:18.173795Z"
        },
        "id": "ymYmWrrvuMaM",
        "trusted": true
      },
      "outputs": [],
      "source": [
        "from sklearn.naive_bayes import MultinomialNB\n",
        "from sklearn.metrics import classification_report\n",
        "from sklearn.metrics import confusion_matrix"
      ]
    },
    {
      "cell_type": "code",
      "execution_count": null,
      "metadata": {
        "execution": {
          "iopub.execute_input": "2021-05-26T06:23:18.186643Z",
          "iopub.status.busy": "2021-05-26T06:23:18.185759Z",
          "iopub.status.idle": "2021-05-26T06:23:18.320812Z",
          "shell.execute_reply": "2021-05-26T06:23:18.319529Z",
          "shell.execute_reply.started": "2021-05-26T06:23:18.186591Z"
        },
        "id": "EqPWNfW5uMaM",
        "trusted": true
      },
      "outputs": [],
      "source": [
        "model_vectorizer= MultinomialNB().fit(x_train_vectorizer, y_train)\n",
        "prediction_vectorizer=model_vectorizer.predict(x_test_vectorizer)\n",
        "print(confusion_matrix(y_test,prediction_vectorizer))\n",
        "print (classification_report(y_test, prediction_vectorizer))"
      ]
    },
    {
      "cell_type": "code",
      "execution_count": null,
      "metadata": {
        "execution": {
          "iopub.execute_input": "2021-05-26T06:23:18.323589Z",
          "iopub.status.busy": "2021-05-26T06:23:18.32293Z",
          "iopub.status.idle": "2021-05-26T06:23:18.44319Z",
          "shell.execute_reply": "2021-05-26T06:23:18.441919Z",
          "shell.execute_reply.started": "2021-05-26T06:23:18.323537Z"
        },
        "id": "L0h62tu9uMaM",
        "trusted": true
      },
      "outputs": [],
      "source": [
        "model_tfidf= MultinomialNB().fit(x_train_tfidf, y_train)\n",
        "prediction_tfidf=model_tfidf.predict(x_test_tfidf)\n",
        "print (classification_report(y_test, prediction_tfidf))\n",
        "print(confusion_matrix(y_test,prediction_tfidf))"
      ]
    },
    {
      "cell_type": "code",
      "execution_count": null,
      "metadata": {
        "execution": {
          "iopub.execute_input": "2021-05-26T06:23:18.445742Z",
          "iopub.status.busy": "2021-05-26T06:23:18.445006Z",
          "iopub.status.idle": "2021-05-26T06:23:22.415137Z",
          "shell.execute_reply": "2021-05-26T06:23:22.414091Z",
          "shell.execute_reply.started": "2021-05-26T06:23:18.445689Z"
        },
        "id": "YXeQ4CItuMaM",
        "trusted": true
      },
      "outputs": [],
      "source": [
        "import xgboost as xgb\n",
        "xgb_model=xgb.XGBClassifier(\n",
        "        learning_rate=0.1,\n",
        "        max_depth=7,\n",
        "        n_estimators=80,\n",
        "        use_label_encoder=False,\n",
        "        eval_metric='auc' )"
      ]
    },
    {
      "cell_type": "code",
      "execution_count": null,
      "metadata": {
        "execution": {
          "iopub.execute_input": "2021-05-26T06:23:22.419701Z",
          "iopub.status.busy": "2021-05-26T06:23:22.419319Z",
          "iopub.status.idle": "2021-05-26T06:24:30.10352Z",
          "shell.execute_reply": "2021-05-26T06:24:30.101941Z",
          "shell.execute_reply.started": "2021-05-26T06:23:22.419669Z"
        },
        "id": "Z0cFTCy-uMaN",
        "trusted": true
      },
      "outputs": [],
      "source": [
        "xgb_model_vectorizer = xgb_model.fit(x_train_vectorizer, y_train)\n",
        "xgb_predictions_vectorizer=xgb_model_vectorizer.predict(x_test_vectorizer)\n",
        "print(confusion_matrix(y_test,xgb_predictions_vectorizer))\n",
        "print (classification_report(y_test, xgb_predictions_vectorizer))"
      ]
    },
    {
      "cell_type": "code",
      "execution_count": null,
      "metadata": {
        "execution": {
          "iopub.execute_input": "2021-05-26T06:24:30.106474Z",
          "iopub.status.busy": "2021-05-26T06:24:30.105626Z",
          "iopub.status.idle": "2021-05-26T06:25:49.377317Z",
          "shell.execute_reply": "2021-05-26T06:25:49.376063Z",
          "shell.execute_reply.started": "2021-05-26T06:24:30.106422Z"
        },
        "id": "O_naNrIbuMaN",
        "trusted": true
      },
      "outputs": [],
      "source": [
        "xgb_model = xgb_model.fit(x_train_tfidf, y_train)\n",
        "xgb_predictions=xgb_model.predict(x_test_tfidf)\n",
        "print(confusion_matrix(y_test,xgb_predictions))\n",
        "print (classification_report(y_test, xgb_predictions))"
      ]
    },
    {
      "cell_type": "code",
      "execution_count": null,
      "metadata": {
        "execution": {
          "iopub.execute_input": "2021-05-26T06:25:49.379725Z",
          "iopub.status.busy": "2021-05-26T06:25:49.379046Z",
          "iopub.status.idle": "2021-05-26T06:25:55.279809Z",
          "shell.execute_reply": "2021-05-26T06:25:55.278723Z",
          "shell.execute_reply.started": "2021-05-26T06:25:49.379675Z"
        },
        "id": "Q3qpuDU-uMaN",
        "trusted": true
      },
      "outputs": [],
      "source": [
        "from keras.models import Model\n",
        "from keras.layers import LSTM, Activation, Dense, Dropout, Input, Embedding,SpatialDropout1D\n",
        "from keras.optimizers import RMSprop\n",
        "from keras.preprocessing.text import Tokenizer\n",
        "from keras.preprocessing import sequence\n",
        "from keras.utils import to_categorical\n",
        "from keras.callbacks import EarlyStopping\n",
        "from keras.models import Sequential\n"
      ]
    },
    {
      "cell_type": "code",
      "execution_count": null,
      "metadata": {
        "execution": {
          "iopub.execute_input": "2021-05-26T06:25:55.281803Z",
          "iopub.status.busy": "2021-05-26T06:25:55.281383Z",
          "iopub.status.idle": "2021-05-26T06:25:57.112782Z",
          "shell.execute_reply": "2021-05-26T06:25:57.111581Z",
          "shell.execute_reply.started": "2021-05-26T06:25:55.281757Z"
        },
        "id": "7-QcJA0RuMaN",
        "trusted": true
      },
      "outputs": [],
      "source": [
        "max_words = 50000\n",
        "max_len = 300\n",
        "tokenizer = Tokenizer(num_words=max_words)\n",
        "tokenizer.fit_on_texts(x_train)\n",
        "sequences = tokenizer.texts_to_sequences(x_train)\n",
        "sequences_matrix = sequence.pad_sequences(sequences,maxlen=max_len)"
      ]
    },
    {
      "cell_type": "code",
      "execution_count": null,
      "metadata": {
        "execution": {
          "iopub.execute_input": "2021-05-26T06:25:57.114976Z",
          "iopub.status.busy": "2021-05-26T06:25:57.114539Z",
          "iopub.status.idle": "2021-05-26T06:26:02.380016Z",
          "shell.execute_reply": "2021-05-26T06:26:02.378869Z",
          "shell.execute_reply.started": "2021-05-26T06:25:57.114928Z"
        },
        "id": "1U3PXRrkuMaN",
        "trusted": true
      },
      "outputs": [],
      "source": [
        "model = Sequential()\n",
        "model.add(Embedding(max_words, 100, input_length=max_len))\n",
        "model.add(SpatialDropout1D(0.2))\n",
        "model.add(LSTM(100, dropout=0.2, recurrent_dropout=0.2))\n",
        "model.add(Dense(1, activation='sigmoid'))\n",
        "model.summary()\n",
        "model.compile(loss='binary_crossentropy',optimizer=RMSprop(),metrics=['accuracy'])"
      ]
    },
    {
      "cell_type": "code",
      "execution_count": null,
      "metadata": {
        "execution": {
          "iopub.execute_input": "2021-05-26T06:26:02.383Z",
          "iopub.status.busy": "2021-05-26T06:26:02.382438Z",
          "iopub.status.idle": "2021-05-26T06:26:02.39147Z",
          "shell.execute_reply": "2021-05-26T06:26:02.389498Z",
          "shell.execute_reply.started": "2021-05-26T06:26:02.382937Z"
        },
        "id": "PpHDSnwnuMaO",
        "trusted": true
      },
      "outputs": [],
      "source": [
        "from keras.callbacks import EarlyStopping,ModelCheckpoint\n",
        "\n",
        "stop = EarlyStopping(\n",
        "    monitor='val_accuracy', \n",
        "    mode='max',\n",
        "    patience=5\n",
        ")\n",
        "\n",
        "checkpoint= ModelCheckpoint(\n",
        "    filepath='./',\n",
        "    save_weights_only=True,\n",
        "    monitor='val_accuracy',\n",
        "    mode='max',\n",
        "    save_best_only=True)"
      ]
    },
    {
      "cell_type": "code",
      "execution_count": null,
      "metadata": {
        "execution": {
          "iopub.execute_input": "2021-05-26T06:26:02.393925Z",
          "iopub.status.busy": "2021-05-26T06:26:02.393334Z",
          "iopub.status.idle": "2021-05-26T06:37:24.494993Z",
          "shell.execute_reply": "2021-05-26T06:37:24.493908Z",
          "shell.execute_reply.started": "2021-05-26T06:26:02.393875Z"
        },
        "id": "3RjpUbXwuMaO",
        "trusted": true
      },
      "outputs": [],
      "source": [
        "history=model.fit(sequences_matrix,y_train,batch_size=1024,epochs=10,\n",
        "          validation_split=0.2,callbacks=[stop,checkpoint])"
      ]
    },
    {
      "cell_type": "code",
      "execution_count": null,
      "metadata": {
        "execution": {
          "iopub.execute_input": "2021-05-26T06:37:28.427307Z",
          "iopub.status.busy": "2021-05-26T06:37:28.426887Z",
          "iopub.status.idle": "2021-05-26T06:37:28.756984Z",
          "shell.execute_reply": "2021-05-26T06:37:28.755866Z",
          "shell.execute_reply.started": "2021-05-26T06:37:28.427255Z"
        },
        "id": "X6ngAm6KuMaO",
        "trusted": true
      },
      "outputs": [],
      "source": [
        "test_sequences = tokenizer.texts_to_sequences(x_test)\n",
        "test_sequences_matrix = sequence.pad_sequences(test_sequences,maxlen=max_len)"
      ]
    },
    {
      "cell_type": "code",
      "execution_count": null,
      "metadata": {
        "execution": {
          "iopub.execute_input": "2021-05-26T06:37:38.089386Z",
          "iopub.status.busy": "2021-05-26T06:37:38.088959Z",
          "iopub.status.idle": "2021-05-26T06:38:21.515007Z",
          "shell.execute_reply": "2021-05-26T06:38:21.513891Z",
          "shell.execute_reply.started": "2021-05-26T06:37:38.089354Z"
        },
        "id": "00sJumZwuMaO",
        "trusted": true
      },
      "outputs": [],
      "source": [
        "accr = model.evaluate(test_sequences_matrix,y_test)\n"
      ]
    },
    {
      "cell_type": "code",
      "execution_count": null,
      "metadata": {
        "execution": {
          "iopub.execute_input": "2021-05-26T06:38:26.827409Z",
          "iopub.status.busy": "2021-05-26T06:38:26.826898Z",
          "iopub.status.idle": "2021-05-26T06:39:08.830382Z",
          "shell.execute_reply": "2021-05-26T06:39:08.829004Z",
          "shell.execute_reply.started": "2021-05-26T06:38:26.827361Z"
        },
        "id": "KcBby98puMaO",
        "trusted": true
      },
      "outputs": [],
      "source": [
        "lstm_prediction=model.predict(test_sequences_matrix)\n"
      ]
    },
    {
      "cell_type": "code",
      "execution_count": null,
      "metadata": {
        "execution": {
          "iopub.execute_input": "2021-05-26T06:40:23.38009Z",
          "iopub.status.busy": "2021-05-26T06:40:23.379646Z",
          "iopub.status.idle": "2021-05-26T06:40:23.439565Z",
          "shell.execute_reply": "2021-05-26T06:40:23.438345Z",
          "shell.execute_reply.started": "2021-05-26T06:40:23.380058Z"
        },
        "id": "N3MY38obuMaP",
        "trusted": true
      },
      "outputs": [],
      "source": [
        "res=[]\n",
        "for prediction in lstm_prediction:\n",
        "    if prediction[0]<0.5:\n",
        "        res.append(0)\n",
        "    else:\n",
        "        res.append(1)"
      ]
    },
    {
      "cell_type": "code",
      "execution_count": null,
      "metadata": {
        "execution": {
          "iopub.execute_input": "2021-05-26T06:40:25.013547Z",
          "iopub.status.busy": "2021-05-26T06:40:25.013102Z",
          "iopub.status.idle": "2021-05-26T06:40:25.051071Z",
          "shell.execute_reply": "2021-05-26T06:40:25.049724Z",
          "shell.execute_reply.started": "2021-05-26T06:40:25.013512Z"
        },
        "id": "vuixlyLbuMaP",
        "trusted": true
      },
      "outputs": [],
      "source": [
        "print(confusion_matrix(y_test,res))\n"
      ]
    },
    {
      "cell_type": "code",
      "execution_count": null,
      "metadata": {
        "execution": {
          "iopub.execute_input": "2021-05-26T06:40:59.53707Z",
          "iopub.status.busy": "2021-05-26T06:40:59.536654Z",
          "iopub.status.idle": "2021-05-26T06:40:59.600123Z",
          "shell.execute_reply": "2021-05-26T06:40:59.599205Z",
          "shell.execute_reply.started": "2021-05-26T06:40:59.537036Z"
        },
        "id": "q0v7Zn4KuMaP",
        "trusted": true
      },
      "outputs": [],
      "source": [
        "import pickle\n",
        "with open('tokenizer.pickle', 'wb') as handle:\n",
        "    pickle.dump(tokenizer, handle, protocol=pickle.HIGHEST_PROTOCOL)"
      ]
    },
    {
      "cell_type": "code",
      "execution_count": null,
      "metadata": {
        "execution": {
          "iopub.execute_input": "2021-05-26T06:42:24.156841Z",
          "iopub.status.busy": "2021-05-26T06:42:24.156417Z",
          "iopub.status.idle": "2021-05-26T06:42:24.301185Z",
          "shell.execute_reply": "2021-05-26T06:42:24.300011Z",
          "shell.execute_reply.started": "2021-05-26T06:42:24.156806Z"
        },
        "id": "9mTC5rnDuMaP",
        "trusted": true
      },
      "outputs": [],
      "source": [
        "model.save(\"hate&abusive_model.h5\")"
      ]
    },
    {
      "cell_type": "code",
      "execution_count": null,
      "metadata": {
        "execution": {
          "iopub.execute_input": "2021-05-26T06:47:10.218122Z",
          "iopub.status.busy": "2021-05-26T06:47:10.217689Z",
          "iopub.status.idle": "2021-05-26T06:47:10.22408Z",
          "shell.execute_reply": "2021-05-26T06:47:10.222358Z",
          "shell.execute_reply.started": "2021-05-26T06:47:10.218086Z"
        },
        "id": "6yIc2CcCuMaP",
        "trusted": true
      },
      "outputs": [],
      "source": [
        "import keras"
      ]
    },
    {
      "cell_type": "code",
      "execution_count": null,
      "metadata": {
        "execution": {
          "iopub.execute_input": "2021-05-26T07:45:21.069747Z",
          "iopub.status.busy": "2021-05-26T07:45:21.069095Z",
          "iopub.status.idle": "2021-05-26T07:45:21.460314Z",
          "shell.execute_reply": "2021-05-26T07:45:21.458844Z",
          "shell.execute_reply.started": "2021-05-26T07:45:21.069695Z"
        },
        "id": "P6y2-Bi4uMaQ",
        "trusted": true
      },
      "outputs": [],
      "source": [
        "load_model=keras.models.load_model(\"./hate&abusive_model.h5\")\n",
        "with open('tokenizer.pickle', 'rb') as handle:\n",
        "    load_tokenizer = pickle.load(handle)"
      ]
    },
    {
      "cell_type": "code",
      "execution_count": null,
      "metadata": {
        "execution": {
          "iopub.execute_input": "2021-05-26T07:45:31.00952Z",
          "iopub.status.busy": "2021-05-26T07:45:31.00901Z",
          "iopub.status.idle": "2021-05-26T07:45:31.453167Z",
          "shell.execute_reply": "2021-05-26T07:45:31.45202Z",
          "shell.execute_reply.started": "2021-05-26T07:45:31.009483Z"
        },
        "id": "OCbmPjvOuMaQ",
        "trusted": true
      },
      "outputs": [],
      "source": [
        "test = 'I hate my country'\n",
        "def clean_text(text):\n",
        "    print(text)\n",
        "    text = str(text).lower()\n",
        "    text = re.sub('\\[.*?\\]', '', text)\n",
        "    text = re.sub('https?://\\S+|www\\.\\S+', '', text)\n",
        "    text = re.sub('<.*?>+', '', text)\n",
        "    text = re.sub('[%s]' % re.escape(string.punctuation), '', text)\n",
        "    text = re.sub('\\n', '', text)\n",
        "    text = re.sub('\\w*\\d\\w*', '', text)\n",
        "    print(text)\n",
        "    text = [word for word in text.split(' ') if word not in stopword]\n",
        "    text=\" \".join(text)\n",
        "    text = [stemmer.stem(word) for word in text.split(' ')]\n",
        "    text=\" \".join(text)\n",
        "    return text\n",
        "test=[clean_text(test)]\n",
        "print(test)\n",
        "seq = load_tokenizer.texts_to_sequences(test)\n",
        "padded = sequence.pad_sequences(seq, maxlen=300)\n",
        "print(seq)\n",
        "pred = load_model.predict(padded)\n",
        "print(\"pred\", pred)\n",
        "if pred<0.5:\n",
        "    print(\"no hate\")\n",
        "else:\n",
        "    print(\"hate and abusive\")"
      ]
    },
    {
      "cell_type": "code",
      "execution_count": null,
      "metadata": {
        "execution": {
          "iopub.execute_input": "2021-05-26T07:10:09.756576Z",
          "iopub.status.busy": "2021-05-26T07:10:09.756143Z",
          "iopub.status.idle": "2021-05-26T07:10:09.767459Z",
          "shell.execute_reply": "2021-05-26T07:10:09.766325Z",
          "shell.execute_reply.started": "2021-05-26T07:10:09.756542Z"
        },
        "id": "1EYUOtZJuMaQ",
        "trusted": true
      },
      "outputs": [],
      "source": [
        "frame=[df_twitter,df_offensive]\n",
        "df2 = pd.concat(frame)\n"
      ]
    },
    {
      "cell_type": "code",
      "execution_count": null,
      "metadata": {
        "execution": {
          "iopub.execute_input": "2021-05-26T07:10:19.36737Z",
          "iopub.status.busy": "2021-05-26T07:10:19.366949Z",
          "iopub.status.idle": "2021-05-26T07:10:19.384832Z",
          "shell.execute_reply": "2021-05-26T07:10:19.383743Z",
          "shell.execute_reply.started": "2021-05-26T07:10:19.367336Z"
        },
        "id": "m-sFor7zuMaQ",
        "trusted": true
      },
      "outputs": [],
      "source": [
        "df2.head()"
      ]
    },
    {
      "cell_type": "code",
      "execution_count": null,
      "metadata": {
        "execution": {
          "iopub.execute_input": "2021-05-26T07:12:02.541522Z",
          "iopub.status.busy": "2021-05-26T07:12:02.540905Z",
          "iopub.status.idle": "2021-05-26T07:12:03.135448Z",
          "shell.execute_reply": "2021-05-26T07:12:03.134217Z",
          "shell.execute_reply.started": "2021-05-26T07:12:02.541436Z"
        },
        "id": "ldXESO77uMaQ",
        "trusted": true
      },
      "outputs": [],
      "source": [
        "REPLACE_BY_SPACE_RE = re.compile('[/(){}\\[\\]\\|@,;]')\n",
        "BAD_SYMBOLS_RE = re.compile('[^0-9a-z #+_]')\n",
        "STOPWORDS = set(stopwords.words('english'))\n",
        "\n",
        "def clean_text(text):\n",
        "\n",
        "    text = text.lower() \n",
        "    text = REPLACE_BY_SPACE_RE.sub(' ', text)\n",
        "    text = BAD_SYMBOLS_RE.sub('', text)  \n",
        "    text = text.replace('x', '')\n",
        "    text = ' '.join(word for word in text.split() if word not in STOPWORDS) \n",
        "    return text\n",
        "df2['tweet'] = df2['tweet'].apply(clean_text)\n"
      ]
    },
    {
      "cell_type": "code",
      "execution_count": null,
      "metadata": {
        "execution": {
          "iopub.execute_input": "2021-05-26T07:12:15.566013Z",
          "iopub.status.busy": "2021-05-26T07:12:15.565596Z",
          "iopub.status.idle": "2021-05-26T07:12:15.581933Z",
          "shell.execute_reply": "2021-05-26T07:12:15.580119Z",
          "shell.execute_reply.started": "2021-05-26T07:12:15.565977Z"
        },
        "id": "4lLyhaS-uMaQ",
        "trusted": true
      },
      "outputs": [],
      "source": [
        "df2.head(5)"
      ]
    },
    {
      "cell_type": "code",
      "execution_count": null,
      "metadata": {
        "execution": {
          "iopub.execute_input": "2021-05-26T07:15:05.383262Z",
          "iopub.status.busy": "2021-05-26T07:15:05.382837Z",
          "iopub.status.idle": "2021-05-26T07:15:06.905564Z",
          "shell.execute_reply": "2021-05-26T07:15:06.896447Z",
          "shell.execute_reply.started": "2021-05-26T07:15:05.383229Z"
        },
        "id": "gDUEdLVCuMaR",
        "trusted": true
      },
      "outputs": [],
      "source": [
        "MAX_NB_WORDS = 50000\n",
        "MAX_SEQUENCE_LENGTH = 250\n",
        "EMBEDDING_DIM = 100\n",
        "tokenizer2 = Tokenizer(num_words=MAX_NB_WORDS, filters='!\"#$%&()*+,-./:;<=>?@[\\]^_`{|}~', lower=True)\n",
        "tokenizer2.fit_on_texts(df2['tweet'].values)\n",
        "word_index = tokenizer2.word_index\n",
        "print('Found %s unique tokens.' % len(word_index))"
      ]
    },
    {
      "cell_type": "code",
      "execution_count": null,
      "metadata": {
        "execution": {
          "iopub.execute_input": "2021-05-26T07:15:53.935023Z",
          "iopub.status.busy": "2021-05-26T07:15:53.934612Z",
          "iopub.status.idle": "2021-05-26T07:15:55.615811Z",
          "shell.execute_reply": "2021-05-26T07:15:55.614493Z",
          "shell.execute_reply.started": "2021-05-26T07:15:53.934988Z"
        },
        "id": "zGelYecuuMaR",
        "trusted": true
      },
      "outputs": [],
      "source": [
        "X = tokenizer2.texts_to_sequences(df2['tweet'].values)\n",
        "X = sequence.pad_sequences(X, maxlen=MAX_SEQUENCE_LENGTH)\n",
        "print('Shape of data tensor:', X.shape)"
      ]
    },
    {
      "cell_type": "code",
      "execution_count": null,
      "metadata": {
        "execution": {
          "iopub.execute_input": "2021-05-26T07:16:34.149373Z",
          "iopub.status.busy": "2021-05-26T07:16:34.148725Z",
          "iopub.status.idle": "2021-05-26T07:16:34.158014Z",
          "shell.execute_reply": "2021-05-26T07:16:34.156388Z",
          "shell.execute_reply.started": "2021-05-26T07:16:34.149329Z"
        },
        "id": "uP4b6SzHuMaR",
        "trusted": true
      },
      "outputs": [],
      "source": [
        "Y=df['label']"
      ]
    },
    {
      "cell_type": "code",
      "execution_count": null,
      "metadata": {
        "execution": {
          "iopub.execute_input": "2021-05-26T07:21:25.129224Z",
          "iopub.status.busy": "2021-05-26T07:21:25.128789Z",
          "iopub.status.idle": "2021-05-26T07:21:25.175138Z",
          "shell.execute_reply": "2021-05-26T07:21:25.173957Z",
          "shell.execute_reply.started": "2021-05-26T07:21:25.129189Z"
        },
        "id": "cMl89yxluMaR",
        "trusted": true
      },
      "outputs": [],
      "source": [
        "X_train, X_test, Y_train, Y_test = train_test_split(X,Y, test_size = 0.20, random_state = 42)\n",
        "print(X_train.shape,Y_train.shape)\n",
        "print(X_test.shape,Y_test.shape)"
      ]
    },
    {
      "cell_type": "code",
      "execution_count": null,
      "metadata": {
        "execution": {
          "iopub.execute_input": "2021-05-26T07:21:37.974651Z",
          "iopub.status.busy": "2021-05-26T07:21:37.974193Z",
          "iopub.status.idle": "2021-05-26T07:31:47.325518Z",
          "shell.execute_reply": "2021-05-26T07:31:47.32388Z",
          "shell.execute_reply.started": "2021-05-26T07:21:37.974616Z"
        },
        "id": "ddcQ7SH6uMaR",
        "trusted": true
      },
      "outputs": [],
      "source": [
        "model2 = Sequential()\n",
        "model2.add(Embedding(MAX_NB_WORDS, EMBEDDING_DIM, input_length=X.shape[1]))\n",
        "model2.add(SpatialDropout1D(0.2))\n",
        "model2.add(LSTM(100, dropout=0.2, recurrent_dropout=0.2))\n",
        "model2.add(Dense(1, activation='sigmoid'))\n",
        "model2.compile(loss='binary_crossentropy',optimizer=RMSprop(),metrics=['accuracy'])\n",
        "\n",
        "epochs = 10\n",
        "batch_size = 1024\n",
        "\n",
        "history2 = model2.fit(X_train, Y_train, epochs=epochs,batch_size=batch_size,validation_split=0.2,callbacks=[stop,checkpoint])"
      ]
    },
    {
      "cell_type": "code",
      "execution_count": null,
      "metadata": {
        "execution": {
          "iopub.execute_input": "2021-05-26T07:35:34.198707Z",
          "iopub.status.busy": "2021-05-26T07:35:34.198219Z",
          "iopub.status.idle": "2021-05-26T07:36:04.610015Z",
          "shell.execute_reply": "2021-05-26T07:36:04.60883Z",
          "shell.execute_reply.started": "2021-05-26T07:35:34.198671Z"
        },
        "id": "4PbYAlOGuMaR",
        "trusted": true
      },
      "outputs": [],
      "source": [
        "# test_sequences2 = tokenizer2.texts_to_sequences(X_test)\n",
        "# test_sequences_matrix2 = sequence.pad_sequences(test_sequences2,maxlen=MAX_SEQUENCE_LENGTH)\n",
        "accr = model2.evaluate(X_test,Y_test)\n"
      ]
    },
    {
      "cell_type": "code",
      "execution_count": null,
      "metadata": {
        "execution": {
          "iopub.execute_input": "2021-05-26T08:01:03.342106Z",
          "iopub.status.busy": "2021-05-26T08:01:03.341679Z",
          "iopub.status.idle": "2021-05-26T08:01:32.174509Z",
          "shell.execute_reply": "2021-05-26T08:01:32.173216Z",
          "shell.execute_reply.started": "2021-05-26T08:01:03.342063Z"
        },
        "id": "bzNWpcscuMaS",
        "trusted": true
      },
      "outputs": [],
      "source": [
        "lstm_prediction2=model2.predict(X_test)\n",
        "print(lstm_prediction2[0:5])\n",
        "res2=[]\n",
        "for prediction in lstm_prediction2:\n",
        "    if prediction[0]<0.45:\n",
        "        res2.append(0)\n",
        "    else:\n",
        "        res2.append(1)"
      ]
    },
    {
      "cell_type": "code",
      "execution_count": null,
      "metadata": {
        "execution": {
          "iopub.execute_input": "2021-05-26T08:01:38.336638Z",
          "iopub.status.busy": "2021-05-26T08:01:38.336163Z",
          "iopub.status.idle": "2021-05-26T08:01:38.346342Z",
          "shell.execute_reply": "2021-05-26T08:01:38.344753Z",
          "shell.execute_reply.started": "2021-05-26T08:01:38.336601Z"
        },
        "id": "aTqMPdRQuMaS",
        "trusted": true
      },
      "outputs": [],
      "source": [
        "Y_test[0:5]"
      ]
    },
    {
      "cell_type": "code",
      "execution_count": null,
      "metadata": {
        "execution": {
          "iopub.execute_input": "2021-05-26T08:01:43.791412Z",
          "iopub.status.busy": "2021-05-26T08:01:43.790993Z",
          "iopub.status.idle": "2021-05-26T08:01:43.822883Z",
          "shell.execute_reply": "2021-05-26T08:01:43.821464Z",
          "shell.execute_reply.started": "2021-05-26T08:01:43.791377Z"
        },
        "id": "FkOgR7AFuMaS",
        "trusted": true
      },
      "outputs": [],
      "source": [
        "print(confusion_matrix(Y_test,res2))\n"
      ]
    },
    {
      "cell_type": "code",
      "execution_count": null,
      "metadata": {
        "execution": {
          "iopub.execute_input": "2021-05-26T08:02:08.202226Z",
          "iopub.status.busy": "2021-05-26T08:02:08.201777Z",
          "iopub.status.idle": "2021-05-26T08:02:08.345036Z",
          "shell.execute_reply": "2021-05-26T08:02:08.344127Z",
          "shell.execute_reply.started": "2021-05-26T08:02:08.202159Z"
        },
        "id": "p7W_qvUHuMaS",
        "trusted": true
      },
      "outputs": [],
      "source": [
        "test = 'I hate this country'\n",
        "def clean_text(text):\n",
        "\n",
        "    text = text.lower() \n",
        "    text = REPLACE_BY_SPACE_RE.sub(' ', text)\n",
        "    text = BAD_SYMBOLS_RE.sub('', text)  \n",
        "    text = text.replace('x', '')\n",
        "    text = ' '.join(word for word in text.split() if word not in STOPWORDS) \n",
        "    return text\n",
        "test=[clean_text(test)]\n",
        "print(test)\n",
        "seq = tokenizer2.texts_to_sequences(test)\n",
        "padded = sequence.pad_sequences(seq, maxlen=250)\n",
        "print(seq)\n",
        "pred = model2.predict(padded)\n",
        "print(\"pred\", pred)\n",
        "if pred<0.45:\n",
        "    print(\"no hate\")\n",
        "else:\n",
        "    print(\"hate and abusive\")"
      ]
    }
  ],
  "metadata": {
    "colab": {
      "provenance": []
    },
    "kernelspec": {
      "display_name": "Python 3.10.7 ('venv': venv)",
      "language": "python",
      "name": "python3"
    },
    "language_info": {
      "codemirror_mode": {
        "name": "ipython",
        "version": 3
      },
      "file_extension": ".py",
      "mimetype": "text/x-python",
      "name": "python",
      "nbconvert_exporter": "python",
      "pygments_lexer": "ipython3",
      "version": "3.10.7"
    },
    "vscode": {
      "interpreter": {
        "hash": "9bec311298882b461c7fdb532970007ec3df7a9192cddbe4424f522260a6281c"
      }
    }
  },
  "nbformat": 4,
  "nbformat_minor": 0
}
