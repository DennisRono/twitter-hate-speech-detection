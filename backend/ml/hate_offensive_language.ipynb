{
  "metadata": {
    "kernelspec": {
      "language": "python",
      "display_name": "Python 3",
      "name": "python3"
    },
    "language_info": {
      "pygments_lexer": "ipython3",
      "nbconvert_exporter": "python",
      "version": "3.6.4",
      "file_extension": ".py",
      "codemirror_mode": {
        "name": "ipython",
        "version": 3
      },
      "name": "python",
      "mimetype": "text/x-python"
    },
    "colab": {
      "provenance": []
    }
  },
  "nbformat_minor": 0,
  "nbformat": 4,
  "cells": [
    {
      "cell_type": "code",
      "source": [
        "import numpy as np \n",
        "import pandas as pd"
      ],
      "metadata": {
        "_uuid": "8f2839f25d086af736a60e9eeb907d3b93b6e0e5",
        "_cell_guid": "b1076dfc-b9ad-4769-8c92-a6c4dae69d19",
        "execution": {
          "iopub.status.busy": "2021-05-26T06:22:53.01871Z",
          "iopub.execute_input": "2021-05-26T06:22:53.019301Z",
          "iopub.status.idle": "2021-05-26T06:22:53.064108Z",
          "shell.execute_reply.started": "2021-05-26T06:22:53.019137Z",
          "shell.execute_reply": "2021-05-26T06:22:53.063082Z"
        },
        "trusted": true,
        "id": "GubzbNfuuMZ-"
      },
      "execution_count": 1,
      "outputs": []
    },
    {
      "cell_type": "code",
      "source": [
        "df_twitter=pd.read_csv(\"train.csv\")"
      ],
      "metadata": {
        "execution": {
          "iopub.status.busy": "2021-05-26T06:22:53.06799Z",
          "iopub.execute_input": "2021-05-26T06:22:53.068301Z",
          "iopub.status.idle": "2021-05-26T06:22:53.183671Z",
          "shell.execute_reply.started": "2021-05-26T06:22:53.068255Z",
          "shell.execute_reply": "2021-05-26T06:22:53.182634Z"
        },
        "trusted": true,
        "id": "mo-zP8FZuMaA"
      },
      "execution_count": 2,
      "outputs": []
    },
    {
      "cell_type": "code",
      "source": [
        "df_twitter.head()"
      ],
      "metadata": {
        "execution": {
          "iopub.status.busy": "2021-05-26T06:22:53.185296Z",
          "iopub.execute_input": "2021-05-26T06:22:53.185804Z",
          "iopub.status.idle": "2021-05-26T06:22:53.212576Z",
          "shell.execute_reply.started": "2021-05-26T06:22:53.185757Z",
          "shell.execute_reply": "2021-05-26T06:22:53.211018Z"
        },
        "trusted": true,
        "colab": {
          "base_uri": "https://localhost:8080/",
          "height": 206
        },
        "id": "cFqZ4mhduMaA",
        "outputId": "e2237663-1ebd-452c-93fc-874ae1150eb9"
      },
      "execution_count": 3,
      "outputs": [
        {
          "output_type": "execute_result",
          "data": {
            "text/plain": [
              "   id  label                                              tweet\n",
              "0   1      0   @user when a father is dysfunctional and is s...\n",
              "1   2      0  @user @user thanks for #lyft credit i can't us...\n",
              "2   3      0                                bihday your majesty\n",
              "3   4      0  #model   i love u take with u all the time in ...\n",
              "4   5      0             factsguide: society now    #motivation"
            ],
            "text/html": [
              "\n",
              "  <div id=\"df-e12390bf-deec-424b-b5be-674500f0303c\">\n",
              "    <div class=\"colab-df-container\">\n",
              "      <div>\n",
              "<style scoped>\n",
              "    .dataframe tbody tr th:only-of-type {\n",
              "        vertical-align: middle;\n",
              "    }\n",
              "\n",
              "    .dataframe tbody tr th {\n",
              "        vertical-align: top;\n",
              "    }\n",
              "\n",
              "    .dataframe thead th {\n",
              "        text-align: right;\n",
              "    }\n",
              "</style>\n",
              "<table border=\"1\" class=\"dataframe\">\n",
              "  <thead>\n",
              "    <tr style=\"text-align: right;\">\n",
              "      <th></th>\n",
              "      <th>id</th>\n",
              "      <th>label</th>\n",
              "      <th>tweet</th>\n",
              "    </tr>\n",
              "  </thead>\n",
              "  <tbody>\n",
              "    <tr>\n",
              "      <th>0</th>\n",
              "      <td>1</td>\n",
              "      <td>0</td>\n",
              "      <td>@user when a father is dysfunctional and is s...</td>\n",
              "    </tr>\n",
              "    <tr>\n",
              "      <th>1</th>\n",
              "      <td>2</td>\n",
              "      <td>0</td>\n",
              "      <td>@user @user thanks for #lyft credit i can't us...</td>\n",
              "    </tr>\n",
              "    <tr>\n",
              "      <th>2</th>\n",
              "      <td>3</td>\n",
              "      <td>0</td>\n",
              "      <td>bihday your majesty</td>\n",
              "    </tr>\n",
              "    <tr>\n",
              "      <th>3</th>\n",
              "      <td>4</td>\n",
              "      <td>0</td>\n",
              "      <td>#model   i love u take with u all the time in ...</td>\n",
              "    </tr>\n",
              "    <tr>\n",
              "      <th>4</th>\n",
              "      <td>5</td>\n",
              "      <td>0</td>\n",
              "      <td>factsguide: society now    #motivation</td>\n",
              "    </tr>\n",
              "  </tbody>\n",
              "</table>\n",
              "</div>\n",
              "      <button class=\"colab-df-convert\" onclick=\"convertToInteractive('df-e12390bf-deec-424b-b5be-674500f0303c')\"\n",
              "              title=\"Convert this dataframe to an interactive table.\"\n",
              "              style=\"display:none;\">\n",
              "        \n",
              "  <svg xmlns=\"http://www.w3.org/2000/svg\" height=\"24px\"viewBox=\"0 0 24 24\"\n",
              "       width=\"24px\">\n",
              "    <path d=\"M0 0h24v24H0V0z\" fill=\"none\"/>\n",
              "    <path d=\"M18.56 5.44l.94 2.06.94-2.06 2.06-.94-2.06-.94-.94-2.06-.94 2.06-2.06.94zm-11 1L8.5 8.5l.94-2.06 2.06-.94-2.06-.94L8.5 2.5l-.94 2.06-2.06.94zm10 10l.94 2.06.94-2.06 2.06-.94-2.06-.94-.94-2.06-.94 2.06-2.06.94z\"/><path d=\"M17.41 7.96l-1.37-1.37c-.4-.4-.92-.59-1.43-.59-.52 0-1.04.2-1.43.59L10.3 9.45l-7.72 7.72c-.78.78-.78 2.05 0 2.83L4 21.41c.39.39.9.59 1.41.59.51 0 1.02-.2 1.41-.59l7.78-7.78 2.81-2.81c.8-.78.8-2.07 0-2.86zM5.41 20L4 18.59l7.72-7.72 1.47 1.35L5.41 20z\"/>\n",
              "  </svg>\n",
              "      </button>\n",
              "      \n",
              "  <style>\n",
              "    .colab-df-container {\n",
              "      display:flex;\n",
              "      flex-wrap:wrap;\n",
              "      gap: 12px;\n",
              "    }\n",
              "\n",
              "    .colab-df-convert {\n",
              "      background-color: #E8F0FE;\n",
              "      border: none;\n",
              "      border-radius: 50%;\n",
              "      cursor: pointer;\n",
              "      display: none;\n",
              "      fill: #1967D2;\n",
              "      height: 32px;\n",
              "      padding: 0 0 0 0;\n",
              "      width: 32px;\n",
              "    }\n",
              "\n",
              "    .colab-df-convert:hover {\n",
              "      background-color: #E2EBFA;\n",
              "      box-shadow: 0px 1px 2px rgba(60, 64, 67, 0.3), 0px 1px 3px 1px rgba(60, 64, 67, 0.15);\n",
              "      fill: #174EA6;\n",
              "    }\n",
              "\n",
              "    [theme=dark] .colab-df-convert {\n",
              "      background-color: #3B4455;\n",
              "      fill: #D2E3FC;\n",
              "    }\n",
              "\n",
              "    [theme=dark] .colab-df-convert:hover {\n",
              "      background-color: #434B5C;\n",
              "      box-shadow: 0px 1px 3px 1px rgba(0, 0, 0, 0.15);\n",
              "      filter: drop-shadow(0px 1px 2px rgba(0, 0, 0, 0.3));\n",
              "      fill: #FFFFFF;\n",
              "    }\n",
              "  </style>\n",
              "\n",
              "      <script>\n",
              "        const buttonEl =\n",
              "          document.querySelector('#df-e12390bf-deec-424b-b5be-674500f0303c button.colab-df-convert');\n",
              "        buttonEl.style.display =\n",
              "          google.colab.kernel.accessAllowed ? 'block' : 'none';\n",
              "\n",
              "        async function convertToInteractive(key) {\n",
              "          const element = document.querySelector('#df-e12390bf-deec-424b-b5be-674500f0303c');\n",
              "          const dataTable =\n",
              "            await google.colab.kernel.invokeFunction('convertToInteractive',\n",
              "                                                     [key], {});\n",
              "          if (!dataTable) return;\n",
              "\n",
              "          const docLinkHtml = 'Like what you see? Visit the ' +\n",
              "            '<a target=\"_blank\" href=https://colab.research.google.com/notebooks/data_table.ipynb>data table notebook</a>'\n",
              "            + ' to learn more about interactive tables.';\n",
              "          element.innerHTML = '';\n",
              "          dataTable['output_type'] = 'display_data';\n",
              "          await google.colab.output.renderOutput(dataTable, element);\n",
              "          const docLink = document.createElement('div');\n",
              "          docLink.innerHTML = docLinkHtml;\n",
              "          element.appendChild(docLink);\n",
              "        }\n",
              "      </script>\n",
              "    </div>\n",
              "  </div>\n",
              "  "
            ]
          },
          "metadata": {},
          "execution_count": 3
        }
      ]
    },
    {
      "cell_type": "code",
      "source": [
        "import seaborn as sns\n",
        "sns.countplot('label',data=df_twitter)"
      ],
      "metadata": {
        "execution": {
          "iopub.status.busy": "2021-05-26T06:22:53.215664Z",
          "iopub.execute_input": "2021-05-26T06:22:53.216123Z",
          "iopub.status.idle": "2021-05-26T06:22:54.322764Z",
          "shell.execute_reply.started": "2021-05-26T06:22:53.216079Z",
          "shell.execute_reply": "2021-05-26T06:22:54.321327Z"
        },
        "trusted": true,
        "colab": {
          "base_uri": "https://localhost:8080/",
          "height": 351
        },
        "id": "PgMlqQRwuMaB",
        "outputId": "b00f9a9b-ff42-4726-c923-92aa0ccdebca"
      },
      "execution_count": 4,
      "outputs": [
        {
          "output_type": "stream",
          "name": "stderr",
          "text": [
            "/usr/local/lib/python3.7/dist-packages/seaborn/_decorators.py:43: FutureWarning: Pass the following variable as a keyword arg: x. From version 0.12, the only valid positional argument will be `data`, and passing other arguments without an explicit keyword will result in an error or misinterpretation.\n",
            "  FutureWarning\n"
          ]
        },
        {
          "output_type": "execute_result",
          "data": {
            "text/plain": [
              "<matplotlib.axes._subplots.AxesSubplot at 0x7f8e61c56210>"
            ]
          },
          "metadata": {},
          "execution_count": 4
        },
        {
          "output_type": "display_data",
          "data": {
            "text/plain": [
              "<Figure size 432x288 with 1 Axes>"
            ],
            "image/png": "[encoded data removed]"
          },
          "metadata": {
            "needs_background": "light"
          }
        }
      ]
    },
    {
      "cell_type": "code",
      "source": [
        "df_twitter.shape"
      ],
      "metadata": {
        "execution": {
          "iopub.status.busy": "2021-05-26T06:22:54.325942Z",
          "iopub.execute_input": "2021-05-26T06:22:54.326475Z",
          "iopub.status.idle": "2021-05-26T06:22:54.335906Z",
          "shell.execute_reply.started": "2021-05-26T06:22:54.326411Z",
          "shell.execute_reply": "2021-05-26T06:22:54.334481Z"
        },
        "trusted": true,
        "colab": {
          "base_uri": "https://localhost:8080/"
        },
        "id": "UneMpXFPuMaB",
        "outputId": "d8ee389b-099b-40d3-83e2-8a59230b8c4a"
      },
      "execution_count": 5,
      "outputs": [
        {
          "output_type": "execute_result",
          "data": {
            "text/plain": [
              "(31962, 3)"
            ]
          },
          "metadata": {},
          "execution_count": 5
        }
      ]
    },
    {
      "cell_type": "code",
      "source": [
        "df_twitter.isnull().sum()"
      ],
      "metadata": {
        "execution": {
          "iopub.status.busy": "2021-05-26T06:22:54.337836Z",
          "iopub.execute_input": "2021-05-26T06:22:54.338716Z",
          "iopub.status.idle": "2021-05-26T06:22:54.356748Z",
          "shell.execute_reply.started": "2021-05-26T06:22:54.338668Z",
          "shell.execute_reply": "2021-05-26T06:22:54.355544Z"
        },
        "trusted": true,
        "colab": {
          "base_uri": "https://localhost:8080/"
        },
        "id": "_0rbRg6tuMaC",
        "outputId": "2b031c2a-a600-4bb4-b9a8-49ad9b069e57"
      },
      "execution_count": 6,
      "outputs": [
        {
          "output_type": "execute_result",
          "data": {
            "text/plain": [
              "id       0\n",
              "label    0\n",
              "tweet    0\n",
              "dtype: int64"
            ]
          },
          "metadata": {},
          "execution_count": 6
        }
      ]
    },
    {
      "cell_type": "code",
      "source": [
        "df_twitter.drop('id',axis=1,inplace=True)"
      ],
      "metadata": {
        "execution": {
          "iopub.status.busy": "2021-05-26T06:22:54.359007Z",
          "iopub.execute_input": "2021-05-26T06:22:54.359577Z",
          "iopub.status.idle": "2021-05-26T06:22:54.368563Z",
          "shell.execute_reply.started": "2021-05-26T06:22:54.359533Z",
          "shell.execute_reply": "2021-05-26T06:22:54.367125Z"
        },
        "trusted": true,
        "id": "DErP8zo1uMaC"
      },
      "execution_count": 7,
      "outputs": []
    },
    {
      "cell_type": "code",
      "source": [
        "df_offensive=pd.read_csv(\"labeled_data.csv\")"
      ],
      "metadata": {
        "execution": {
          "iopub.status.busy": "2021-05-26T06:22:54.371025Z",
          "iopub.execute_input": "2021-05-26T06:22:54.372025Z",
          "iopub.status.idle": "2021-05-26T06:22:54.458831Z",
          "shell.execute_reply.started": "2021-05-26T06:22:54.371981Z",
          "shell.execute_reply": "2021-05-26T06:22:54.457632Z"
        },
        "trusted": true,
        "id": "k_xsUpPfuMaC"
      },
      "execution_count": 8,
      "outputs": []
    },
    {
      "cell_type": "code",
      "source": [
        "df_offensive.head()"
      ],
      "metadata": {
        "execution": {
          "iopub.status.busy": "2021-05-26T06:22:54.461599Z",
          "iopub.execute_input": "2021-05-26T06:22:54.462404Z",
          "iopub.status.idle": "2021-05-26T06:22:54.479071Z",
          "shell.execute_reply.started": "2021-05-26T06:22:54.462343Z",
          "shell.execute_reply": "2021-05-26T06:22:54.477814Z"
        },
        "trusted": true,
        "colab": {
          "base_uri": "https://localhost:8080/",
          "height": 206
        },
        "id": "kuZmJ_VguMaC",
        "outputId": "e591239d-fd4f-43f1-f325-54ed42e3a998"
      },
      "execution_count": 9,
      "outputs": [
        {
          "output_type": "execute_result",
          "data": {
            "text/plain": [
              "   Unnamed: 0  count  hate_speech  offensive_language  neither  class  \\\n",
              "0           0      3            0                   0        3      2   \n",
              "1           1      3            0                   3        0      1   \n",
              "2           2      3            0                   3        0      1   \n",
              "3           3      3            0                   2        1      1   \n",
              "4           4      6            0                   6        0      1   \n",
              "\n",
              "                                               tweet  \n",
              "0  !!! RT @mayasolovely: As a woman you shouldn't...  \n",
              "1  !!!!! RT @mleew17: boy dats cold...tyga dwn ba...  \n",
              "2  !!!!!!! RT @UrKindOfBrand Dawg!!!! RT @80sbaby...  \n",
              "3  !!!!!!!!! RT @C_G_Anderson: @viva_based she lo...  \n",
              "4  !!!!!!!!!!!!! RT @ShenikaRoberts: The shit you...  "
            ],
            "text/html": [
              "\n",
              "  <div id=\"df-eb37bf68-94f6-4895-b70d-2530f0b46f42\">\n",
              "    <div class=\"colab-df-container\">\n",
              "      <div>\n",
              "<style scoped>\n",
              "    .dataframe tbody tr th:only-of-type {\n",
              "        vertical-align: middle;\n",
              "    }\n",
              "\n",
              "    .dataframe tbody tr th {\n",
              "        vertical-align: top;\n",
              "    }\n",
              "\n",
              "    .dataframe thead th {\n",
              "        text-align: right;\n",
              "    }\n",
              "</style>\n",
              "<table border=\"1\" class=\"dataframe\">\n",
              "  <thead>\n",
              "    <tr style=\"text-align: right;\">\n",
              "      <th></th>\n",
              "      <th>Unnamed: 0</th>\n",
              "      <th>count</th>\n",
              "      <th>hate_speech</th>\n",
              "      <th>offensive_language</th>\n",
              "      <th>neither</th>\n",
              "      <th>class</th>\n",
              "      <th>tweet</th>\n",
              "    </tr>\n",
              "  </thead>\n",
              "  <tbody>\n",
              "    <tr>\n",
              "      <th>0</th>\n",
              "      <td>0</td>\n",
              "      <td>3</td>\n",
              "      <td>0</td>\n",
              "      <td>0</td>\n",
              "      <td>3</td>\n",
              "      <td>2</td>\n",
              "      <td>!!! RT @mayasolovely: As a woman you shouldn't...</td>\n",
              "    </tr>\n",
              "    <tr>\n",
              "      <th>1</th>\n",
              "      <td>1</td>\n",
              "      <td>3</td>\n",
              "      <td>0</td>\n",
              "      <td>3</td>\n",
              "      <td>0</td>\n",
              "      <td>1</td>\n",
              "      <td>!!!!! RT @mleew17: boy dats cold...tyga dwn ba...</td>\n",
              "    </tr>\n",
              "    <tr>\n",
              "      <th>2</th>\n",
              "      <td>2</td>\n",
              "      <td>3</td>\n",
              "      <td>0</td>\n",
              "      <td>3</td>\n",
              "      <td>0</td>\n",
              "      <td>1</td>\n",
              "      <td>!!!!!!! RT @UrKindOfBrand Dawg!!!! RT @80sbaby...</td>\n",
              "    </tr>\n",
              "    <tr>\n",
              "      <th>3</th>\n",
              "      <td>3</td>\n",
              "      <td>3</td>\n",
              "      <td>0</td>\n",
              "      <td>2</td>\n",
              "      <td>1</td>\n",
              "      <td>1</td>\n",
              "      <td>!!!!!!!!! RT @C_G_Anderson: @viva_based she lo...</td>\n",
              "    </tr>\n",
              "    <tr>\n",
              "      <th>4</th>\n",
              "      <td>4</td>\n",
              "      <td>6</td>\n",
              "      <td>0</td>\n",
              "      <td>6</td>\n",
              "      <td>0</td>\n",
              "      <td>1</td>\n",
              "      <td>!!!!!!!!!!!!! RT @ShenikaRoberts: The shit you...</td>\n",
              "    </tr>\n",
              "  </tbody>\n",
              "</table>\n",
              "</div>\n",
              "      <button class=\"colab-df-convert\" onclick=\"convertToInteractive('df-eb37bf68-94f6-4895-b70d-2530f0b46f42')\"\n",
              "              title=\"Convert this dataframe to an interactive table.\"\n",
              "              style=\"display:none;\">\n",
              "        \n",
              "  <svg xmlns=\"http://www.w3.org/2000/svg\" height=\"24px\"viewBox=\"0 0 24 24\"\n",
              "       width=\"24px\">\n",
              "    <path d=\"M0 0h24v24H0V0z\" fill=\"none\"/>\n",
              "    <path d=\"M18.56 5.44l.94 2.06.94-2.06 2.06-.94-2.06-.94-.94-2.06-.94 2.06-2.06.94zm-11 1L8.5 8.5l.94-2.06 2.06-.94-2.06-.94L8.5 2.5l-.94 2.06-2.06.94zm10 10l.94 2.06.94-2.06 2.06-.94-2.06-.94-.94-2.06-.94 2.06-2.06.94z\"/><path d=\"M17.41 7.96l-1.37-1.37c-.4-.4-.92-.59-1.43-.59-.52 0-1.04.2-1.43.59L10.3 9.45l-7.72 7.72c-.78.78-.78 2.05 0 2.83L4 21.41c.39.39.9.59 1.41.59.51 0 1.02-.2 1.41-.59l7.78-7.78 2.81-2.81c.8-.78.8-2.07 0-2.86zM5.41 20L4 18.59l7.72-7.72 1.47 1.35L5.41 20z\"/>\n",
              "  </svg>\n",
              "      </button>\n",
              "      \n",
              "  <style>\n",
              "    .colab-df-container {\n",
              "      display:flex;\n",
              "      flex-wrap:wrap;\n",
              "      gap: 12px;\n",
              "    }\n",
              "\n",
              "    .colab-df-convert {\n",
              "      background-color: #E8F0FE;\n",
              "      border: none;\n",
              "      border-radius: 50%;\n",
              "      cursor: pointer;\n",
              "      display: none;\n",
              "      fill: #1967D2;\n",
              "      height: 32px;\n",
              "      padding: 0 0 0 0;\n",
              "      width: 32px;\n",
              "    }\n",
              "\n",
              "    .colab-df-convert:hover {\n",
              "      background-color: #E2EBFA;\n",
              "      box-shadow: 0px 1px 2px rgba(60, 64, 67, 0.3), 0px 1px 3px 1px rgba(60, 64, 67, 0.15);\n",
              "      fill: #174EA6;\n",
              "    }\n",
              "\n",
              "    [theme=dark] .colab-df-convert {\n",
              "      background-color: #3B4455;\n",
              "      fill: #D2E3FC;\n",
              "    }\n",
              "\n",
              "    [theme=dark] .colab-df-convert:hover {\n",
              "      background-color: #434B5C;\n",
              "      box-shadow: 0px 1px 3px 1px rgba(0, 0, 0, 0.15);\n",
              "      filter: drop-shadow(0px 1px 2px rgba(0, 0, 0, 0.3));\n",
              "      fill: #FFFFFF;\n",
              "    }\n",
              "  </style>\n",
              "\n",
              "      <script>\n",
              "        const buttonEl =\n",
              "          document.querySelector('#df-eb37bf68-94f6-4895-b70d-2530f0b46f42 button.colab-df-convert');\n",
              "        buttonEl.style.display =\n",
              "          google.colab.kernel.accessAllowed ? 'block' : 'none';\n",
              "\n",
              "        async function convertToInteractive(key) {\n",
              "          const element = document.querySelector('#df-eb37bf68-94f6-4895-b70d-2530f0b46f42');\n",
              "          const dataTable =\n",
              "            await google.colab.kernel.invokeFunction('convertToInteractive',\n",
              "                                                     [key], {});\n",
              "          if (!dataTable) return;\n",
              "\n",
              "          const docLinkHtml = 'Like what you see? Visit the ' +\n",
              "            '<a target=\"_blank\" href=https://colab.research.google.com/notebooks/data_table.ipynb>data table notebook</a>'\n",
              "            + ' to learn more about interactive tables.';\n",
              "          element.innerHTML = '';\n",
              "          dataTable['output_type'] = 'display_data';\n",
              "          await google.colab.output.renderOutput(dataTable, element);\n",
              "          const docLink = document.createElement('div');\n",
              "          docLink.innerHTML = docLinkHtml;\n",
              "          element.appendChild(docLink);\n",
              "        }\n",
              "      </script>\n",
              "    </div>\n",
              "  </div>\n",
              "  "
            ]
          },
          "metadata": {},
          "execution_count": 9
        }
      ]
    },
    {
      "cell_type": "code",
      "source": [
        "df_offensive.shape"
      ],
      "metadata": {
        "execution": {
          "iopub.status.busy": "2021-05-26T06:22:54.480828Z",
          "iopub.execute_input": "2021-05-26T06:22:54.481429Z",
          "iopub.status.idle": "2021-05-26T06:22:54.489147Z",
          "shell.execute_reply.started": "2021-05-26T06:22:54.481384Z",
          "shell.execute_reply": "2021-05-26T06:22:54.487697Z"
        },
        "trusted": true,
        "colab": {
          "base_uri": "https://localhost:8080/"
        },
        "id": "Z5Z0KlTYuMaD",
        "outputId": "01132459-3426-4c62-dcac-4637965a2c18"
      },
      "execution_count": 10,
      "outputs": [
        {
          "output_type": "execute_result",
          "data": {
            "text/plain": [
              "(24783, 7)"
            ]
          },
          "metadata": {},
          "execution_count": 10
        }
      ]
    },
    {
      "cell_type": "code",
      "source": [
        "df_offensive.isnull().sum()"
      ],
      "metadata": {
        "execution": {
          "iopub.status.busy": "2021-05-26T06:22:54.491524Z",
          "iopub.execute_input": "2021-05-26T06:22:54.492451Z",
          "iopub.status.idle": "2021-05-26T06:22:54.507738Z",
          "shell.execute_reply.started": "2021-05-26T06:22:54.492403Z",
          "shell.execute_reply": "2021-05-26T06:22:54.505418Z"
        },
        "trusted": true,
        "colab": {
          "base_uri": "https://localhost:8080/"
        },
        "id": "sONsjUGcuMaD",
        "outputId": "e2b1b444-8cd4-4a1a-b5b6-d6e47129af30"
      },
      "execution_count": 11,
      "outputs": [
        {
          "output_type": "execute_result",
          "data": {
            "text/plain": [
              "Unnamed: 0            0\n",
              "count                 0\n",
              "hate_speech           0\n",
              "offensive_language    0\n",
              "neither               0\n",
              "class                 0\n",
              "tweet                 0\n",
              "dtype: int64"
            ]
          },
          "metadata": {},
          "execution_count": 11
        }
      ]
    },
    {
      "cell_type": "code",
      "source": [
        "df_offensive.drop(['Unnamed: 0','count','hate_speech','offensive_language','neither'],axis=1,inplace=True)"
      ],
      "metadata": {
        "execution": {
          "iopub.status.busy": "2021-05-26T06:22:54.51435Z",
          "iopub.execute_input": "2021-05-26T06:22:54.514677Z",
          "iopub.status.idle": "2021-05-26T06:22:54.521553Z",
          "shell.execute_reply.started": "2021-05-26T06:22:54.514646Z",
          "shell.execute_reply": "2021-05-26T06:22:54.520196Z"
        },
        "trusted": true,
        "id": "mmNkm6dSuMaD"
      },
      "execution_count": 12,
      "outputs": []
    },
    {
      "cell_type": "code",
      "source": [
        "df_offensive.head(10)"
      ],
      "metadata": {
        "execution": {
          "iopub.status.busy": "2021-05-26T06:22:54.527694Z",
          "iopub.execute_input": "2021-05-26T06:22:54.528482Z",
          "iopub.status.idle": "2021-05-26T06:22:54.542633Z",
          "shell.execute_reply.started": "2021-05-26T06:22:54.528436Z",
          "shell.execute_reply": "2021-05-26T06:22:54.541265Z"
        },
        "trusted": true,
        "colab": {
          "base_uri": "https://localhost:8080/",
          "height": 363
        },
        "id": "ZhftX6ffuMaE",
        "outputId": "fc37f53a-0e99-459c-a3d9-8d7f2e8e51d0"
      },
      "execution_count": 13,
      "outputs": [
        {
          "output_type": "execute_result",
          "data": {
            "text/plain": [
              "   class                                              tweet\n",
              "0      2  !!! RT @mayasolovely: As a woman you shouldn't...\n",
              "1      1  !!!!! RT @mleew17: boy dats cold...tyga dwn ba...\n",
              "2      1  !!!!!!! RT @UrKindOfBrand Dawg!!!! RT @80sbaby...\n",
              "3      1  !!!!!!!!! RT @C_G_Anderson: @viva_based she lo...\n",
              "4      1  !!!!!!!!!!!!! RT @ShenikaRoberts: The shit you...\n",
              "5      1  !!!!!!!!!!!!!!!!!!\"@T_Madison_x: The shit just...\n",
              "6      1  !!!!!!\"@__BrighterDays: I can not just sit up ...\n",
              "7      1  !!!!&#8220;@selfiequeenbri: cause I'm tired of...\n",
              "8      1  \" &amp; you might not get ya bitch back &amp; ...\n",
              "9      1  \" @rhythmixx_ :hobbies include: fighting Maria..."
            ],
            "text/html": [
              "\n",
              "  <div id=\"df-20eb349c-23f0-4bcf-a4c5-aa03fe10de1c\">\n",
              "    <div class=\"colab-df-container\">\n",
              "      <div>\n",
              "<style scoped>\n",
              "    .dataframe tbody tr th:only-of-type {\n",
              "        vertical-align: middle;\n",
              "    }\n",
              "\n",
              "    .dataframe tbody tr th {\n",
              "        vertical-align: top;\n",
              "    }\n",
              "\n",
              "    .dataframe thead th {\n",
              "        text-align: right;\n",
              "    }\n",
              "</style>\n",
              "<table border=\"1\" class=\"dataframe\">\n",
              "  <thead>\n",
              "    <tr style=\"text-align: right;\">\n",
              "      <th></th>\n",
              "      <th>class</th>\n",
              "      <th>tweet</th>\n",
              "    </tr>\n",
              "  </thead>\n",
              "  <tbody>\n",
              "    <tr>\n",
              "      <th>0</th>\n",
              "      <td>2</td>\n",
              "      <td>!!! RT @mayasolovely: As a woman you shouldn't...</td>\n",
              "    </tr>\n",
              "    <tr>\n",
              "      <th>1</th>\n",
              "      <td>1</td>\n",
              "      <td>!!!!! RT @mleew17: boy dats cold...tyga dwn ba...</td>\n",
              "    </tr>\n",
              "    <tr>\n",
              "      <th>2</th>\n",
              "      <td>1</td>\n",
              "      <td>!!!!!!! RT @UrKindOfBrand Dawg!!!! RT @80sbaby...</td>\n",
              "    </tr>\n",
              "    <tr>\n",
              "      <th>3</th>\n",
              "      <td>1</td>\n",
              "      <td>!!!!!!!!! RT @C_G_Anderson: @viva_based she lo...</td>\n",
              "    </tr>\n",
              "    <tr>\n",
              "      <th>4</th>\n",
              "      <td>1</td>\n",
              "      <td>!!!!!!!!!!!!! RT @ShenikaRoberts: The shit you...</td>\n",
              "    </tr>\n",
              "    <tr>\n",
              "      <th>5</th>\n",
              "      <td>1</td>\n",
              "      <td>!!!!!!!!!!!!!!!!!!\"@T_Madison_x: The shit just...</td>\n",
              "    </tr>\n",
              "    <tr>\n",
              "      <th>6</th>\n",
              "      <td>1</td>\n",
              "      <td>!!!!!!\"@__BrighterDays: I can not just sit up ...</td>\n",
              "    </tr>\n",
              "    <tr>\n",
              "      <th>7</th>\n",
              "      <td>1</td>\n",
              "      <td>!!!!&amp;#8220;@selfiequeenbri: cause I'm tired of...</td>\n",
              "    </tr>\n",
              "    <tr>\n",
              "      <th>8</th>\n",
              "      <td>1</td>\n",
              "      <td>\" &amp;amp; you might not get ya bitch back &amp;amp; ...</td>\n",
              "    </tr>\n",
              "    <tr>\n",
              "      <th>9</th>\n",
              "      <td>1</td>\n",
              "      <td>\" @rhythmixx_ :hobbies include: fighting Maria...</td>\n",
              "    </tr>\n",
              "  </tbody>\n",
              "</table>\n",
              "</div>\n",
              "      <button class=\"colab-df-convert\" onclick=\"convertToInteractive('df-20eb349c-23f0-4bcf-a4c5-aa03fe10de1c')\"\n",
              "              title=\"Convert this dataframe to an interactive table.\"\n",
              "              style=\"display:none;\">\n",
              "        \n",
              "  <svg xmlns=\"http://www.w3.org/2000/svg\" height=\"24px\"viewBox=\"0 0 24 24\"\n",
              "       width=\"24px\">\n",
              "    <path d=\"M0 0h24v24H0V0z\" fill=\"none\"/>\n",
              "    <path d=\"M18.56 5.44l.94 2.06.94-2.06 2.06-.94-2.06-.94-.94-2.06-.94 2.06-2.06.94zm-11 1L8.5 8.5l.94-2.06 2.06-.94-2.06-.94L8.5 2.5l-.94 2.06-2.06.94zm10 10l.94 2.06.94-2.06 2.06-.94-2.06-.94-.94-2.06-.94 2.06-2.06.94z\"/><path d=\"M17.41 7.96l-1.37-1.37c-.4-.4-.92-.59-1.43-.59-.52 0-1.04.2-1.43.59L10.3 9.45l-7.72 7.72c-.78.78-.78 2.05 0 2.83L4 21.41c.39.39.9.59 1.41.59.51 0 1.02-.2 1.41-.59l7.78-7.78 2.81-2.81c.8-.78.8-2.07 0-2.86zM5.41 20L4 18.59l7.72-7.72 1.47 1.35L5.41 20z\"/>\n",
              "  </svg>\n",
              "      </button>\n",
              "      \n",
              "  <style>\n",
              "    .colab-df-container {\n",
              "      display:flex;\n",
              "      flex-wrap:wrap;\n",
              "      gap: 12px;\n",
              "    }\n",
              "\n",
              "    .colab-df-convert {\n",
              "      background-color: #E8F0FE;\n",
              "      border: none;\n",
              "      border-radius: 50%;\n",
              "      cursor: pointer;\n",
              "      display: none;\n",
              "      fill: #1967D2;\n",
              "      height: 32px;\n",
              "      padding: 0 0 0 0;\n",
              "      width: 32px;\n",
              "    }\n",
              "\n",
              "    .colab-df-convert:hover {\n",
              "      background-color: #E2EBFA;\n",
              "      box-shadow: 0px 1px 2px rgba(60, 64, 67, 0.3), 0px 1px 3px 1px rgba(60, 64, 67, 0.15);\n",
              "      fill: #174EA6;\n",
              "    }\n",
              "\n",
              "    [theme=dark] .colab-df-convert {\n",
              "      background-color: #3B4455;\n",
              "      fill: #D2E3FC;\n",
              "    }\n",
              "\n",
              "    [theme=dark] .colab-df-convert:hover {\n",
              "      background-color: #434B5C;\n",
              "      box-shadow: 0px 1px 3px 1px rgba(0, 0, 0, 0.15);\n",
              "      filter: drop-shadow(0px 1px 2px rgba(0, 0, 0, 0.3));\n",
              "      fill: #FFFFFF;\n",
              "    }\n",
              "  </style>\n",
              "\n",
              "      <script>\n",
              "        const buttonEl =\n",
              "          document.querySelector('#df-20eb349c-23f0-4bcf-a4c5-aa03fe10de1c button.colab-df-convert');\n",
              "        buttonEl.style.display =\n",
              "          google.colab.kernel.accessAllowed ? 'block' : 'none';\n",
              "\n",
              "        async function convertToInteractive(key) {\n",
              "          const element = document.querySelector('#df-20eb349c-23f0-4bcf-a4c5-aa03fe10de1c');\n",
              "          const dataTable =\n",
              "            await google.colab.kernel.invokeFunction('convertToInteractive',\n",
              "                                                     [key], {});\n",
              "          if (!dataTable) return;\n",
              "\n",
              "          const docLinkHtml = 'Like what you see? Visit the ' +\n",
              "            '<a target=\"_blank\" href=https://colab.research.google.com/notebooks/data_table.ipynb>data table notebook</a>'\n",
              "            + ' to learn more about interactive tables.';\n",
              "          element.innerHTML = '';\n",
              "          dataTable['output_type'] = 'display_data';\n",
              "          await google.colab.output.renderOutput(dataTable, element);\n",
              "          const docLink = document.createElement('div');\n",
              "          docLink.innerHTML = docLinkHtml;\n",
              "          element.appendChild(docLink);\n",
              "        }\n",
              "      </script>\n",
              "    </div>\n",
              "  </div>\n",
              "  "
            ]
          },
          "metadata": {},
          "execution_count": 13
        }
      ]
    },
    {
      "cell_type": "code",
      "source": [
        "df_offensive['class'].unique()"
      ],
      "metadata": {
        "execution": {
          "iopub.status.busy": "2021-05-26T06:22:54.544849Z",
          "iopub.execute_input": "2021-05-26T06:22:54.54519Z",
          "iopub.status.idle": "2021-05-26T06:22:54.556026Z",
          "shell.execute_reply.started": "2021-05-26T06:22:54.545159Z",
          "shell.execute_reply": "2021-05-26T06:22:54.554443Z"
        },
        "trusted": true,
        "colab": {
          "base_uri": "https://localhost:8080/"
        },
        "id": "Y_9bXtKWuMaE",
        "outputId": "385dfd3a-55a5-494c-b069-0099e4a325f1"
      },
      "execution_count": 14,
      "outputs": [
        {
          "output_type": "execute_result",
          "data": {
            "text/plain": [
              "array([2, 1, 0])"
            ]
          },
          "metadata": {},
          "execution_count": 14
        }
      ]
    },
    {
      "cell_type": "code",
      "source": [
        "sns.countplot('class',data=df_offensive)"
      ],
      "metadata": {
        "execution": {
          "iopub.status.busy": "2021-05-26T06:22:54.557724Z",
          "iopub.execute_input": "2021-05-26T06:22:54.558248Z",
          "iopub.status.idle": "2021-05-26T06:22:54.723602Z",
          "shell.execute_reply.started": "2021-05-26T06:22:54.558201Z",
          "shell.execute_reply": "2021-05-26T06:22:54.722153Z"
        },
        "trusted": true,
        "colab": {
          "base_uri": "https://localhost:8080/",
          "height": 354
        },
        "id": "Jjbu9TLhuMaF",
        "outputId": "017a923a-8a7a-4156-9bb9-5b1d304749db"
      },
      "execution_count": 15,
      "outputs": [
        {
          "output_type": "stream",
          "name": "stderr",
          "text": [
            "/usr/local/lib/python3.7/dist-packages/seaborn/_decorators.py:43: FutureWarning: Pass the following variable as a keyword arg: x. From version 0.12, the only valid positional argument will be `data`, and passing other arguments without an explicit keyword will result in an error or misinterpretation.\n",
            "  FutureWarning\n"
          ]
        },
        {
          "output_type": "execute_result",
          "data": {
            "text/plain": [
              "<matplotlib.axes._subplots.AxesSubplot at 0x7f8e61ba1e10>"
            ]
          },
          "metadata": {},
          "execution_count": 15
        },
        {
          "output_type": "display_data",
          "data": {
            "text/plain": [
              "<Figure size 432x288 with 1 Axes>"
            ],
            "image/png": "[encoded data removed]"
          },
          "metadata": {
            "needs_background": "light"
          }
        }
      ]
    },
    {
      "cell_type": "code",
      "source": [
        "df_offensive[df_offensive['class']==0]['class']=1"
      ],
      "metadata": {
        "execution": {
          "iopub.status.busy": "2021-05-26T06:22:54.725644Z",
          "iopub.execute_input": "2021-05-26T06:22:54.726125Z",
          "iopub.status.idle": "2021-05-26T06:22:54.75087Z",
          "shell.execute_reply.started": "2021-05-26T06:22:54.726076Z",
          "shell.execute_reply": "2021-05-26T06:22:54.749576Z"
        },
        "trusted": true,
        "colab": {
          "base_uri": "https://localhost:8080/"
        },
        "id": "YJX3Kj9puMaF",
        "outputId": "dbde4df5-f282-4bf0-f29a-afeaab23420f"
      },
      "execution_count": 16,
      "outputs": [
        {
          "output_type": "stream",
          "name": "stderr",
          "text": [
            "/usr/local/lib/python3.7/dist-packages/ipykernel_launcher.py:1: SettingWithCopyWarning: \n",
            "A value is trying to be set on a copy of a slice from a DataFrame.\n",
            "Try using .loc[row_indexer,col_indexer] = value instead\n",
            "\n",
            "See the caveats in the documentation: https://pandas.pydata.org/pandas-docs/stable/user_guide/indexing.html#returning-a-view-versus-a-copy\n",
            "  \"\"\"Entry point for launching an IPython kernel.\n"
          ]
        }
      ]
    },
    {
      "cell_type": "code",
      "source": [
        "df_offensive.head(5)"
      ],
      "metadata": {
        "execution": {
          "iopub.status.busy": "2021-05-26T06:22:54.752692Z",
          "iopub.execute_input": "2021-05-26T06:22:54.75349Z",
          "iopub.status.idle": "2021-05-26T06:22:54.768165Z",
          "shell.execute_reply.started": "2021-05-26T06:22:54.753443Z",
          "shell.execute_reply": "2021-05-26T06:22:54.766778Z"
        },
        "trusted": true,
        "colab": {
          "base_uri": "https://localhost:8080/",
          "height": 206
        },
        "id": "hqhT0nE4uMaF",
        "outputId": "d304f055-786e-4827-e87d-4b62820537f6"
      },
      "execution_count": 17,
      "outputs": [
        {
          "output_type": "execute_result",
          "data": {
            "text/plain": [
              "   class                                              tweet\n",
              "0      2  !!! RT @mayasolovely: As a woman you shouldn't...\n",
              "1      1  !!!!! RT @mleew17: boy dats cold...tyga dwn ba...\n",
              "2      1  !!!!!!! RT @UrKindOfBrand Dawg!!!! RT @80sbaby...\n",
              "3      1  !!!!!!!!! RT @C_G_Anderson: @viva_based she lo...\n",
              "4      1  !!!!!!!!!!!!! RT @ShenikaRoberts: The shit you..."
            ],
            "text/html": [
              "\n",
              "  <div id=\"df-f4a4c9b7-0ae7-4b25-b7f4-7e4ee14cc296\">\n",
              "    <div class=\"colab-df-container\">\n",
              "      <div>\n",
              "<style scoped>\n",
              "    .dataframe tbody tr th:only-of-type {\n",
              "        vertical-align: middle;\n",
              "    }\n",
              "\n",
              "    .dataframe tbody tr th {\n",
              "        vertical-align: top;\n",
              "    }\n",
              "\n",
              "    .dataframe thead th {\n",
              "        text-align: right;\n",
              "    }\n",
              "</style>\n",
              "<table border=\"1\" class=\"dataframe\">\n",
              "  <thead>\n",
              "    <tr style=\"text-align: right;\">\n",
              "      <th></th>\n",
              "      <th>class</th>\n",
              "      <th>tweet</th>\n",
              "    </tr>\n",
              "  </thead>\n",
              "  <tbody>\n",
              "    <tr>\n",
              "      <th>0</th>\n",
              "      <td>2</td>\n",
              "      <td>!!! RT @mayasolovely: As a woman you shouldn't...</td>\n",
              "    </tr>\n",
              "    <tr>\n",
              "      <th>1</th>\n",
              "      <td>1</td>\n",
              "      <td>!!!!! RT @mleew17: boy dats cold...tyga dwn ba...</td>\n",
              "    </tr>\n",
              "    <tr>\n",
              "      <th>2</th>\n",
              "      <td>1</td>\n",
              "      <td>!!!!!!! RT @UrKindOfBrand Dawg!!!! RT @80sbaby...</td>\n",
              "    </tr>\n",
              "    <tr>\n",
              "      <th>3</th>\n",
              "      <td>1</td>\n",
              "      <td>!!!!!!!!! RT @C_G_Anderson: @viva_based she lo...</td>\n",
              "    </tr>\n",
              "    <tr>\n",
              "      <th>4</th>\n",
              "      <td>1</td>\n",
              "      <td>!!!!!!!!!!!!! RT @ShenikaRoberts: The shit you...</td>\n",
              "    </tr>\n",
              "  </tbody>\n",
              "</table>\n",
              "</div>\n",
              "      <button class=\"colab-df-convert\" onclick=\"convertToInteractive('df-f4a4c9b7-0ae7-4b25-b7f4-7e4ee14cc296')\"\n",
              "              title=\"Convert this dataframe to an interactive table.\"\n",
              "              style=\"display:none;\">\n",
              "        \n",
              "  <svg xmlns=\"http://www.w3.org/2000/svg\" height=\"24px\"viewBox=\"0 0 24 24\"\n",
              "       width=\"24px\">\n",
              "    <path d=\"M0 0h24v24H0V0z\" fill=\"none\"/>\n",
              "    <path d=\"M18.56 5.44l.94 2.06.94-2.06 2.06-.94-2.06-.94-.94-2.06-.94 2.06-2.06.94zm-11 1L8.5 8.5l.94-2.06 2.06-.94-2.06-.94L8.5 2.5l-.94 2.06-2.06.94zm10 10l.94 2.06.94-2.06 2.06-.94-2.06-.94-.94-2.06-.94 2.06-2.06.94z\"/><path d=\"M17.41 7.96l-1.37-1.37c-.4-.4-.92-.59-1.43-.59-.52 0-1.04.2-1.43.59L10.3 9.45l-7.72 7.72c-.78.78-.78 2.05 0 2.83L4 21.41c.39.39.9.59 1.41.59.51 0 1.02-.2 1.41-.59l7.78-7.78 2.81-2.81c.8-.78.8-2.07 0-2.86zM5.41 20L4 18.59l7.72-7.72 1.47 1.35L5.41 20z\"/>\n",
              "  </svg>\n",
              "      </button>\n",
              "      \n",
              "  <style>\n",
              "    .colab-df-container {\n",
              "      display:flex;\n",
              "      flex-wrap:wrap;\n",
              "      gap: 12px;\n",
              "    }\n",
              "\n",
              "    .colab-df-convert {\n",
              "      background-color: #E8F0FE;\n",
              "      border: none;\n",
              "      border-radius: 50%;\n",
              "      cursor: pointer;\n",
              "      display: none;\n",
              "      fill: #1967D2;\n",
              "      height: 32px;\n",
              "      padding: 0 0 0 0;\n",
              "      width: 32px;\n",
              "    }\n",
              "\n",
              "    .colab-df-convert:hover {\n",
              "      background-color: #E2EBFA;\n",
              "      box-shadow: 0px 1px 2px rgba(60, 64, 67, 0.3), 0px 1px 3px 1px rgba(60, 64, 67, 0.15);\n",
              "      fill: #174EA6;\n",
              "    }\n",
              "\n",
              "    [theme=dark] .colab-df-convert {\n",
              "      background-color: #3B4455;\n",
              "      fill: #D2E3FC;\n",
              "    }\n",
              "\n",
              "    [theme=dark] .colab-df-convert:hover {\n",
              "      background-color: #434B5C;\n",
              "      box-shadow: 0px 1px 3px 1px rgba(0, 0, 0, 0.15);\n",
              "      filter: drop-shadow(0px 1px 2px rgba(0, 0, 0, 0.3));\n",
              "      fill: #FFFFFF;\n",
              "    }\n",
              "  </style>\n",
              "\n",
              "      <script>\n",
              "        const buttonEl =\n",
              "          document.querySelector('#df-f4a4c9b7-0ae7-4b25-b7f4-7e4ee14cc296 button.colab-df-convert');\n",
              "        buttonEl.style.display =\n",
              "          google.colab.kernel.accessAllowed ? 'block' : 'none';\n",
              "\n",
              "        async function convertToInteractive(key) {\n",
              "          const element = document.querySelector('#df-f4a4c9b7-0ae7-4b25-b7f4-7e4ee14cc296');\n",
              "          const dataTable =\n",
              "            await google.colab.kernel.invokeFunction('convertToInteractive',\n",
              "                                                     [key], {});\n",
              "          if (!dataTable) return;\n",
              "\n",
              "          const docLinkHtml = 'Like what you see? Visit the ' +\n",
              "            '<a target=\"_blank\" href=https://colab.research.google.com/notebooks/data_table.ipynb>data table notebook</a>'\n",
              "            + ' to learn more about interactive tables.';\n",
              "          element.innerHTML = '';\n",
              "          dataTable['output_type'] = 'display_data';\n",
              "          await google.colab.output.renderOutput(dataTable, element);\n",
              "          const docLink = document.createElement('div');\n",
              "          docLink.innerHTML = docLinkHtml;\n",
              "          element.appendChild(docLink);\n",
              "        }\n",
              "      </script>\n",
              "    </div>\n",
              "  </div>\n",
              "  "
            ]
          },
          "metadata": {},
          "execution_count": 17
        }
      ]
    },
    {
      "cell_type": "code",
      "source": [
        "df_offensive['class'].unique()"
      ],
      "metadata": {
        "execution": {
          "iopub.status.busy": "2021-05-26T06:22:54.770466Z",
          "iopub.execute_input": "2021-05-26T06:22:54.771335Z",
          "iopub.status.idle": "2021-05-26T06:22:54.781974Z",
          "shell.execute_reply.started": "2021-05-26T06:22:54.771251Z",
          "shell.execute_reply": "2021-05-26T06:22:54.780546Z"
        },
        "trusted": true,
        "colab": {
          "base_uri": "https://localhost:8080/"
        },
        "id": "xqOW4UYhuMaF",
        "outputId": "44e3e376-3bfe-4bec-cb0f-336c61a7b3a3"
      },
      "execution_count": 18,
      "outputs": [
        {
          "output_type": "execute_result",
          "data": {
            "text/plain": [
              "array([2, 1, 0])"
            ]
          },
          "metadata": {},
          "execution_count": 18
        }
      ]
    },
    {
      "cell_type": "code",
      "source": [
        "df_offensive[df_offensive['class']==0]"
      ],
      "metadata": {
        "execution": {
          "iopub.status.busy": "2021-05-26T06:22:54.784085Z",
          "iopub.execute_input": "2021-05-26T06:22:54.785028Z",
          "iopub.status.idle": "2021-05-26T06:22:54.805395Z",
          "shell.execute_reply.started": "2021-05-26T06:22:54.784943Z",
          "shell.execute_reply": "2021-05-26T06:22:54.804466Z"
        },
        "trusted": true,
        "colab": {
          "base_uri": "https://localhost:8080/",
          "height": 424
        },
        "id": "2nLrbbj4uMaF",
        "outputId": "3228094c-aec2-4db1-aa2d-160369ceaee9"
      },
      "execution_count": 19,
      "outputs": [
        {
          "output_type": "execute_result",
          "data": {
            "text/plain": [
              "       class                                              tweet\n",
              "85         0  \"@Blackman38Tide: @WhaleLookyHere @HowdyDowdy1...\n",
              "89         0  \"@CB_Baby24: @white_thunduh alsarabsss\" hes a ...\n",
              "110        0  \"@DevilGrimz: @VigxRArts you're fucking gay, b...\n",
              "184        0  \"@MarkRoundtreeJr: LMFAOOOO I HATE BLACK PEOPL...\n",
              "202        0  \"@NoChillPaz: \"At least I'm not a nigger\" http...\n",
              "...      ...                                                ...\n",
              "24576      0                this guy is the biggest faggot omfg\n",
              "24685      0  which one of these names is more offensive kik...\n",
              "24751      0         you a pussy ass nigga and I know it nigga.\n",
              "24776      0                                 you're all niggers\n",
              "24777      0  you're such a retard i hope you get type 2 dia...\n",
              "\n",
              "[1430 rows x 2 columns]"
            ],
            "text/html": [
              "\n",
              "  <div id=\"df-5cff0dfd-b9e3-49fd-a454-7929500e0b95\">\n",
              "    <div class=\"colab-df-container\">\n",
              "      <div>\n",
              "<style scoped>\n",
              "    .dataframe tbody tr th:only-of-type {\n",
              "        vertical-align: middle;\n",
              "    }\n",
              "\n",
              "    .dataframe tbody tr th {\n",
              "        vertical-align: top;\n",
              "    }\n",
              "\n",
              "    .dataframe thead th {\n",
              "        text-align: right;\n",
              "    }\n",
              "</style>\n",
              "<table border=\"1\" class=\"dataframe\">\n",
              "  <thead>\n",
              "    <tr style=\"text-align: right;\">\n",
              "      <th></th>\n",
              "      <th>class</th>\n",
              "      <th>tweet</th>\n",
              "    </tr>\n",
              "  </thead>\n",
              "  <tbody>\n",
              "    <tr>\n",
              "      <th>85</th>\n",
              "      <td>0</td>\n",
              "      <td>\"@Blackman38Tide: @WhaleLookyHere @HowdyDowdy1...</td>\n",
              "    </tr>\n",
              "    <tr>\n",
              "      <th>89</th>\n",
              "      <td>0</td>\n",
              "      <td>\"@CB_Baby24: @white_thunduh alsarabsss\" hes a ...</td>\n",
              "    </tr>\n",
              "    <tr>\n",
              "      <th>110</th>\n",
              "      <td>0</td>\n",
              "      <td>\"@DevilGrimz: @VigxRArts you're fucking gay, b...</td>\n",
              "    </tr>\n",
              "    <tr>\n",
              "      <th>184</th>\n",
              "      <td>0</td>\n",
              "      <td>\"@MarkRoundtreeJr: LMFAOOOO I HATE BLACK PEOPL...</td>\n",
              "    </tr>\n",
              "    <tr>\n",
              "      <th>202</th>\n",
              "      <td>0</td>\n",
              "      <td>\"@NoChillPaz: \"At least I'm not a nigger\" http...</td>\n",
              "    </tr>\n",
              "    <tr>\n",
              "      <th>...</th>\n",
              "      <td>...</td>\n",
              "      <td>...</td>\n",
              "    </tr>\n",
              "    <tr>\n",
              "      <th>24576</th>\n",
              "      <td>0</td>\n",
              "      <td>this guy is the biggest faggot omfg</td>\n",
              "    </tr>\n",
              "    <tr>\n",
              "      <th>24685</th>\n",
              "      <td>0</td>\n",
              "      <td>which one of these names is more offensive kik...</td>\n",
              "    </tr>\n",
              "    <tr>\n",
              "      <th>24751</th>\n",
              "      <td>0</td>\n",
              "      <td>you a pussy ass nigga and I know it nigga.</td>\n",
              "    </tr>\n",
              "    <tr>\n",
              "      <th>24776</th>\n",
              "      <td>0</td>\n",
              "      <td>you're all niggers</td>\n",
              "    </tr>\n",
              "    <tr>\n",
              "      <th>24777</th>\n",
              "      <td>0</td>\n",
              "      <td>you're such a retard i hope you get type 2 dia...</td>\n",
              "    </tr>\n",
              "  </tbody>\n",
              "</table>\n",
              "<p>1430 rows × 2 columns</p>\n",
              "</div>\n",
              "      <button class=\"colab-df-convert\" onclick=\"convertToInteractive('df-5cff0dfd-b9e3-49fd-a454-7929500e0b95')\"\n",
              "              title=\"Convert this dataframe to an interactive table.\"\n",
              "              style=\"display:none;\">\n",
              "        \n",
              "  <svg xmlns=\"http://www.w3.org/2000/svg\" height=\"24px\"viewBox=\"0 0 24 24\"\n",
              "       width=\"24px\">\n",
              "    <path d=\"M0 0h24v24H0V0z\" fill=\"none\"/>\n",
              "    <path d=\"M18.56 5.44l.94 2.06.94-2.06 2.06-.94-2.06-.94-.94-2.06-.94 2.06-2.06.94zm-11 1L8.5 8.5l.94-2.06 2.06-.94-2.06-.94L8.5 2.5l-.94 2.06-2.06.94zm10 10l.94 2.06.94-2.06 2.06-.94-2.06-.94-.94-2.06-.94 2.06-2.06.94z\"/><path d=\"M17.41 7.96l-1.37-1.37c-.4-.4-.92-.59-1.43-.59-.52 0-1.04.2-1.43.59L10.3 9.45l-7.72 7.72c-.78.78-.78 2.05 0 2.83L4 21.41c.39.39.9.59 1.41.59.51 0 1.02-.2 1.41-.59l7.78-7.78 2.81-2.81c.8-.78.8-2.07 0-2.86zM5.41 20L4 18.59l7.72-7.72 1.47 1.35L5.41 20z\"/>\n",
              "  </svg>\n",
              "      </button>\n",
              "      \n",
              "  <style>\n",
              "    .colab-df-container {\n",
              "      display:flex;\n",
              "      flex-wrap:wrap;\n",
              "      gap: 12px;\n",
              "    }\n",
              "\n",
              "    .colab-df-convert {\n",
              "      background-color: #E8F0FE;\n",
              "      border: none;\n",
              "      border-radius: 50%;\n",
              "      cursor: pointer;\n",
              "      display: none;\n",
              "      fill: #1967D2;\n",
              "      height: 32px;\n",
              "      padding: 0 0 0 0;\n",
              "      width: 32px;\n",
              "    }\n",
              "\n",
              "    .colab-df-convert:hover {\n",
              "      background-color: #E2EBFA;\n",
              "      box-shadow: 0px 1px 2px rgba(60, 64, 67, 0.3), 0px 1px 3px 1px rgba(60, 64, 67, 0.15);\n",
              "      fill: #174EA6;\n",
              "    }\n",
              "\n",
              "    [theme=dark] .colab-df-convert {\n",
              "      background-color: #3B4455;\n",
              "      fill: #D2E3FC;\n",
              "    }\n",
              "\n",
              "    [theme=dark] .colab-df-convert:hover {\n",
              "      background-color: #434B5C;\n",
              "      box-shadow: 0px 1px 3px 1px rgba(0, 0, 0, 0.15);\n",
              "      filter: drop-shadow(0px 1px 2px rgba(0, 0, 0, 0.3));\n",
              "      fill: #FFFFFF;\n",
              "    }\n",
              "  </style>\n",
              "\n",
              "      <script>\n",
              "        const buttonEl =\n",
              "          document.querySelector('#df-5cff0dfd-b9e3-49fd-a454-7929500e0b95 button.colab-df-convert');\n",
              "        buttonEl.style.display =\n",
              "          google.colab.kernel.accessAllowed ? 'block' : 'none';\n",
              "\n",
              "        async function convertToInteractive(key) {\n",
              "          const element = document.querySelector('#df-5cff0dfd-b9e3-49fd-a454-7929500e0b95');\n",
              "          const dataTable =\n",
              "            await google.colab.kernel.invokeFunction('convertToInteractive',\n",
              "                                                     [key], {});\n",
              "          if (!dataTable) return;\n",
              "\n",
              "          const docLinkHtml = 'Like what you see? Visit the ' +\n",
              "            '<a target=\"_blank\" href=https://colab.research.google.com/notebooks/data_table.ipynb>data table notebook</a>'\n",
              "            + ' to learn more about interactive tables.';\n",
              "          element.innerHTML = '';\n",
              "          dataTable['output_type'] = 'display_data';\n",
              "          await google.colab.output.renderOutput(dataTable, element);\n",
              "          const docLink = document.createElement('div');\n",
              "          docLink.innerHTML = docLinkHtml;\n",
              "          element.appendChild(docLink);\n",
              "        }\n",
              "      </script>\n",
              "    </div>\n",
              "  </div>\n",
              "  "
            ]
          },
          "metadata": {},
          "execution_count": 19
        }
      ]
    },
    {
      "cell_type": "code",
      "source": [
        "df_offensive[\"class\"].replace({0: 1}, inplace=True)"
      ],
      "metadata": {
        "execution": {
          "iopub.status.busy": "2021-05-26T06:22:54.808214Z",
          "iopub.execute_input": "2021-05-26T06:22:54.808959Z",
          "iopub.status.idle": "2021-05-26T06:22:54.815686Z",
          "shell.execute_reply.started": "2021-05-26T06:22:54.808913Z",
          "shell.execute_reply": "2021-05-26T06:22:54.8143Z"
        },
        "trusted": true,
        "id": "luK7ts_CuMaG"
      },
      "execution_count": 20,
      "outputs": []
    },
    {
      "cell_type": "code",
      "source": [
        "df_offensive['class'].unique()"
      ],
      "metadata": {
        "execution": {
          "iopub.status.busy": "2021-05-26T06:22:54.817727Z",
          "iopub.execute_input": "2021-05-26T06:22:54.818554Z",
          "iopub.status.idle": "2021-05-26T06:22:54.829993Z",
          "shell.execute_reply.started": "2021-05-26T06:22:54.818508Z",
          "shell.execute_reply": "2021-05-26T06:22:54.828509Z"
        },
        "trusted": true,
        "colab": {
          "base_uri": "https://localhost:8080/"
        },
        "id": "xnWjQHl7uMaG",
        "outputId": "ce208d44-00bd-4516-d172-32b6e01400ca"
      },
      "execution_count": 21,
      "outputs": [
        {
          "output_type": "execute_result",
          "data": {
            "text/plain": [
              "array([2, 1])"
            ]
          },
          "metadata": {},
          "execution_count": 21
        }
      ]
    },
    {
      "cell_type": "code",
      "source": [
        "sns.countplot('class',data=df_offensive)"
      ],
      "metadata": {
        "execution": {
          "iopub.status.busy": "2021-05-26T06:22:54.831247Z",
          "iopub.execute_input": "2021-05-26T06:22:54.832131Z",
          "iopub.status.idle": "2021-05-26T06:22:54.989538Z",
          "shell.execute_reply.started": "2021-05-26T06:22:54.832083Z",
          "shell.execute_reply": "2021-05-26T06:22:54.988414Z"
        },
        "trusted": true,
        "colab": {
          "base_uri": "https://localhost:8080/",
          "height": 351
        },
        "id": "5kk75gi_uMaG",
        "outputId": "8adc3b76-9d72-4f43-abc6-628a72413bb9"
      },
      "execution_count": 22,
      "outputs": [
        {
          "output_type": "stream",
          "name": "stderr",
          "text": [
            "/usr/local/lib/python3.7/dist-packages/seaborn/_decorators.py:43: FutureWarning: Pass the following variable as a keyword arg: x. From version 0.12, the only valid positional argument will be `data`, and passing other arguments without an explicit keyword will result in an error or misinterpretation.\n",
            "  FutureWarning\n"
          ]
        },
        {
          "output_type": "execute_result",
          "data": {
            "text/plain": [
              "<matplotlib.axes._subplots.AxesSubplot at 0x7f8e61357610>"
            ]
          },
          "metadata": {},
          "execution_count": 22
        },
        {
          "output_type": "display_data",
          "data": {
            "text/plain": [
              "<Figure size 432x288 with 1 Axes>"
            ],
            "image/png": "[encoded data removed]"
          },
          "metadata": {
            "needs_background": "light"
          }
        }
      ]
    },
    {
      "cell_type": "code",
      "source": [
        "df_offensive[df_offensive['class']==0]"
      ],
      "metadata": {
        "execution": {
          "iopub.status.busy": "2021-05-26T06:22:54.991538Z",
          "iopub.execute_input": "2021-05-26T06:22:54.992023Z",
          "iopub.status.idle": "2021-05-26T06:22:55.007778Z",
          "shell.execute_reply.started": "2021-05-26T06:22:54.991979Z",
          "shell.execute_reply": "2021-05-26T06:22:55.006611Z"
        },
        "trusted": true,
        "colab": {
          "base_uri": "https://localhost:8080/",
          "height": 49
        },
        "id": "2WkVvfB6uMaH",
        "outputId": "8112f091-4f62-40c8-9384-2241338a3291"
      },
      "execution_count": 23,
      "outputs": [
        {
          "output_type": "execute_result",
          "data": {
            "text/plain": [
              "Empty DataFrame\n",
              "Columns: [class, tweet]\n",
              "Index: []"
            ],
            "text/html": [
              "\n",
              "  <div id=\"df-6852e21e-ae32-4bd9-8e62-ec47641216ea\">\n",
              "    <div class=\"colab-df-container\">\n",
              "      <div>\n",
              "<style scoped>\n",
              "    .dataframe tbody tr th:only-of-type {\n",
              "        vertical-align: middle;\n",
              "    }\n",
              "\n",
              "    .dataframe tbody tr th {\n",
              "        vertical-align: top;\n",
              "    }\n",
              "\n",
              "    .dataframe thead th {\n",
              "        text-align: right;\n",
              "    }\n",
              "</style>\n",
              "<table border=\"1\" class=\"dataframe\">\n",
              "  <thead>\n",
              "    <tr style=\"text-align: right;\">\n",
              "      <th></th>\n",
              "      <th>class</th>\n",
              "      <th>tweet</th>\n",
              "    </tr>\n",
              "  </thead>\n",
              "  <tbody>\n",
              "  </tbody>\n",
              "</table>\n",
              "</div>\n",
              "      <button class=\"colab-df-convert\" onclick=\"convertToInteractive('df-6852e21e-ae32-4bd9-8e62-ec47641216ea')\"\n",
              "              title=\"Convert this dataframe to an interactive table.\"\n",
              "              style=\"display:none;\">\n",
              "        \n",
              "  <svg xmlns=\"http://www.w3.org/2000/svg\" height=\"24px\"viewBox=\"0 0 24 24\"\n",
              "       width=\"24px\">\n",
              "    <path d=\"M0 0h24v24H0V0z\" fill=\"none\"/>\n",
              "    <path d=\"M18.56 5.44l.94 2.06.94-2.06 2.06-.94-2.06-.94-.94-2.06-.94 2.06-2.06.94zm-11 1L8.5 8.5l.94-2.06 2.06-.94-2.06-.94L8.5 2.5l-.94 2.06-2.06.94zm10 10l.94 2.06.94-2.06 2.06-.94-2.06-.94-.94-2.06-.94 2.06-2.06.94z\"/><path d=\"M17.41 7.96l-1.37-1.37c-.4-.4-.92-.59-1.43-.59-.52 0-1.04.2-1.43.59L10.3 9.45l-7.72 7.72c-.78.78-.78 2.05 0 2.83L4 21.41c.39.39.9.59 1.41.59.51 0 1.02-.2 1.41-.59l7.78-7.78 2.81-2.81c.8-.78.8-2.07 0-2.86zM5.41 20L4 18.59l7.72-7.72 1.47 1.35L5.41 20z\"/>\n",
              "  </svg>\n",
              "      </button>\n",
              "      \n",
              "  <style>\n",
              "    .colab-df-container {\n",
              "      display:flex;\n",
              "      flex-wrap:wrap;\n",
              "      gap: 12px;\n",
              "    }\n",
              "\n",
              "    .colab-df-convert {\n",
              "      background-color: #E8F0FE;\n",
              "      border: none;\n",
              "      border-radius: 50%;\n",
              "      cursor: pointer;\n",
              "      display: none;\n",
              "      fill: #1967D2;\n",
              "      height: 32px;\n",
              "      padding: 0 0 0 0;\n",
              "      width: 32px;\n",
              "    }\n",
              "\n",
              "    .colab-df-convert:hover {\n",
              "      background-color: #E2EBFA;\n",
              "      box-shadow: 0px 1px 2px rgba(60, 64, 67, 0.3), 0px 1px 3px 1px rgba(60, 64, 67, 0.15);\n",
              "      fill: #174EA6;\n",
              "    }\n",
              "\n",
              "    [theme=dark] .colab-df-convert {\n",
              "      background-color: #3B4455;\n",
              "      fill: #D2E3FC;\n",
              "    }\n",
              "\n",
              "    [theme=dark] .colab-df-convert:hover {\n",
              "      background-color: #434B5C;\n",
              "      box-shadow: 0px 1px 3px 1px rgba(0, 0, 0, 0.15);\n",
              "      filter: drop-shadow(0px 1px 2px rgba(0, 0, 0, 0.3));\n",
              "      fill: #FFFFFF;\n",
              "    }\n",
              "  </style>\n",
              "\n",
              "      <script>\n",
              "        const buttonEl =\n",
              "          document.querySelector('#df-6852e21e-ae32-4bd9-8e62-ec47641216ea button.colab-df-convert');\n",
              "        buttonEl.style.display =\n",
              "          google.colab.kernel.accessAllowed ? 'block' : 'none';\n",
              "\n",
              "        async function convertToInteractive(key) {\n",
              "          const element = document.querySelector('#df-6852e21e-ae32-4bd9-8e62-ec47641216ea');\n",
              "          const dataTable =\n",
              "            await google.colab.kernel.invokeFunction('convertToInteractive',\n",
              "                                                     [key], {});\n",
              "          if (!dataTable) return;\n",
              "\n",
              "          const docLinkHtml = 'Like what you see? Visit the ' +\n",
              "            '<a target=\"_blank\" href=https://colab.research.google.com/notebooks/data_table.ipynb>data table notebook</a>'\n",
              "            + ' to learn more about interactive tables.';\n",
              "          element.innerHTML = '';\n",
              "          dataTable['output_type'] = 'display_data';\n",
              "          await google.colab.output.renderOutput(dataTable, element);\n",
              "          const docLink = document.createElement('div');\n",
              "          docLink.innerHTML = docLinkHtml;\n",
              "          element.appendChild(docLink);\n",
              "        }\n",
              "      </script>\n",
              "    </div>\n",
              "  </div>\n",
              "  "
            ]
          },
          "metadata": {},
          "execution_count": 23
        }
      ]
    },
    {
      "cell_type": "code",
      "source": [
        "df_offensive[\"class\"].replace({2: 0}, inplace=True)"
      ],
      "metadata": {
        "execution": {
          "iopub.status.busy": "2021-05-26T06:22:55.010286Z",
          "iopub.execute_input": "2021-05-26T06:22:55.010995Z",
          "iopub.status.idle": "2021-05-26T06:22:55.017926Z",
          "shell.execute_reply.started": "2021-05-26T06:22:55.01095Z",
          "shell.execute_reply": "2021-05-26T06:22:55.016624Z"
        },
        "trusted": true,
        "id": "JR2y1i-iuMaH"
      },
      "execution_count": 24,
      "outputs": []
    },
    {
      "cell_type": "code",
      "source": [
        "sns.countplot('class',data=df_offensive)"
      ],
      "metadata": {
        "execution": {
          "iopub.status.busy": "2021-05-26T06:22:55.019865Z",
          "iopub.execute_input": "2021-05-26T06:22:55.021194Z",
          "iopub.status.idle": "2021-05-26T06:22:55.177174Z",
          "shell.execute_reply.started": "2021-05-26T06:22:55.021146Z",
          "shell.execute_reply": "2021-05-26T06:22:55.176146Z"
        },
        "trusted": true,
        "colab": {
          "base_uri": "https://localhost:8080/",
          "height": 351
        },
        "id": "FHhSvahUuMaH",
        "outputId": "0e3c5626-cf5e-45ac-e182-8d92b1a3e5ad"
      },
      "execution_count": 25,
      "outputs": [
        {
          "output_type": "stream",
          "name": "stderr",
          "text": [
            "/usr/local/lib/python3.7/dist-packages/seaborn/_decorators.py:43: FutureWarning: Pass the following variable as a keyword arg: x. From version 0.12, the only valid positional argument will be `data`, and passing other arguments without an explicit keyword will result in an error or misinterpretation.\n",
            "  FutureWarning\n"
          ]
        },
        {
          "output_type": "execute_result",
          "data": {
            "text/plain": [
              "<matplotlib.axes._subplots.AxesSubplot at 0x7f8e61bf32d0>"
            ]
          },
          "metadata": {},
          "execution_count": 25
        },
        {
          "output_type": "display_data",
          "data": {
            "text/plain": [
              "<Figure size 432x288 with 1 Axes>"
            ],
            "image/png": "[encoded data removed]"
          },
          "metadata": {
            "needs_background": "light"
          }
        }
      ]
    },
    {
      "cell_type": "code",
      "source": [
        "df_offensive.rename(columns ={'class':'label'}, inplace = True)\n",
        "   "
      ],
      "metadata": {
        "execution": {
          "iopub.status.busy": "2021-05-26T06:22:55.179192Z",
          "iopub.execute_input": "2021-05-26T06:22:55.179802Z",
          "iopub.status.idle": "2021-05-26T06:22:55.186641Z",
          "shell.execute_reply.started": "2021-05-26T06:22:55.179755Z",
          "shell.execute_reply": "2021-05-26T06:22:55.185142Z"
        },
        "trusted": true,
        "id": "kxYOLuSeuMaI"
      },
      "execution_count": 26,
      "outputs": []
    },
    {
      "cell_type": "code",
      "source": [
        "df_offensive.head()"
      ],
      "metadata": {
        "execution": {
          "iopub.status.busy": "2021-05-26T06:22:55.189309Z",
          "iopub.execute_input": "2021-05-26T06:22:55.18974Z",
          "iopub.status.idle": "2021-05-26T06:22:55.207597Z",
          "shell.execute_reply.started": "2021-05-26T06:22:55.189699Z",
          "shell.execute_reply": "2021-05-26T06:22:55.206039Z"
        },
        "trusted": true,
        "colab": {
          "base_uri": "https://localhost:8080/",
          "height": 206
        },
        "id": "GIhxq9kVuMaI",
        "outputId": "d1680185-a5b6-41a6-a700-4ce56ddfc873"
      },
      "execution_count": 27,
      "outputs": [
        {
          "output_type": "execute_result",
          "data": {
            "text/plain": [
              "   label                                              tweet\n",
              "0      0  !!! RT @mayasolovely: As a woman you shouldn't...\n",
              "1      1  !!!!! RT @mleew17: boy dats cold...tyga dwn ba...\n",
              "2      1  !!!!!!! RT @UrKindOfBrand Dawg!!!! RT @80sbaby...\n",
              "3      1  !!!!!!!!! RT @C_G_Anderson: @viva_based she lo...\n",
              "4      1  !!!!!!!!!!!!! RT @ShenikaRoberts: The shit you..."
            ],
            "text/html": [
              "\n",
              "  <div id=\"df-46443980-c79e-4378-8d1e-172cb3f33a42\">\n",
              "    <div class=\"colab-df-container\">\n",
              "      <div>\n",
              "<style scoped>\n",
              "    .dataframe tbody tr th:only-of-type {\n",
              "        vertical-align: middle;\n",
              "    }\n",
              "\n",
              "    .dataframe tbody tr th {\n",
              "        vertical-align: top;\n",
              "    }\n",
              "\n",
              "    .dataframe thead th {\n",
              "        text-align: right;\n",
              "    }\n",
              "</style>\n",
              "<table border=\"1\" class=\"dataframe\">\n",
              "  <thead>\n",
              "    <tr style=\"text-align: right;\">\n",
              "      <th></th>\n",
              "      <th>label</th>\n",
              "      <th>tweet</th>\n",
              "    </tr>\n",
              "  </thead>\n",
              "  <tbody>\n",
              "    <tr>\n",
              "      <th>0</th>\n",
              "      <td>0</td>\n",
              "      <td>!!! RT @mayasolovely: As a woman you shouldn't...</td>\n",
              "    </tr>\n",
              "    <tr>\n",
              "      <th>1</th>\n",
              "      <td>1</td>\n",
              "      <td>!!!!! RT @mleew17: boy dats cold...tyga dwn ba...</td>\n",
              "    </tr>\n",
              "    <tr>\n",
              "      <th>2</th>\n",
              "      <td>1</td>\n",
              "      <td>!!!!!!! RT @UrKindOfBrand Dawg!!!! RT @80sbaby...</td>\n",
              "    </tr>\n",
              "    <tr>\n",
              "      <th>3</th>\n",
              "      <td>1</td>\n",
              "      <td>!!!!!!!!! RT @C_G_Anderson: @viva_based she lo...</td>\n",
              "    </tr>\n",
              "    <tr>\n",
              "      <th>4</th>\n",
              "      <td>1</td>\n",
              "      <td>!!!!!!!!!!!!! RT @ShenikaRoberts: The shit you...</td>\n",
              "    </tr>\n",
              "  </tbody>\n",
              "</table>\n",
              "</div>\n",
              "      <button class=\"colab-df-convert\" onclick=\"convertToInteractive('df-46443980-c79e-4378-8d1e-172cb3f33a42')\"\n",
              "              title=\"Convert this dataframe to an interactive table.\"\n",
              "              style=\"display:none;\">\n",
              "        \n",
              "  <svg xmlns=\"http://www.w3.org/2000/svg\" height=\"24px\"viewBox=\"0 0 24 24\"\n",
              "       width=\"24px\">\n",
              "    <path d=\"M0 0h24v24H0V0z\" fill=\"none\"/>\n",
              "    <path d=\"M18.56 5.44l.94 2.06.94-2.06 2.06-.94-2.06-.94-.94-2.06-.94 2.06-2.06.94zm-11 1L8.5 8.5l.94-2.06 2.06-.94-2.06-.94L8.5 2.5l-.94 2.06-2.06.94zm10 10l.94 2.06.94-2.06 2.06-.94-2.06-.94-.94-2.06-.94 2.06-2.06.94z\"/><path d=\"M17.41 7.96l-1.37-1.37c-.4-.4-.92-.59-1.43-.59-.52 0-1.04.2-1.43.59L10.3 9.45l-7.72 7.72c-.78.78-.78 2.05 0 2.83L4 21.41c.39.39.9.59 1.41.59.51 0 1.02-.2 1.41-.59l7.78-7.78 2.81-2.81c.8-.78.8-2.07 0-2.86zM5.41 20L4 18.59l7.72-7.72 1.47 1.35L5.41 20z\"/>\n",
              "  </svg>\n",
              "      </button>\n",
              "      \n",
              "  <style>\n",
              "    .colab-df-container {\n",
              "      display:flex;\n",
              "      flex-wrap:wrap;\n",
              "      gap: 12px;\n",
              "    }\n",
              "\n",
              "    .colab-df-convert {\n",
              "      background-color: #E8F0FE;\n",
              "      border: none;\n",
              "      border-radius: 50%;\n",
              "      cursor: pointer;\n",
              "      display: none;\n",
              "      fill: #1967D2;\n",
              "      height: 32px;\n",
              "      padding: 0 0 0 0;\n",
              "      width: 32px;\n",
              "    }\n",
              "\n",
              "    .colab-df-convert:hover {\n",
              "      background-color: #E2EBFA;\n",
              "      box-shadow: 0px 1px 2px rgba(60, 64, 67, 0.3), 0px 1px 3px 1px rgba(60, 64, 67, 0.15);\n",
              "      fill: #174EA6;\n",
              "    }\n",
              "\n",
              "    [theme=dark] .colab-df-convert {\n",
              "      background-color: #3B4455;\n",
              "      fill: #D2E3FC;\n",
              "    }\n",
              "\n",
              "    [theme=dark] .colab-df-convert:hover {\n",
              "      background-color: #434B5C;\n",
              "      box-shadow: 0px 1px 3px 1px rgba(0, 0, 0, 0.15);\n",
              "      filter: drop-shadow(0px 1px 2px rgba(0, 0, 0, 0.3));\n",
              "      fill: #FFFFFF;\n",
              "    }\n",
              "  </style>\n",
              "\n",
              "      <script>\n",
              "        const buttonEl =\n",
              "          document.querySelector('#df-46443980-c79e-4378-8d1e-172cb3f33a42 button.colab-df-convert');\n",
              "        buttonEl.style.display =\n",
              "          google.colab.kernel.accessAllowed ? 'block' : 'none';\n",
              "\n",
              "        async function convertToInteractive(key) {\n",
              "          const element = document.querySelector('#df-46443980-c79e-4378-8d1e-172cb3f33a42');\n",
              "          const dataTable =\n",
              "            await google.colab.kernel.invokeFunction('convertToInteractive',\n",
              "                                                     [key], {});\n",
              "          if (!dataTable) return;\n",
              "\n",
              "          const docLinkHtml = 'Like what you see? Visit the ' +\n",
              "            '<a target=\"_blank\" href=https://colab.research.google.com/notebooks/data_table.ipynb>data table notebook</a>'\n",
              "            + ' to learn more about interactive tables.';\n",
              "          element.innerHTML = '';\n",
              "          dataTable['output_type'] = 'display_data';\n",
              "          await google.colab.output.renderOutput(dataTable, element);\n",
              "          const docLink = document.createElement('div');\n",
              "          docLink.innerHTML = docLinkHtml;\n",
              "          element.appendChild(docLink);\n",
              "        }\n",
              "      </script>\n",
              "    </div>\n",
              "  </div>\n",
              "  "
            ]
          },
          "metadata": {},
          "execution_count": 27
        }
      ]
    },
    {
      "cell_type": "code",
      "source": [
        "df_offensive.iloc[0]['tweet']"
      ],
      "metadata": {
        "execution": {
          "iopub.status.busy": "2021-05-26T06:22:55.210123Z",
          "iopub.execute_input": "2021-05-26T06:22:55.210705Z",
          "iopub.status.idle": "2021-05-26T06:22:55.221474Z",
          "shell.execute_reply.started": "2021-05-26T06:22:55.210592Z",
          "shell.execute_reply": "2021-05-26T06:22:55.21984Z"
        },
        "trusted": true,
        "colab": {
          "base_uri": "https://localhost:8080/",
          "height": 35
        },
        "id": "SD0d9G_guMaI",
        "outputId": "40d6b18f-9b62-49ce-88cf-83ba358069dd"
      },
      "execution_count": 28,
      "outputs": [
        {
          "output_type": "execute_result",
          "data": {
            "text/plain": [
              "\"!!! RT @mayasolovely: As a woman you shouldn't complain about cleaning up your house. &amp; as a man you should always take the trash out...\""
            ],
            "application/vnd.google.colaboratory.intrinsic+json": {
              "type": "string"
            }
          },
          "metadata": {},
          "execution_count": 28
        }
      ]
    },
    {
      "cell_type": "code",
      "source": [
        "df_offensive.iloc[5]['tweet']"
      ],
      "metadata": {
        "execution": {
          "iopub.status.busy": "2021-05-26T06:22:55.22375Z",
          "iopub.execute_input": "2021-05-26T06:22:55.224335Z",
          "iopub.status.idle": "2021-05-26T06:22:55.234816Z",
          "shell.execute_reply.started": "2021-05-26T06:22:55.224269Z",
          "shell.execute_reply": "2021-05-26T06:22:55.233333Z"
        },
        "trusted": true,
        "colab": {
          "base_uri": "https://localhost:8080/",
          "height": 35
        },
        "id": "2p-F_hvZuMaI",
        "outputId": "1b6ddf8a-b964-47a2-c288-e23a13b9bd3c"
      },
      "execution_count": 29,
      "outputs": [
        {
          "output_type": "execute_result",
          "data": {
            "text/plain": [
              "'!!!!!!!!!!!!!!!!!!\"@T_Madison_x: The shit just blows me..claim you so faithful and down for somebody but still fucking with hoes! &#128514;&#128514;&#128514;\"'"
            ],
            "application/vnd.google.colaboratory.intrinsic+json": {
              "type": "string"
            }
          },
          "metadata": {},
          "execution_count": 29
        }
      ]
    },
    {
      "cell_type": "code",
      "source": [
        "frame=[df_twitter,df_offensive]\n",
        "df = pd.concat(frame)"
      ],
      "metadata": {
        "execution": {
          "iopub.status.busy": "2021-05-26T06:22:55.237181Z",
          "iopub.execute_input": "2021-05-26T06:22:55.238102Z",
          "iopub.status.idle": "2021-05-26T06:22:55.249262Z",
          "shell.execute_reply.started": "2021-05-26T06:22:55.238006Z",
          "shell.execute_reply": "2021-05-26T06:22:55.247788Z"
        },
        "trusted": true,
        "id": "vr5Rvo3zuMaI"
      },
      "execution_count": 30,
      "outputs": []
    },
    {
      "cell_type": "code",
      "source": [
        "df.head()"
      ],
      "metadata": {
        "execution": {
          "iopub.status.busy": "2021-05-26T06:22:55.25156Z",
          "iopub.execute_input": "2021-05-26T06:22:55.252157Z",
          "iopub.status.idle": "2021-05-26T06:22:55.264802Z",
          "shell.execute_reply.started": "2021-05-26T06:22:55.252113Z",
          "shell.execute_reply": "2021-05-26T06:22:55.26327Z"
        },
        "trusted": true,
        "colab": {
          "base_uri": "https://localhost:8080/",
          "height": 206
        },
        "id": "0dqx58PKuMaJ",
        "outputId": "cfef54c1-487d-42d1-ae1a-7cc270463ed6"
      },
      "execution_count": 31,
      "outputs": [
        {
          "output_type": "execute_result",
          "data": {
            "text/plain": [
              "   label                                              tweet\n",
              "0      0   @user when a father is dysfunctional and is s...\n",
              "1      0  @user @user thanks for #lyft credit i can't us...\n",
              "2      0                                bihday your majesty\n",
              "3      0  #model   i love u take with u all the time in ...\n",
              "4      0             factsguide: society now    #motivation"
            ],
            "text/html": [
              "\n",
              "  <div id=\"df-fa47128e-cebe-4e3b-b5f5-57f8d8b6b623\">\n",
              "    <div class=\"colab-df-container\">\n",
              "      <div>\n",
              "<style scoped>\n",
              "    .dataframe tbody tr th:only-of-type {\n",
              "        vertical-align: middle;\n",
              "    }\n",
              "\n",
              "    .dataframe tbody tr th {\n",
              "        vertical-align: top;\n",
              "    }\n",
              "\n",
              "    .dataframe thead th {\n",
              "        text-align: right;\n",
              "    }\n",
              "</style>\n",
              "<table border=\"1\" class=\"dataframe\">\n",
              "  <thead>\n",
              "    <tr style=\"text-align: right;\">\n",
              "      <th></th>\n",
              "      <th>label</th>\n",
              "      <th>tweet</th>\n",
              "    </tr>\n",
              "  </thead>\n",
              "  <tbody>\n",
              "    <tr>\n",
              "      <th>0</th>\n",
              "      <td>0</td>\n",
              "      <td>@user when a father is dysfunctional and is s...</td>\n",
              "    </tr>\n",
              "    <tr>\n",
              "      <th>1</th>\n",
              "      <td>0</td>\n",
              "      <td>@user @user thanks for #lyft credit i can't us...</td>\n",
              "    </tr>\n",
              "    <tr>\n",
              "      <th>2</th>\n",
              "      <td>0</td>\n",
              "      <td>bihday your majesty</td>\n",
              "    </tr>\n",
              "    <tr>\n",
              "      <th>3</th>\n",
              "      <td>0</td>\n",
              "      <td>#model   i love u take with u all the time in ...</td>\n",
              "    </tr>\n",
              "    <tr>\n",
              "      <th>4</th>\n",
              "      <td>0</td>\n",
              "      <td>factsguide: society now    #motivation</td>\n",
              "    </tr>\n",
              "  </tbody>\n",
              "</table>\n",
              "</div>\n",
              "      <button class=\"colab-df-convert\" onclick=\"convertToInteractive('df-fa47128e-cebe-4e3b-b5f5-57f8d8b6b623')\"\n",
              "              title=\"Convert this dataframe to an interactive table.\"\n",
              "              style=\"display:none;\">\n",
              "        \n",
              "  <svg xmlns=\"http://www.w3.org/2000/svg\" height=\"24px\"viewBox=\"0 0 24 24\"\n",
              "       width=\"24px\">\n",
              "    <path d=\"M0 0h24v24H0V0z\" fill=\"none\"/>\n",
              "    <path d=\"M18.56 5.44l.94 2.06.94-2.06 2.06-.94-2.06-.94-.94-2.06-.94 2.06-2.06.94zm-11 1L8.5 8.5l.94-2.06 2.06-.94-2.06-.94L8.5 2.5l-.94 2.06-2.06.94zm10 10l.94 2.06.94-2.06 2.06-.94-2.06-.94-.94-2.06-.94 2.06-2.06.94z\"/><path d=\"M17.41 7.96l-1.37-1.37c-.4-.4-.92-.59-1.43-.59-.52 0-1.04.2-1.43.59L10.3 9.45l-7.72 7.72c-.78.78-.78 2.05 0 2.83L4 21.41c.39.39.9.59 1.41.59.51 0 1.02-.2 1.41-.59l7.78-7.78 2.81-2.81c.8-.78.8-2.07 0-2.86zM5.41 20L4 18.59l7.72-7.72 1.47 1.35L5.41 20z\"/>\n",
              "  </svg>\n",
              "      </button>\n",
              "      \n",
              "  <style>\n",
              "    .colab-df-container {\n",
              "      display:flex;\n",
              "      flex-wrap:wrap;\n",
              "      gap: 12px;\n",
              "    }\n",
              "\n",
              "    .colab-df-convert {\n",
              "      background-color: #E8F0FE;\n",
              "      border: none;\n",
              "      border-radius: 50%;\n",
              "      cursor: pointer;\n",
              "      display: none;\n",
              "      fill: #1967D2;\n",
              "      height: 32px;\n",
              "      padding: 0 0 0 0;\n",
              "      width: 32px;\n",
              "    }\n",
              "\n",
              "    .colab-df-convert:hover {\n",
              "      background-color: #E2EBFA;\n",
              "      box-shadow: 0px 1px 2px rgba(60, 64, 67, 0.3), 0px 1px 3px 1px rgba(60, 64, 67, 0.15);\n",
              "      fill: #174EA6;\n",
              "    }\n",
              "\n",
              "    [theme=dark] .colab-df-convert {\n",
              "      background-color: #3B4455;\n",
              "      fill: #D2E3FC;\n",
              "    }\n",
              "\n",
              "    [theme=dark] .colab-df-convert:hover {\n",
              "      background-color: #434B5C;\n",
              "      box-shadow: 0px 1px 3px 1px rgba(0, 0, 0, 0.15);\n",
              "      filter: drop-shadow(0px 1px 2px rgba(0, 0, 0, 0.3));\n",
              "      fill: #FFFFFF;\n",
              "    }\n",
              "  </style>\n",
              "\n",
              "      <script>\n",
              "        const buttonEl =\n",
              "          document.querySelector('#df-fa47128e-cebe-4e3b-b5f5-57f8d8b6b623 button.colab-df-convert');\n",
              "        buttonEl.style.display =\n",
              "          google.colab.kernel.accessAllowed ? 'block' : 'none';\n",
              "\n",
              "        async function convertToInteractive(key) {\n",
              "          const element = document.querySelector('#df-fa47128e-cebe-4e3b-b5f5-57f8d8b6b623');\n",
              "          const dataTable =\n",
              "            await google.colab.kernel.invokeFunction('convertToInteractive',\n",
              "                                                     [key], {});\n",
              "          if (!dataTable) return;\n",
              "\n",
              "          const docLinkHtml = 'Like what you see? Visit the ' +\n",
              "            '<a target=\"_blank\" href=https://colab.research.google.com/notebooks/data_table.ipynb>data table notebook</a>'\n",
              "            + ' to learn more about interactive tables.';\n",
              "          element.innerHTML = '';\n",
              "          dataTable['output_type'] = 'display_data';\n",
              "          await google.colab.output.renderOutput(dataTable, element);\n",
              "          const docLink = document.createElement('div');\n",
              "          docLink.innerHTML = docLinkHtml;\n",
              "          element.appendChild(docLink);\n",
              "        }\n",
              "      </script>\n",
              "    </div>\n",
              "  </div>\n",
              "  "
            ]
          },
          "metadata": {},
          "execution_count": 31
        }
      ]
    },
    {
      "cell_type": "code",
      "source": [
        "sns.countplot('label',data=df)"
      ],
      "metadata": {
        "execution": {
          "iopub.status.busy": "2021-05-26T06:22:55.267039Z",
          "iopub.execute_input": "2021-05-26T06:22:55.267862Z",
          "iopub.status.idle": "2021-05-26T06:22:55.420242Z",
          "shell.execute_reply.started": "2021-05-26T06:22:55.267814Z",
          "shell.execute_reply": "2021-05-26T06:22:55.418844Z"
        },
        "trusted": true,
        "colab": {
          "base_uri": "https://localhost:8080/",
          "height": 352
        },
        "id": "kcHq_gHMuMaJ",
        "outputId": "8ca1db51-1667-4f8b-ca2a-fa999032f14e"
      },
      "execution_count": 32,
      "outputs": [
        {
          "output_type": "stream",
          "name": "stderr",
          "text": [
            "/usr/local/lib/python3.7/dist-packages/seaborn/_decorators.py:43: FutureWarning: Pass the following variable as a keyword arg: x. From version 0.12, the only valid positional argument will be `data`, and passing other arguments without an explicit keyword will result in an error or misinterpretation.\n",
            "  FutureWarning\n"
          ]
        },
        {
          "output_type": "execute_result",
          "data": {
            "text/plain": [
              "<matplotlib.axes._subplots.AxesSubplot at 0x7f8e61243bd0>"
            ]
          },
          "metadata": {},
          "execution_count": 32
        },
        {
          "output_type": "display_data",
          "data": {
            "text/plain": [
              "<Figure size 432x288 with 1 Axes>"
            ],
            "image/png": "[encoded data removed]"
          },
          "metadata": {
            "needs_background": "light"
          }
        }
      ]
    },
    {
      "cell_type": "code",
      "source": [
        "df.shape"
      ],
      "metadata": {
        "execution": {
          "iopub.status.busy": "2021-05-26T06:22:55.422312Z",
          "iopub.execute_input": "2021-05-26T06:22:55.422824Z",
          "iopub.status.idle": "2021-05-26T06:22:55.430701Z",
          "shell.execute_reply.started": "2021-05-26T06:22:55.422781Z",
          "shell.execute_reply": "2021-05-26T06:22:55.428928Z"
        },
        "trusted": true,
        "colab": {
          "base_uri": "https://localhost:8080/"
        },
        "id": "ZzYvwASfuMaJ",
        "outputId": "fb427cc3-9a31-4857-885b-040e4e1dd297"
      },
      "execution_count": 33,
      "outputs": [
        {
          "output_type": "execute_result",
          "data": {
            "text/plain": [
              "(56745, 2)"
            ]
          },
          "metadata": {},
          "execution_count": 33
        }
      ]
    },
    {
      "cell_type": "code",
      "source": [
        "import nltk\n",
        "nltk.download('stopwords')"
      ],
      "metadata": {
        "colab": {
          "base_uri": "https://localhost:8080/"
        },
        "id": "n628RfDkv3CO",
        "outputId": "f61e6051-d03c-475d-d3a0-f59ee9ed4e81"
      },
      "execution_count": 34,
      "outputs": [
        {
          "output_type": "stream",
          "name": "stderr",
          "text": [
            "[nltk_data] Downloading package stopwords to /root/nltk_data...\n",
            "[nltk_data]   Package stopwords is already up-to-date!\n"
          ]
        },
        {
          "output_type": "execute_result",
          "data": {
            "text/plain": [
              "True"
            ]
          },
          "metadata": {},
          "execution_count": 34
        }
      ]
    },
    {
      "cell_type": "code",
      "source": [
        "import re\n",
        "stemmer = nltk.SnowballStemmer(\"english\")\n",
        "from nltk.corpus import stopwords\n",
        "import string\n",
        "stopword=set(stopwords.words('english'))\n"
      ],
      "metadata": {
        "execution": {
          "iopub.status.busy": "2021-05-26T06:22:55.432768Z",
          "iopub.execute_input": "2021-05-26T06:22:55.433577Z",
          "iopub.status.idle": "2021-05-26T06:22:56.263329Z",
          "shell.execute_reply.started": "2021-05-26T06:22:55.43353Z",
          "shell.execute_reply": "2021-05-26T06:22:56.262247Z"
        },
        "trusted": true,
        "id": "e7B_Mmd6uMaJ"
      },
      "execution_count": 35,
      "outputs": []
    },
    {
      "cell_type": "code",
      "source": [
        "def clean_text(text):\n",
        "    text = str(text).lower()\n",
        "    text = re.sub('\\[.*?\\]', '', text)\n",
        "    text = re.sub('https?://\\S+|www\\.\\S+', '', text)\n",
        "    text = re.sub('<.*?>+', '', text)\n",
        "    text = re.sub('[%s]' % re.escape(string.punctuation), '', text)\n",
        "    text = re.sub('\\n', '', text)\n",
        "    text = re.sub('\\w*\\d\\w*', '', text)\n",
        "    text = [word for word in text.split(' ') if word not in stopword]\n",
        "    text=\" \".join(text)\n",
        "    text = [stemmer.stem(word) for word in text.split(' ')]\n",
        "    text=\" \".join(text)\n",
        "    return text"
      ],
      "metadata": {
        "execution": {
          "iopub.status.busy": "2021-05-26T06:22:56.266192Z",
          "iopub.execute_input": "2021-05-26T06:22:56.266557Z",
          "iopub.status.idle": "2021-05-26T06:22:56.280476Z",
          "shell.execute_reply.started": "2021-05-26T06:22:56.266523Z",
          "shell.execute_reply": "2021-05-26T06:22:56.279073Z"
        },
        "trusted": true,
        "id": "7WAZnTJRuMaJ"
      },
      "execution_count": 36,
      "outputs": []
    },
    {
      "cell_type": "code",
      "source": [
        "df['tweet']=df['tweet'].apply(clean_text)"
      ],
      "metadata": {
        "execution": {
          "iopub.status.busy": "2021-05-26T06:22:56.282553Z",
          "iopub.execute_input": "2021-05-26T06:22:56.283463Z",
          "iopub.status.idle": "2021-05-26T06:23:08.184761Z",
          "shell.execute_reply.started": "2021-05-26T06:22:56.283389Z",
          "shell.execute_reply": "2021-05-26T06:23:08.183727Z"
        },
        "trusted": true,
        "id": "ZxMKRCo9uMaK"
      },
      "execution_count": 37,
      "outputs": []
    },
    {
      "cell_type": "code",
      "source": [
        "df.head()"
      ],
      "metadata": {
        "execution": {
          "iopub.status.busy": "2021-05-26T06:23:08.188409Z",
          "iopub.execute_input": "2021-05-26T06:23:08.189045Z",
          "iopub.status.idle": "2021-05-26T06:23:08.201124Z",
          "shell.execute_reply.started": "2021-05-26T06:23:08.188997Z",
          "shell.execute_reply": "2021-05-26T06:23:08.199831Z"
        },
        "trusted": true,
        "colab": {
          "base_uri": "https://localhost:8080/",
          "height": 206
        },
        "id": "c47ozhZOuMaK",
        "outputId": "6e6e1e93-6101-4b22-82ef-1e43ede48251"
      },
      "execution_count": 38,
      "outputs": [
        {
          "output_type": "execute_result",
          "data": {
            "text/plain": [
              "   label                                              tweet\n",
              "0      0   user father dysfunct selfish drag kid dysfunc...\n",
              "1      0  user user thank lyft credit cant use caus dont...\n",
              "2      0                                     bihday majesti\n",
              "3      0  model   love u take u time urð± ððð...\n",
              "4      0                         factsguid societi    motiv"
            ],
            "text/html": [
              "\n",
              "  <div id=\"df-3e7c9af3-078f-4fa5-9c97-ca9c038952da\">\n",
              "    <div class=\"colab-df-container\">\n",
              "      <div>\n",
              "<style scoped>\n",
              "    .dataframe tbody tr th:only-of-type {\n",
              "        vertical-align: middle;\n",
              "    }\n",
              "\n",
              "    .dataframe tbody tr th {\n",
              "        vertical-align: top;\n",
              "    }\n",
              "\n",
              "    .dataframe thead th {\n",
              "        text-align: right;\n",
              "    }\n",
              "</style>\n",
              "<table border=\"1\" class=\"dataframe\">\n",
              "  <thead>\n",
              "    <tr style=\"text-align: right;\">\n",
              "      <th></th>\n",
              "      <th>label</th>\n",
              "      <th>tweet</th>\n",
              "    </tr>\n",
              "  </thead>\n",
              "  <tbody>\n",
              "    <tr>\n",
              "      <th>0</th>\n",
              "      <td>0</td>\n",
              "      <td>user father dysfunct selfish drag kid dysfunc...</td>\n",
              "    </tr>\n",
              "    <tr>\n",
              "      <th>1</th>\n",
              "      <td>0</td>\n",
              "      <td>user user thank lyft credit cant use caus dont...</td>\n",
              "    </tr>\n",
              "    <tr>\n",
              "      <th>2</th>\n",
              "      <td>0</td>\n",
              "      <td>bihday majesti</td>\n",
              "    </tr>\n",
              "    <tr>\n",
              "      <th>3</th>\n",
              "      <td>0</td>\n",
              "      <td>model   love u take u time urð± ððð...</td>\n",
              "    </tr>\n",
              "    <tr>\n",
              "      <th>4</th>\n",
              "      <td>0</td>\n",
              "      <td>factsguid societi    motiv</td>\n",
              "    </tr>\n",
              "  </tbody>\n",
              "</table>\n",
              "</div>\n",
              "      <button class=\"colab-df-convert\" onclick=\"convertToInteractive('df-3e7c9af3-078f-4fa5-9c97-ca9c038952da')\"\n",
              "              title=\"Convert this dataframe to an interactive table.\"\n",
              "              style=\"display:none;\">\n",
              "        \n",
              "  <svg xmlns=\"http://www.w3.org/2000/svg\" height=\"24px\"viewBox=\"0 0 24 24\"\n",
              "       width=\"24px\">\n",
              "    <path d=\"M0 0h24v24H0V0z\" fill=\"none\"/>\n",
              "    <path d=\"M18.56 5.44l.94 2.06.94-2.06 2.06-.94-2.06-.94-.94-2.06-.94 2.06-2.06.94zm-11 1L8.5 8.5l.94-2.06 2.06-.94-2.06-.94L8.5 2.5l-.94 2.06-2.06.94zm10 10l.94 2.06.94-2.06 2.06-.94-2.06-.94-.94-2.06-.94 2.06-2.06.94z\"/><path d=\"M17.41 7.96l-1.37-1.37c-.4-.4-.92-.59-1.43-.59-.52 0-1.04.2-1.43.59L10.3 9.45l-7.72 7.72c-.78.78-.78 2.05 0 2.83L4 21.41c.39.39.9.59 1.41.59.51 0 1.02-.2 1.41-.59l7.78-7.78 2.81-2.81c.8-.78.8-2.07 0-2.86zM5.41 20L4 18.59l7.72-7.72 1.47 1.35L5.41 20z\"/>\n",
              "  </svg>\n",
              "      </button>\n",
              "      \n",
              "  <style>\n",
              "    .colab-df-container {\n",
              "      display:flex;\n",
              "      flex-wrap:wrap;\n",
              "      gap: 12px;\n",
              "    }\n",
              "\n",
              "    .colab-df-convert {\n",
              "      background-color: #E8F0FE;\n",
              "      border: none;\n",
              "      border-radius: 50%;\n",
              "      cursor: pointer;\n",
              "      display: none;\n",
              "      fill: #1967D2;\n",
              "      height: 32px;\n",
              "      padding: 0 0 0 0;\n",
              "      width: 32px;\n",
              "    }\n",
              "\n",
              "    .colab-df-convert:hover {\n",
              "      background-color: #E2EBFA;\n",
              "      box-shadow: 0px 1px 2px rgba(60, 64, 67, 0.3), 0px 1px 3px 1px rgba(60, 64, 67, 0.15);\n",
              "      fill: #174EA6;\n",
              "    }\n",
              "\n",
              "    [theme=dark] .colab-df-convert {\n",
              "      background-color: #3B4455;\n",
              "      fill: #D2E3FC;\n",
              "    }\n",
              "\n",
              "    [theme=dark] .colab-df-convert:hover {\n",
              "      background-color: #434B5C;\n",
              "      box-shadow: 0px 1px 3px 1px rgba(0, 0, 0, 0.15);\n",
              "      filter: drop-shadow(0px 1px 2px rgba(0, 0, 0, 0.3));\n",
              "      fill: #FFFFFF;\n",
              "    }\n",
              "  </style>\n",
              "\n",
              "      <script>\n",
              "        const buttonEl =\n",
              "          document.querySelector('#df-3e7c9af3-078f-4fa5-9c97-ca9c038952da button.colab-df-convert');\n",
              "        buttonEl.style.display =\n",
              "          google.colab.kernel.accessAllowed ? 'block' : 'none';\n",
              "\n",
              "        async function convertToInteractive(key) {\n",
              "          const element = document.querySelector('#df-3e7c9af3-078f-4fa5-9c97-ca9c038952da');\n",
              "          const dataTable =\n",
              "            await google.colab.kernel.invokeFunction('convertToInteractive',\n",
              "                                                     [key], {});\n",
              "          if (!dataTable) return;\n",
              "\n",
              "          const docLinkHtml = 'Like what you see? Visit the ' +\n",
              "            '<a target=\"_blank\" href=https://colab.research.google.com/notebooks/data_table.ipynb>data table notebook</a>'\n",
              "            + ' to learn more about interactive tables.';\n",
              "          element.innerHTML = '';\n",
              "          dataTable['output_type'] = 'display_data';\n",
              "          await google.colab.output.renderOutput(dataTable, element);\n",
              "          const docLink = document.createElement('div');\n",
              "          docLink.innerHTML = docLinkHtml;\n",
              "          element.appendChild(docLink);\n",
              "        }\n",
              "      </script>\n",
              "    </div>\n",
              "  </div>\n",
              "  "
            ]
          },
          "metadata": {},
          "execution_count": 38
        }
      ]
    },
    {
      "cell_type": "code",
      "source": [
        "from wordcloud import WordCloud, STOPWORDS\n",
        "import matplotlib.pyplot as plt\n",
        "import pandas as pd\n",
        "  "
      ],
      "metadata": {
        "execution": {
          "iopub.status.busy": "2021-05-26T06:23:08.203933Z",
          "iopub.execute_input": "2021-05-26T06:23:08.20442Z",
          "iopub.status.idle": "2021-05-26T06:23:08.248716Z",
          "shell.execute_reply.started": "2021-05-26T06:23:08.204373Z",
          "shell.execute_reply": "2021-05-26T06:23:08.247653Z"
        },
        "trusted": true,
        "id": "ztn8nDRAuMaK"
      },
      "execution_count": 39,
      "outputs": []
    },
    {
      "cell_type": "code",
      "source": [
        "def make_wordcloud(df):\n",
        "    comment_words=\"\"\n",
        "    for val in df.tweet: \n",
        "        val = str(val).lower()\n",
        "\n",
        "      \n",
        "        comment_words += \" \".join(val)+\" \"\n",
        "    print(comment_words[0:100])\n",
        "    wordcloud = WordCloud(width = 800, height = 800,\n",
        "                background_color ='white',\n",
        "                stopwords = stopwords,min_font_size = 10).generate(comment_words)\n",
        "  \n",
        "    plt.figure(figsize = (8, 8), facecolor = None)\n",
        "    plt.imshow(wordcloud)\n",
        "    plt.axis(\"off\")\n",
        "    plt.tight_layout(pad = 0)\n",
        "\n",
        "    plt.show()"
      ],
      "metadata": {
        "execution": {
          "iopub.status.busy": "2021-05-26T06:23:08.250511Z",
          "iopub.execute_input": "2021-05-26T06:23:08.250989Z",
          "iopub.status.idle": "2021-05-26T06:23:08.259857Z",
          "shell.execute_reply.started": "2021-05-26T06:23:08.250934Z",
          "shell.execute_reply": "2021-05-26T06:23:08.258521Z"
        },
        "trusted": true,
        "id": "A0nJ-pq4uMaK"
      },
      "execution_count": 40,
      "outputs": []
    },
    {
      "cell_type": "code",
      "source": [
        "# make_wordcloud(df[df['label']==0])"
      ],
      "metadata": {
        "execution": {
          "iopub.status.busy": "2021-05-26T06:23:08.261962Z",
          "iopub.execute_input": "2021-05-26T06:23:08.263058Z",
          "iopub.status.idle": "2021-05-26T06:23:08.271236Z",
          "shell.execute_reply.started": "2021-05-26T06:23:08.262829Z",
          "shell.execute_reply": "2021-05-26T06:23:08.269534Z"
        },
        "trusted": true,
        "id": "EU_99cPJuMaL"
      },
      "execution_count": 41,
      "outputs": []
    },
    {
      "cell_type": "code",
      "source": [
        "x=df['tweet']\n",
        "y=df['label']"
      ],
      "metadata": {
        "execution": {
          "iopub.status.busy": "2021-05-26T06:23:08.27314Z",
          "iopub.execute_input": "2021-05-26T06:23:08.274829Z",
          "iopub.status.idle": "2021-05-26T06:23:08.283096Z",
          "shell.execute_reply.started": "2021-05-26T06:23:08.274789Z",
          "shell.execute_reply": "2021-05-26T06:23:08.281872Z"
        },
        "trusted": true,
        "id": "Qfon6QoguMaL"
      },
      "execution_count": 42,
      "outputs": []
    },
    {
      "cell_type": "code",
      "source": [
        "from sklearn.model_selection import train_test_split\n",
        "\n",
        "x_train, x_test, y_train, y_test = train_test_split(x, y, random_state=42)\n",
        "print(len(x_train), len(y_train))\n",
        "print(len(x_test), len(y_test))"
      ],
      "metadata": {
        "execution": {
          "iopub.status.busy": "2021-05-26T06:23:08.284705Z",
          "iopub.execute_input": "2021-05-26T06:23:08.285406Z",
          "iopub.status.idle": "2021-05-26T06:23:08.306214Z",
          "shell.execute_reply.started": "2021-05-26T06:23:08.285361Z",
          "shell.execute_reply": "2021-05-26T06:23:08.305193Z"
        },
        "trusted": true,
        "colab": {
          "base_uri": "https://localhost:8080/"
        },
        "id": "UXDYMJvkuMaL",
        "outputId": "8bf1f276-6ad6-47f2-aa6d-247bcf72eea7"
      },
      "execution_count": 43,
      "outputs": [
        {
          "output_type": "stream",
          "name": "stdout",
          "text": [
            "42558 42558\n",
            "14187 14187\n"
          ]
        }
      ]
    },
    {
      "cell_type": "code",
      "source": [
        "from sklearn.feature_extraction.text import CountVectorizer\n",
        "\n",
        "count = CountVectorizer(stop_words='english', ngram_range=(1,5))\n",
        "x_train_vectorizer=count.fit_transform(x_train)"
      ],
      "metadata": {
        "execution": {
          "iopub.status.busy": "2021-05-26T06:23:08.307933Z",
          "iopub.execute_input": "2021-05-26T06:23:08.308425Z",
          "iopub.status.idle": "2021-05-26T06:23:13.936274Z",
          "shell.execute_reply.started": "2021-05-26T06:23:08.308383Z",
          "shell.execute_reply": "2021-05-26T06:23:13.935178Z"
        },
        "trusted": true,
        "id": "EelHnDkJuMaL"
      },
      "execution_count": 44,
      "outputs": []
    },
    {
      "cell_type": "code",
      "source": [
        "x_test_vectorizer=count.transform(x_test)\n",
        "x_train_vectorizer.toarray()\n"
      ],
      "metadata": {
        "execution": {
          "iopub.status.busy": "2021-05-26T06:23:13.938159Z",
          "iopub.execute_input": "2021-05-26T06:23:13.938649Z",
          "iopub.status.idle": "2021-05-26T06:23:15.669623Z",
          "shell.execute_reply.started": "2021-05-26T06:23:13.938605Z",
          "shell.execute_reply": "2021-05-26T06:23:15.668617Z"
        },
        "trusted": true,
        "id": "JPy2yrtuuMaL"
      },
      "execution_count": null,
      "outputs": []
    },
    {
      "cell_type": "code",
      "source": [
        "count.vocabulary_\n"
      ],
      "metadata": {
        "execution": {
          "iopub.status.busy": "2021-05-26T06:23:15.671259Z",
          "iopub.execute_input": "2021-05-26T06:23:15.671696Z",
          "iopub.status.idle": "2021-05-26T06:23:15.720542Z",
          "shell.execute_reply.started": "2021-05-26T06:23:15.671662Z",
          "shell.execute_reply": "2021-05-26T06:23:15.719034Z"
        },
        "collapsed": true,
        "jupyter": {
          "outputs_hidden": true
        },
        "trusted": true,
        "id": "N7LMlJMZuMaL"
      },
      "execution_count": null,
      "outputs": []
    },
    {
      "cell_type": "code",
      "source": [],
      "metadata": {
        "id": "nZVgqDxIxC0Q"
      },
      "execution_count": null,
      "outputs": []
    },
    {
      "cell_type": "code",
      "source": [
        "from sklearn.feature_extraction.text import TfidfTransformer\n",
        "tfidf = TfidfTransformer()\n",
        "\n",
        "x_train_tfidf = tfidf.fit_transform(x_train_vectorizer)\n",
        "\n",
        "x_train_tfidf.toarray()\n",
        "x_test_tfidf = tfidf.transform(x_test_vectorizer)\n"
      ],
      "metadata": {
        "execution": {
          "iopub.status.busy": "2021-05-26T06:23:15.722524Z",
          "iopub.execute_input": "2021-05-26T06:23:15.722964Z",
          "iopub.status.idle": "2021-05-26T06:23:18.171547Z",
          "shell.execute_reply.started": "2021-05-26T06:23:15.722909Z",
          "shell.execute_reply": "2021-05-26T06:23:18.17039Z"
        },
        "trusted": true,
        "id": "rQkVTYuyuMaM"
      },
      "execution_count": null,
      "outputs": []
    },
    {
      "cell_type": "code",
      "source": [
        "from sklearn.naive_bayes import MultinomialNB\n",
        "from sklearn.metrics import classification_report\n",
        "from sklearn.metrics import confusion_matrix"
      ],
      "metadata": {
        "execution": {
          "iopub.status.busy": "2021-05-26T06:23:18.173285Z",
          "iopub.execute_input": "2021-05-26T06:23:18.17385Z",
          "iopub.status.idle": "2021-05-26T06:23:18.183739Z",
          "shell.execute_reply.started": "2021-05-26T06:23:18.173795Z",
          "shell.execute_reply": "2021-05-26T06:23:18.182383Z"
        },
        "trusted": true,
        "id": "ymYmWrrvuMaM"
      },
      "execution_count": null,
      "outputs": []
    },
    {
      "cell_type": "code",
      "source": [
        "model_vectorizer= MultinomialNB().fit(x_train_vectorizer, y_train)\n",
        "prediction_vectorizer=model_vectorizer.predict(x_test_vectorizer)\n",
        "print(confusion_matrix(y_test,prediction_vectorizer))\n",
        "print (classification_report(y_test, prediction_vectorizer))"
      ],
      "metadata": {
        "execution": {
          "iopub.status.busy": "2021-05-26T06:23:18.185759Z",
          "iopub.execute_input": "2021-05-26T06:23:18.186643Z",
          "iopub.status.idle": "2021-05-26T06:23:18.320812Z",
          "shell.execute_reply.started": "2021-05-26T06:23:18.186591Z",
          "shell.execute_reply": "2021-05-26T06:23:18.319529Z"
        },
        "trusted": true,
        "id": "EqPWNfW5uMaM"
      },
      "execution_count": null,
      "outputs": []
    },
    {
      "cell_type": "code",
      "source": [
        "model_tfidf= MultinomialNB().fit(x_train_tfidf, y_train)\n",
        "prediction_tfidf=model_tfidf.predict(x_test_tfidf)\n",
        "print (classification_report(y_test, prediction_tfidf))\n",
        "print(confusion_matrix(y_test,prediction_tfidf))"
      ],
      "metadata": {
        "execution": {
          "iopub.status.busy": "2021-05-26T06:23:18.32293Z",
          "iopub.execute_input": "2021-05-26T06:23:18.323589Z",
          "iopub.status.idle": "2021-05-26T06:23:18.44319Z",
          "shell.execute_reply.started": "2021-05-26T06:23:18.323537Z",
          "shell.execute_reply": "2021-05-26T06:23:18.441919Z"
        },
        "trusted": true,
        "id": "L0h62tu9uMaM"
      },
      "execution_count": null,
      "outputs": []
    },
    {
      "cell_type": "code",
      "source": [
        "import xgboost as xgb\n",
        "xgb_model=xgb.XGBClassifier(\n",
        "        learning_rate=0.1,\n",
        "        max_depth=7,\n",
        "        n_estimators=80,\n",
        "        use_label_encoder=False,\n",
        "        eval_metric='auc' )"
      ],
      "metadata": {
        "execution": {
          "iopub.status.busy": "2021-05-26T06:23:18.445006Z",
          "iopub.execute_input": "2021-05-26T06:23:18.445742Z",
          "iopub.status.idle": "2021-05-26T06:23:22.415137Z",
          "shell.execute_reply.started": "2021-05-26T06:23:18.445689Z",
          "shell.execute_reply": "2021-05-26T06:23:22.414091Z"
        },
        "trusted": true,
        "id": "YXeQ4CItuMaM"
      },
      "execution_count": null,
      "outputs": []
    },
    {
      "cell_type": "code",
      "source": [
        "xgb_model_vectorizer = xgb_model.fit(x_train_vectorizer, y_train)\n",
        "xgb_predictions_vectorizer=xgb_model_vectorizer.predict(x_test_vectorizer)\n",
        "print(confusion_matrix(y_test,xgb_predictions_vectorizer))\n",
        "print (classification_report(y_test, xgb_predictions_vectorizer))"
      ],
      "metadata": {
        "execution": {
          "iopub.status.busy": "2021-05-26T06:23:22.419319Z",
          "iopub.execute_input": "2021-05-26T06:23:22.419701Z",
          "iopub.status.idle": "2021-05-26T06:24:30.10352Z",
          "shell.execute_reply.started": "2021-05-26T06:23:22.419669Z",
          "shell.execute_reply": "2021-05-26T06:24:30.101941Z"
        },
        "trusted": true,
        "id": "Z0cFTCy-uMaN"
      },
      "execution_count": null,
      "outputs": []
    },
    {
      "cell_type": "code",
      "source": [
        "xgb_model = xgb_model.fit(x_train_tfidf, y_train)\n",
        "xgb_predictions=xgb_model.predict(x_test_tfidf)\n",
        "print(confusion_matrix(y_test,xgb_predictions))\n",
        "print (classification_report(y_test, xgb_predictions))"
      ],
      "metadata": {
        "execution": {
          "iopub.status.busy": "2021-05-26T06:24:30.105626Z",
          "iopub.execute_input": "2021-05-26T06:24:30.106474Z",
          "iopub.status.idle": "2021-05-26T06:25:49.377317Z",
          "shell.execute_reply.started": "2021-05-26T06:24:30.106422Z",
          "shell.execute_reply": "2021-05-26T06:25:49.376063Z"
        },
        "trusted": true,
        "id": "O_naNrIbuMaN"
      },
      "execution_count": null,
      "outputs": []
    },
    {
      "cell_type": "code",
      "source": [
        "from keras.models import Model\n",
        "from keras.layers import LSTM, Activation, Dense, Dropout, Input, Embedding,SpatialDropout1D\n",
        "from keras.optimizers import RMSprop\n",
        "from keras.preprocessing.text import Tokenizer\n",
        "from keras.preprocessing import sequence\n",
        "from keras.utils import to_categorical\n",
        "from keras.callbacks import EarlyStopping\n",
        "from keras.models import Sequential\n"
      ],
      "metadata": {
        "execution": {
          "iopub.status.busy": "2021-05-26T06:25:49.379046Z",
          "iopub.execute_input": "2021-05-26T06:25:49.379725Z",
          "iopub.status.idle": "2021-05-26T06:25:55.279809Z",
          "shell.execute_reply.started": "2021-05-26T06:25:49.379675Z",
          "shell.execute_reply": "2021-05-26T06:25:55.278723Z"
        },
        "trusted": true,
        "id": "Q3qpuDU-uMaN"
      },
      "execution_count": null,
      "outputs": []
    },
    {
      "cell_type": "code",
      "source": [
        "max_words = 50000\n",
        "max_len = 300\n",
        "tokenizer = Tokenizer(num_words=max_words)\n",
        "tokenizer.fit_on_texts(x_train)\n",
        "sequences = tokenizer.texts_to_sequences(x_train)\n",
        "sequences_matrix = sequence.pad_sequences(sequences,maxlen=max_len)"
      ],
      "metadata": {
        "execution": {
          "iopub.status.busy": "2021-05-26T06:25:55.281383Z",
          "iopub.execute_input": "2021-05-26T06:25:55.281803Z",
          "iopub.status.idle": "2021-05-26T06:25:57.112782Z",
          "shell.execute_reply.started": "2021-05-26T06:25:55.281757Z",
          "shell.execute_reply": "2021-05-26T06:25:57.111581Z"
        },
        "trusted": true,
        "id": "7-QcJA0RuMaN"
      },
      "execution_count": null,
      "outputs": []
    },
    {
      "cell_type": "code",
      "source": [
        "model = Sequential()\n",
        "model.add(Embedding(max_words, 100, input_length=max_len))\n",
        "model.add(SpatialDropout1D(0.2))\n",
        "model.add(LSTM(100, dropout=0.2, recurrent_dropout=0.2))\n",
        "model.add(Dense(1, activation='sigmoid'))\n",
        "model.summary()\n",
        "model.compile(loss='binary_crossentropy',optimizer=RMSprop(),metrics=['accuracy'])"
      ],
      "metadata": {
        "execution": {
          "iopub.status.busy": "2021-05-26T06:25:57.114539Z",
          "iopub.execute_input": "2021-05-26T06:25:57.114976Z",
          "iopub.status.idle": "2021-05-26T06:26:02.380016Z",
          "shell.execute_reply.started": "2021-05-26T06:25:57.114928Z",
          "shell.execute_reply": "2021-05-26T06:26:02.378869Z"
        },
        "trusted": true,
        "id": "1U3PXRrkuMaN"
      },
      "execution_count": null,
      "outputs": []
    },
    {
      "cell_type": "code",
      "source": [
        "from keras.callbacks import EarlyStopping,ModelCheckpoint\n",
        "\n",
        "stop = EarlyStopping(\n",
        "    monitor='val_accuracy', \n",
        "    mode='max',\n",
        "    patience=5\n",
        ")\n",
        "\n",
        "checkpoint= ModelCheckpoint(\n",
        "    filepath='./',\n",
        "    save_weights_only=True,\n",
        "    monitor='val_accuracy',\n",
        "    mode='max',\n",
        "    save_best_only=True)"
      ],
      "metadata": {
        "execution": {
          "iopub.status.busy": "2021-05-26T06:26:02.382438Z",
          "iopub.execute_input": "2021-05-26T06:26:02.383Z",
          "iopub.status.idle": "2021-05-26T06:26:02.39147Z",
          "shell.execute_reply.started": "2021-05-26T06:26:02.382937Z",
          "shell.execute_reply": "2021-05-26T06:26:02.389498Z"
        },
        "trusted": true,
        "id": "PpHDSnwnuMaO"
      },
      "execution_count": null,
      "outputs": []
    },
    {
      "cell_type": "code",
      "source": [
        "history=model.fit(sequences_matrix,y_train,batch_size=1024,epochs=10,\n",
        "          validation_split=0.2,callbacks=[stop,checkpoint])"
      ],
      "metadata": {
        "execution": {
          "iopub.status.busy": "2021-05-26T06:26:02.393334Z",
          "iopub.execute_input": "2021-05-26T06:26:02.393925Z",
          "iopub.status.idle": "2021-05-26T06:37:24.494993Z",
          "shell.execute_reply.started": "2021-05-26T06:26:02.393875Z",
          "shell.execute_reply": "2021-05-26T06:37:24.493908Z"
        },
        "trusted": true,
        "id": "3RjpUbXwuMaO"
      },
      "execution_count": null,
      "outputs": []
    },
    {
      "cell_type": "code",
      "source": [
        "test_sequences = tokenizer.texts_to_sequences(x_test)\n",
        "test_sequences_matrix = sequence.pad_sequences(test_sequences,maxlen=max_len)"
      ],
      "metadata": {
        "execution": {
          "iopub.status.busy": "2021-05-26T06:37:28.426887Z",
          "iopub.execute_input": "2021-05-26T06:37:28.427307Z",
          "iopub.status.idle": "2021-05-26T06:37:28.756984Z",
          "shell.execute_reply.started": "2021-05-26T06:37:28.427255Z",
          "shell.execute_reply": "2021-05-26T06:37:28.755866Z"
        },
        "trusted": true,
        "id": "X6ngAm6KuMaO"
      },
      "execution_count": null,
      "outputs": []
    },
    {
      "cell_type": "code",
      "source": [
        "accr = model.evaluate(test_sequences_matrix,y_test)\n"
      ],
      "metadata": {
        "execution": {
          "iopub.status.busy": "2021-05-26T06:37:38.088959Z",
          "iopub.execute_input": "2021-05-26T06:37:38.089386Z",
          "iopub.status.idle": "2021-05-26T06:38:21.515007Z",
          "shell.execute_reply.started": "2021-05-26T06:37:38.089354Z",
          "shell.execute_reply": "2021-05-26T06:38:21.513891Z"
        },
        "trusted": true,
        "id": "00sJumZwuMaO"
      },
      "execution_count": null,
      "outputs": []
    },
    {
      "cell_type": "code",
      "source": [
        "lstm_prediction=model.predict(test_sequences_matrix)\n"
      ],
      "metadata": {
        "execution": {
          "iopub.status.busy": "2021-05-26T06:38:26.826898Z",
          "iopub.execute_input": "2021-05-26T06:38:26.827409Z",
          "iopub.status.idle": "2021-05-26T06:39:08.830382Z",
          "shell.execute_reply.started": "2021-05-26T06:38:26.827361Z",
          "shell.execute_reply": "2021-05-26T06:39:08.829004Z"
        },
        "trusted": true,
        "id": "KcBby98puMaO"
      },
      "execution_count": null,
      "outputs": []
    },
    {
      "cell_type": "code",
      "source": [
        "res=[]\n",
        "for prediction in lstm_prediction:\n",
        "    if prediction[0]<0.5:\n",
        "        res.append(0)\n",
        "    else:\n",
        "        res.append(1)"
      ],
      "metadata": {
        "execution": {
          "iopub.status.busy": "2021-05-26T06:40:23.379646Z",
          "iopub.execute_input": "2021-05-26T06:40:23.38009Z",
          "iopub.status.idle": "2021-05-26T06:40:23.439565Z",
          "shell.execute_reply.started": "2021-05-26T06:40:23.380058Z",
          "shell.execute_reply": "2021-05-26T06:40:23.438345Z"
        },
        "trusted": true,
        "id": "N3MY38obuMaP"
      },
      "execution_count": null,
      "outputs": []
    },
    {
      "cell_type": "code",
      "source": [
        "print(confusion_matrix(y_test,res))\n"
      ],
      "metadata": {
        "execution": {
          "iopub.status.busy": "2021-05-26T06:40:25.013102Z",
          "iopub.execute_input": "2021-05-26T06:40:25.013547Z",
          "iopub.status.idle": "2021-05-26T06:40:25.051071Z",
          "shell.execute_reply.started": "2021-05-26T06:40:25.013512Z",
          "shell.execute_reply": "2021-05-26T06:40:25.049724Z"
        },
        "trusted": true,
        "id": "vuixlyLbuMaP"
      },
      "execution_count": null,
      "outputs": []
    },
    {
      "cell_type": "code",
      "source": [
        "import pickle\n",
        "with open('tokenizer.pickle', 'wb') as handle:\n",
        "    pickle.dump(tokenizer, handle, protocol=pickle.HIGHEST_PROTOCOL)"
      ],
      "metadata": {
        "execution": {
          "iopub.status.busy": "2021-05-26T06:40:59.536654Z",
          "iopub.execute_input": "2021-05-26T06:40:59.53707Z",
          "iopub.status.idle": "2021-05-26T06:40:59.600123Z",
          "shell.execute_reply.started": "2021-05-26T06:40:59.537036Z",
          "shell.execute_reply": "2021-05-26T06:40:59.599205Z"
        },
        "trusted": true,
        "id": "q0v7Zn4KuMaP"
      },
      "execution_count": null,
      "outputs": []
    },
    {
      "cell_type": "code",
      "source": [
        "model.save(\"hate&abusive_model.h5\")"
      ],
      "metadata": {
        "execution": {
          "iopub.status.busy": "2021-05-26T06:42:24.156417Z",
          "iopub.execute_input": "2021-05-26T06:42:24.156841Z",
          "iopub.status.idle": "2021-05-26T06:42:24.301185Z",
          "shell.execute_reply.started": "2021-05-26T06:42:24.156806Z",
          "shell.execute_reply": "2021-05-26T06:42:24.300011Z"
        },
        "trusted": true,
        "id": "9mTC5rnDuMaP"
      },
      "execution_count": null,
      "outputs": []
    },
    {
      "cell_type": "code",
      "source": [
        "import keras"
      ],
      "metadata": {
        "execution": {
          "iopub.status.busy": "2021-05-26T06:47:10.217689Z",
          "iopub.execute_input": "2021-05-26T06:47:10.218122Z",
          "iopub.status.idle": "2021-05-26T06:47:10.22408Z",
          "shell.execute_reply.started": "2021-05-26T06:47:10.218086Z",
          "shell.execute_reply": "2021-05-26T06:47:10.222358Z"
        },
        "trusted": true,
        "id": "6yIc2CcCuMaP"
      },
      "execution_count": null,
      "outputs": []
    },
    {
      "cell_type": "code",
      "source": [
        "load_model=keras.models.load_model(\"./hate&abusive_model.h5\")\n",
        "with open('tokenizer.pickle', 'rb') as handle:\n",
        "    load_tokenizer = pickle.load(handle)"
      ],
      "metadata": {
        "execution": {
          "iopub.status.busy": "2021-05-26T07:45:21.069095Z",
          "iopub.execute_input": "2021-05-26T07:45:21.069747Z",
          "iopub.status.idle": "2021-05-26T07:45:21.460314Z",
          "shell.execute_reply.started": "2021-05-26T07:45:21.069695Z",
          "shell.execute_reply": "2021-05-26T07:45:21.458844Z"
        },
        "trusted": true,
        "id": "P6y2-Bi4uMaQ"
      },
      "execution_count": null,
      "outputs": []
    },
    {
      "cell_type": "code",
      "source": [
        "test = 'I hate my country'\n",
        "def clean_text(text):\n",
        "    print(text)\n",
        "    text = str(text).lower()\n",
        "    text = re.sub('\\[.*?\\]', '', text)\n",
        "    text = re.sub('https?://\\S+|www\\.\\S+', '', text)\n",
        "    text = re.sub('<.*?>+', '', text)\n",
        "    text = re.sub('[%s]' % re.escape(string.punctuation), '', text)\n",
        "    text = re.sub('\\n', '', text)\n",
        "    text = re.sub('\\w*\\d\\w*', '', text)\n",
        "    print(text)\n",
        "    text = [word for word in text.split(' ') if word not in stopword]\n",
        "    text=\" \".join(text)\n",
        "    text = [stemmer.stem(word) for word in text.split(' ')]\n",
        "    text=\" \".join(text)\n",
        "    return text\n",
        "test=[clean_text(test)]\n",
        "print(test)\n",
        "seq = load_tokenizer.texts_to_sequences(test)\n",
        "padded = sequence.pad_sequences(seq, maxlen=300)\n",
        "print(seq)\n",
        "pred = load_model.predict(padded)\n",
        "print(\"pred\", pred)\n",
        "if pred<0.5:\n",
        "    print(\"no hate\")\n",
        "else:\n",
        "    print(\"hate and abusive\")"
      ],
      "metadata": {
        "execution": {
          "iopub.status.busy": "2021-05-26T07:45:31.00901Z",
          "iopub.execute_input": "2021-05-26T07:45:31.00952Z",
          "iopub.status.idle": "2021-05-26T07:45:31.453167Z",
          "shell.execute_reply.started": "2021-05-26T07:45:31.009483Z",
          "shell.execute_reply": "2021-05-26T07:45:31.45202Z"
        },
        "trusted": true,
        "id": "OCbmPjvOuMaQ"
      },
      "execution_count": null,
      "outputs": []
    },
    {
      "cell_type": "code",
      "source": [
        "frame=[df_twitter,df_offensive]\n",
        "df2 = pd.concat(frame)\n"
      ],
      "metadata": {
        "execution": {
          "iopub.status.busy": "2021-05-26T07:10:09.756143Z",
          "iopub.execute_input": "2021-05-26T07:10:09.756576Z",
          "iopub.status.idle": "2021-05-26T07:10:09.767459Z",
          "shell.execute_reply.started": "2021-05-26T07:10:09.756542Z",
          "shell.execute_reply": "2021-05-26T07:10:09.766325Z"
        },
        "trusted": true,
        "id": "1EYUOtZJuMaQ"
      },
      "execution_count": null,
      "outputs": []
    },
    {
      "cell_type": "code",
      "source": [
        "df2.head()"
      ],
      "metadata": {
        "execution": {
          "iopub.status.busy": "2021-05-26T07:10:19.366949Z",
          "iopub.execute_input": "2021-05-26T07:10:19.36737Z",
          "iopub.status.idle": "2021-05-26T07:10:19.384832Z",
          "shell.execute_reply.started": "2021-05-26T07:10:19.367336Z",
          "shell.execute_reply": "2021-05-26T07:10:19.383743Z"
        },
        "trusted": true,
        "id": "m-sFor7zuMaQ"
      },
      "execution_count": null,
      "outputs": []
    },
    {
      "cell_type": "code",
      "source": [
        "REPLACE_BY_SPACE_RE = re.compile('[/(){}\\[\\]\\|@,;]')\n",
        "BAD_SYMBOLS_RE = re.compile('[^0-9a-z #+_]')\n",
        "STOPWORDS = set(stopwords.words('english'))\n",
        "\n",
        "def clean_text(text):\n",
        "\n",
        "    text = text.lower() \n",
        "    text = REPLACE_BY_SPACE_RE.sub(' ', text)\n",
        "    text = BAD_SYMBOLS_RE.sub('', text)  \n",
        "    text = text.replace('x', '')\n",
        "    text = ' '.join(word for word in text.split() if word not in STOPWORDS) \n",
        "    return text\n",
        "df2['tweet'] = df2['tweet'].apply(clean_text)\n"
      ],
      "metadata": {
        "execution": {
          "iopub.status.busy": "2021-05-26T07:12:02.540905Z",
          "iopub.execute_input": "2021-05-26T07:12:02.541522Z",
          "iopub.status.idle": "2021-05-26T07:12:03.135448Z",
          "shell.execute_reply.started": "2021-05-26T07:12:02.541436Z",
          "shell.execute_reply": "2021-05-26T07:12:03.134217Z"
        },
        "trusted": true,
        "id": "ldXESO77uMaQ"
      },
      "execution_count": null,
      "outputs": []
    },
    {
      "cell_type": "code",
      "source": [
        "df2.head(5)"
      ],
      "metadata": {
        "execution": {
          "iopub.status.busy": "2021-05-26T07:12:15.565596Z",
          "iopub.execute_input": "2021-05-26T07:12:15.566013Z",
          "iopub.status.idle": "2021-05-26T07:12:15.581933Z",
          "shell.execute_reply.started": "2021-05-26T07:12:15.565977Z",
          "shell.execute_reply": "2021-05-26T07:12:15.580119Z"
        },
        "trusted": true,
        "id": "4lLyhaS-uMaQ"
      },
      "execution_count": null,
      "outputs": []
    },
    {
      "cell_type": "code",
      "source": [
        "MAX_NB_WORDS = 50000\n",
        "MAX_SEQUENCE_LENGTH = 250\n",
        "EMBEDDING_DIM = 100\n",
        "tokenizer2 = Tokenizer(num_words=MAX_NB_WORDS, filters='!\"#$%&()*+,-./:;<=>?@[\\]^_`{|}~', lower=True)\n",
        "tokenizer2.fit_on_texts(df2['tweet'].values)\n",
        "word_index = tokenizer2.word_index\n",
        "print('Found %s unique tokens.' % len(word_index))"
      ],
      "metadata": {
        "execution": {
          "iopub.status.busy": "2021-05-26T07:15:05.382837Z",
          "iopub.execute_input": "2021-05-26T07:15:05.383262Z",
          "iopub.status.idle": "2021-05-26T07:15:06.905564Z",
          "shell.execute_reply.started": "2021-05-26T07:15:05.383229Z",
          "shell.execute_reply": "2021-05-26T07:15:06.896447Z"
        },
        "trusted": true,
        "id": "gDUEdLVCuMaR"
      },
      "execution_count": null,
      "outputs": []
    },
    {
      "cell_type": "code",
      "source": [
        "X = tokenizer2.texts_to_sequences(df2['tweet'].values)\n",
        "X = sequence.pad_sequences(X, maxlen=MAX_SEQUENCE_LENGTH)\n",
        "print('Shape of data tensor:', X.shape)"
      ],
      "metadata": {
        "execution": {
          "iopub.status.busy": "2021-05-26T07:15:53.934612Z",
          "iopub.execute_input": "2021-05-26T07:15:53.935023Z",
          "iopub.status.idle": "2021-05-26T07:15:55.615811Z",
          "shell.execute_reply.started": "2021-05-26T07:15:53.934988Z",
          "shell.execute_reply": "2021-05-26T07:15:55.614493Z"
        },
        "trusted": true,
        "id": "zGelYecuuMaR"
      },
      "execution_count": null,
      "outputs": []
    },
    {
      "cell_type": "code",
      "source": [
        "Y=df['label']"
      ],
      "metadata": {
        "execution": {
          "iopub.status.busy": "2021-05-26T07:16:34.148725Z",
          "iopub.execute_input": "2021-05-26T07:16:34.149373Z",
          "iopub.status.idle": "2021-05-26T07:16:34.158014Z",
          "shell.execute_reply.started": "2021-05-26T07:16:34.149329Z",
          "shell.execute_reply": "2021-05-26T07:16:34.156388Z"
        },
        "trusted": true,
        "id": "uP4b6SzHuMaR"
      },
      "execution_count": null,
      "outputs": []
    },
    {
      "cell_type": "code",
      "source": [
        "X_train, X_test, Y_train, Y_test = train_test_split(X,Y, test_size = 0.20, random_state = 42)\n",
        "print(X_train.shape,Y_train.shape)\n",
        "print(X_test.shape,Y_test.shape)"
      ],
      "metadata": {
        "execution": {
          "iopub.status.busy": "2021-05-26T07:21:25.128789Z",
          "iopub.execute_input": "2021-05-26T07:21:25.129224Z",
          "iopub.status.idle": "2021-05-26T07:21:25.175138Z",
          "shell.execute_reply.started": "2021-05-26T07:21:25.129189Z",
          "shell.execute_reply": "2021-05-26T07:21:25.173957Z"
        },
        "trusted": true,
        "id": "cMl89yxluMaR"
      },
      "execution_count": null,
      "outputs": []
    },
    {
      "cell_type": "code",
      "source": [
        "model2 = Sequential()\n",
        "model2.add(Embedding(MAX_NB_WORDS, EMBEDDING_DIM, input_length=X.shape[1]))\n",
        "model2.add(SpatialDropout1D(0.2))\n",
        "model2.add(LSTM(100, dropout=0.2, recurrent_dropout=0.2))\n",
        "model2.add(Dense(1, activation='sigmoid'))\n",
        "model2.compile(loss='binary_crossentropy',optimizer=RMSprop(),metrics=['accuracy'])\n",
        "\n",
        "epochs = 10\n",
        "batch_size = 1024\n",
        "\n",
        "history2 = model2.fit(X_train, Y_train, epochs=epochs,batch_size=batch_size,validation_split=0.2,callbacks=[stop,checkpoint])"
      ],
      "metadata": {
        "execution": {
          "iopub.status.busy": "2021-05-26T07:21:37.974193Z",
          "iopub.execute_input": "2021-05-26T07:21:37.974651Z",
          "iopub.status.idle": "2021-05-26T07:31:47.325518Z",
          "shell.execute_reply.started": "2021-05-26T07:21:37.974616Z",
          "shell.execute_reply": "2021-05-26T07:31:47.32388Z"
        },
        "trusted": true,
        "id": "ddcQ7SH6uMaR"
      },
      "execution_count": null,
      "outputs": []
    },
    {
      "cell_type": "code",
      "source": [
        "# test_sequences2 = tokenizer2.texts_to_sequences(X_test)\n",
        "# test_sequences_matrix2 = sequence.pad_sequences(test_sequences2,maxlen=MAX_SEQUENCE_LENGTH)\n",
        "accr = model2.evaluate(X_test,Y_test)\n"
      ],
      "metadata": {
        "execution": {
          "iopub.status.busy": "2021-05-26T07:35:34.198219Z",
          "iopub.execute_input": "2021-05-26T07:35:34.198707Z",
          "iopub.status.idle": "2021-05-26T07:36:04.610015Z",
          "shell.execute_reply.started": "2021-05-26T07:35:34.198671Z",
          "shell.execute_reply": "2021-05-26T07:36:04.60883Z"
        },
        "trusted": true,
        "id": "4PbYAlOGuMaR"
      },
      "execution_count": null,
      "outputs": []
    },
    {
      "cell_type": "code",
      "source": [
        "lstm_prediction2=model2.predict(X_test)\n",
        "print(lstm_prediction2[0:5])\n",
        "res2=[]\n",
        "for prediction in lstm_prediction2:\n",
        "    if prediction[0]<0.45:\n",
        "        res2.append(0)\n",
        "    else:\n",
        "        res2.append(1)"
      ],
      "metadata": {
        "execution": {
          "iopub.status.busy": "2021-05-26T08:01:03.341679Z",
          "iopub.execute_input": "2021-05-26T08:01:03.342106Z",
          "iopub.status.idle": "2021-05-26T08:01:32.174509Z",
          "shell.execute_reply.started": "2021-05-26T08:01:03.342063Z",
          "shell.execute_reply": "2021-05-26T08:01:32.173216Z"
        },
        "trusted": true,
        "id": "bzNWpcscuMaS"
      },
      "execution_count": null,
      "outputs": []
    },
    {
      "cell_type": "code",
      "source": [
        "Y_test[0:5]"
      ],
      "metadata": {
        "execution": {
          "iopub.status.busy": "2021-05-26T08:01:38.336163Z",
          "iopub.execute_input": "2021-05-26T08:01:38.336638Z",
          "iopub.status.idle": "2021-05-26T08:01:38.346342Z",
          "shell.execute_reply.started": "2021-05-26T08:01:38.336601Z",
          "shell.execute_reply": "2021-05-26T08:01:38.344753Z"
        },
        "trusted": true,
        "id": "aTqMPdRQuMaS"
      },
      "execution_count": null,
      "outputs": []
    },
    {
      "cell_type": "code",
      "source": [
        "print(confusion_matrix(Y_test,res2))\n"
      ],
      "metadata": {
        "execution": {
          "iopub.status.busy": "2021-05-26T08:01:43.790993Z",
          "iopub.execute_input": "2021-05-26T08:01:43.791412Z",
          "iopub.status.idle": "2021-05-26T08:01:43.822883Z",
          "shell.execute_reply.started": "2021-05-26T08:01:43.791377Z",
          "shell.execute_reply": "2021-05-26T08:01:43.821464Z"
        },
        "trusted": true,
        "id": "FkOgR7AFuMaS"
      },
      "execution_count": null,
      "outputs": []
    },
    {
      "cell_type": "code",
      "source": [
        "test = 'I hate this country'\n",
        "def clean_text(text):\n",
        "\n",
        "    text = text.lower() \n",
        "    text = REPLACE_BY_SPACE_RE.sub(' ', text)\n",
        "    text = BAD_SYMBOLS_RE.sub('', text)  \n",
        "    text = text.replace('x', '')\n",
        "    text = ' '.join(word for word in text.split() if word not in STOPWORDS) \n",
        "    return text\n",
        "test=[clean_text(test)]\n",
        "print(test)\n",
        "seq = tokenizer2.texts_to_sequences(test)\n",
        "padded = sequence.pad_sequences(seq, maxlen=250)\n",
        "print(seq)\n",
        "pred = model2.predict(padded)\n",
        "print(\"pred\", pred)\n",
        "if pred<0.45:\n",
        "    print(\"no hate\")\n",
        "else:\n",
        "    print(\"hate and abusive\")"
      ],
      "metadata": {
        "execution": {
          "iopub.status.busy": "2021-05-26T08:02:08.201777Z",
          "iopub.execute_input": "2021-05-26T08:02:08.202226Z",
          "iopub.status.idle": "2021-05-26T08:02:08.345036Z",
          "shell.execute_reply.started": "2021-05-26T08:02:08.202159Z",
          "shell.execute_reply": "2021-05-26T08:02:08.344127Z"
        },
        "trusted": true,
        "id": "p7W_qvUHuMaS"
      },
      "execution_count": null,
      "outputs": []
    }
  ]
}